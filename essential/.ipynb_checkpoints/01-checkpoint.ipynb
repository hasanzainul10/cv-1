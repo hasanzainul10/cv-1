{
 "cells": [
  {
   "cell_type": "code",
   "execution_count": null,
   "source": [],
   "outputs": [],
   "metadata": {}
  },
  {
   "cell_type": "markdown",
   "source": [
    "# Chapter 1\r\n"
   ],
   "metadata": {}
  },
  {
   "cell_type": "markdown",
   "source": [
    "# Introduction to Python Programming\r\n"
   ],
   "metadata": {}
  },
  {
   "cell_type": "markdown",
   "source": [
    "Why ***python***?. \r\n",
    "\r\n",
    "1. ***python*** is comparable to MATLAB and other scripting languages.\r\n",
    "2. ***python*** is comparable to Fortran and other programming languages.\r\n",
    "3. ***python*** contains all the scientific packages.\r\n",
    "4. ***python*** can create beautiful Charts (matplotlib, plotly).\r\n",
    "5. ***python*** can create Desktop App (Tk).\r\n",
    "6. ***python*** can create Web App (Flask, Django).\r\n",
    "7. ***python*** is for Data Science.\r\n",
    "8. ***python*** can create Machine learning App (Dash).\r\n",
    "9. ***python*** is **Free**.\r\n"
   ],
   "metadata": {}
  },
  {
   "cell_type": "markdown",
   "source": [
    "##\tInstallation of Python Integrated development environment \r\n"
   ],
   "metadata": {}
  },
  {
   "cell_type": "markdown",
   "source": [
    "## Python Installation"
   ],
   "metadata": {}
  },
  {
   "cell_type": "markdown",
   "source": [
    "### Installing Python"
   ],
   "metadata": {}
  },
  {
   "cell_type": "markdown",
   "source": [
    "Follow the steps below for ***python*** installation.  \r\n",
    "(Note: The ***python*** foundation can change the installation process for any platform (Windows, Mac, Linux))"
   ],
   "metadata": {}
  },
  {
   "cell_type": "markdown",
   "source": [
    "1. Download the ***Python*** 3.9.X (or latest) installer file, from **https://www.python.org/downloads/**\r\n",
    "2. Launch or extract the installer file\r\n",
    "2. Accept all the defaults.\r\n",
    "4. Make sure the installation is added to your **PATH**\r\n",
    "5. Verify installation by opening your cmd (command) window and type:\r\n",
    "\r\n",
    "    > *python -Version*  \r\n",
    "    \r\n",
    "    The response is below:  \r\n",
    "    \r\n",
    "    > Python 3.9.X\r\n",
    "    "
   ],
   "metadata": {}
  },
  {
   "cell_type": "markdown",
   "source": [
    "Congratulations for making it this far. ***Python*** is installed and ready for use."
   ],
   "metadata": {}
  },
  {
   "cell_type": "markdown",
   "source": [
    "## Coding Editor"
   ],
   "metadata": {}
  },
  {
   "cell_type": "markdown",
   "source": [
    "### Installing Jupyter Lab or Notebook"
   ],
   "metadata": {}
  },
  {
   "cell_type": "markdown",
   "source": [
    "To install Jupyter Lab open your cmd windows and type:"
   ],
   "metadata": {}
  },
  {
   "cell_type": "markdown",
   "source": [
    "> *pip install jupyterlab*"
   ],
   "metadata": {}
  },
  {
   "cell_type": "markdown",
   "source": [
    "### Open jupyter lab"
   ],
   "metadata": {}
  },
  {
   "cell_type": "markdown",
   "source": [
    "To open jupyter lab type in the cmd window: "
   ],
   "metadata": {}
  },
  {
   "cell_type": "markdown",
   "source": [
    "> *jupyter-lab*\r\n"
   ],
   "metadata": {}
  },
  {
   "cell_type": "markdown",
   "source": [
    "**Jupyter lab** will automatically open in your default browser."
   ],
   "metadata": {}
  },
  {
   "cell_type": "markdown",
   "source": [
    "From the right pane in the browser select the ***Python 3.* *** under the **Notebook** section.  \r\n",
    "An untitled.ipynb file will be created and open, see below."
   ],
   "metadata": {}
  },
  {
   "cell_type": "markdown",
   "source": [
    "Congratulations! again you have a *jupyter Notebook* opened for your coding exercises. "
   ],
   "metadata": {}
  },
  {
   "cell_type": "markdown",
   "source": [
    "If you need new Notebook file go to:\r\n",
    "> **File -> New -> Notebook**"
   ],
   "metadata": {}
  },
  {
   "cell_type": "markdown",
   "source": [
    "Please explore all the packages by going to their online documentation. This book is to get you started with python as fast as possible and solve some energy engineering problems encountered by the authors in course of research."
   ],
   "metadata": {}
  },
  {
   "cell_type": "markdown",
   "source": [
    "### Installing Visual Studio Code"
   ],
   "metadata": {}
  },
  {
   "cell_type": "markdown",
   "source": [
    "## Operators and Expressions"
   ],
   "metadata": {}
  },
  {
   "cell_type": "markdown",
   "source": [
    "### Calculator"
   ],
   "metadata": {}
  },
  {
   "cell_type": "code",
   "execution_count": 1,
   "source": [
    "2 + 3"
   ],
   "outputs": [
    {
     "output_type": "execute_result",
     "data": {
      "text/plain": [
       "5"
      ]
     },
     "metadata": {},
     "execution_count": 1
    }
   ],
   "metadata": {}
  },
  {
   "cell_type": "code",
   "execution_count": 4,
   "source": [
    "1 / 2"
   ],
   "outputs": [
    {
     "output_type": "execute_result",
     "data": {
      "text/plain": [
       "0.5"
      ]
     },
     "metadata": {},
     "execution_count": 4
    }
   ],
   "metadata": {}
  },
  {
   "cell_type": "code",
   "execution_count": 5,
   "source": [
    "5 / 2"
   ],
   "outputs": [
    {
     "output_type": "execute_result",
     "data": {
      "text/plain": [
       "2.5"
      ]
     },
     "metadata": {},
     "execution_count": 5
    }
   ],
   "metadata": {}
  },
  {
   "cell_type": "code",
   "execution_count": 6,
   "source": [
    "5 // 2"
   ],
   "outputs": [
    {
     "output_type": "execute_result",
     "data": {
      "text/plain": [
       "2"
      ]
     },
     "metadata": {},
     "execution_count": 6
    }
   ],
   "metadata": {}
  },
  {
   "cell_type": "code",
   "execution_count": 7,
   "source": [
    "5 * 2"
   ],
   "outputs": [
    {
     "output_type": "execute_result",
     "data": {
      "text/plain": [
       "10"
      ]
     },
     "metadata": {},
     "execution_count": 7
    }
   ],
   "metadata": {}
  },
  {
   "cell_type": "code",
   "execution_count": 8,
   "source": [
    "5 ** 2"
   ],
   "outputs": [
    {
     "output_type": "execute_result",
     "data": {
      "text/plain": [
       "25"
      ]
     },
     "metadata": {},
     "execution_count": 8
    }
   ],
   "metadata": {}
  },
  {
   "cell_type": "markdown",
   "source": [
    "## Variable  \r\n"
   ],
   "metadata": {}
  },
  {
   "cell_type": "code",
   "execution_count": 11,
   "source": [
    "sum = 5 * 2"
   ],
   "outputs": [],
   "metadata": {}
  },
  {
   "cell_type": "code",
   "execution_count": 12,
   "source": [
    "print(sum)"
   ],
   "outputs": [
    {
     "output_type": "stream",
     "name": "stdout",
     "text": [
      "10\n"
     ]
    }
   ],
   "metadata": {}
  },
  {
   "cell_type": "code",
   "execution_count": 14,
   "source": [
    "var1 = 5\r\n",
    "var2 = 2\r\n",
    "\r\n",
    "sum_of_var1_var2 = var1 + var2\r\n",
    "\r\n",
    "print(sum_of_var1_var2)"
   ],
   "outputs": [
    {
     "output_type": "stream",
     "name": "stdout",
     "text": [
      "7\n"
     ]
    }
   ],
   "metadata": {}
  },
  {
   "cell_type": "markdown",
   "source": [
    "## Identifier naming\r\n"
   ],
   "metadata": {}
  },
  {
   "cell_type": "code",
   "execution_count": 16,
   "source": [
    "a = 2\r\n",
    "b = 3.0\r\n",
    "c = -1.0\r\n",
    "print('a =', a)\r\n",
    "print('b =', b)\r\n",
    "print('c =', c)"
   ],
   "outputs": [
    {
     "output_type": "stream",
     "name": "stdout",
     "text": [
      "a = 2\n",
      "b = 3.0\n",
      "c = -1.0\n"
     ]
    }
   ],
   "metadata": {}
  }
 ],
 "metadata": {
  "orig_nbformat": 4,
  "language_info": {
   "name": "python",
   "version": "3.9.6",
   "mimetype": "text/x-python",
   "codemirror_mode": {
    "name": "ipython",
    "version": 3
   },
   "pygments_lexer": "ipython3",
   "nbconvert_exporter": "python",
   "file_extension": ".py"
  },
  "kernelspec": {
   "name": "python3",
   "display_name": "Python 3.9.6 64-bit"
  },
  "interpreter": {
   "hash": "c1a7846af735771808fbc8272134e7984cc669109ae413ca91ad8b74a534aa1b"
  }
 },
 "nbformat": 4,
 "nbformat_minor": 2
}