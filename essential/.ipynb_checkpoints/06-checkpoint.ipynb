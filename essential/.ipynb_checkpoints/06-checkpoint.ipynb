{
 "cells": [
  {
   "cell_type": "code",
   "execution_count": null,
   "source": [],
   "outputs": [],
   "metadata": {}
  },
  {
   "cell_type": "markdown",
   "source": [
    "# Chapter 6  \r\n"
   ],
   "metadata": {}
  },
  {
   "cell_type": "markdown",
   "source": [
    "# Advance Indexing and Numpy IO Operation  \r\n"
   ],
   "metadata": {}
  },
  {
   "cell_type": "code",
   "execution_count": 1,
   "source": [
    "!pip install -q numpy "
   ],
   "outputs": [],
   "metadata": {}
  },
  {
   "cell_type": "code",
   "execution_count": 2,
   "source": [
    "def array_properties(a):\r\n",
    "    print(\"a = \\n\", a)\r\n",
    "    print(\"dim = \", a.ndim)\r\n",
    "    print(\"shape = \", a.shape)\r\n",
    "    print(\"datatype = \", a.dtype)\r\n",
    "    print(\"size = \", a.size)\r\n",
    "    print()"
   ],
   "outputs": [],
   "metadata": {}
  },
  {
   "cell_type": "markdown",
   "source": [
    "## Array slicing  \r\n"
   ],
   "metadata": {}
  },
  {
   "cell_type": "markdown",
   "source": [
    "### 1D"
   ],
   "metadata": {}
  },
  {
   "cell_type": "code",
   "execution_count": 24,
   "source": [
    "import numpy as np\r\n",
    "\r\n",
    "a1 = np.arange(9) \r\n",
    "\r\n",
    "array_properties(a1)\r\n",
    "\r\n",
    "print('Elements from first:', a1[0])\r\n",
    "print('Elements from first:', a1[-9])\r\n",
    "print('Elements from last:', a1[-1])\r\n",
    "print('Elements from last:', a1[8])\r\n"
   ],
   "outputs": [
    {
     "output_type": "stream",
     "name": "stdout",
     "text": [
      "a = \n",
      " [0 1 2 3 4 5 6 7 8]\n",
      "dim =  1\n",
      "shape =  (9,)\n",
      "datatype =  int32\n",
      "size =  9\n",
      "\n",
      "Elements from first: 0\n",
      "Elements from first: 0\n",
      "Elements from last: 8\n",
      "Elements from last: 8\n"
     ]
    }
   ],
   "metadata": {}
  },
  {
   "cell_type": "code",
   "execution_count": 25,
   "source": [
    "\r\n",
    "print('Elements from first to last:', a1[0:9])\r\n",
    "print('Elements from first to last:', a1[0:])\r\n",
    "print('Elements from first to last:', a1[:])\r\n"
   ],
   "outputs": [
    {
     "output_type": "stream",
     "name": "stdout",
     "text": [
      "Elements from first to last: [0 1 2 3 4 5 6 7 8]\n",
      "Elements from first to last: [0 1 2 3 4 5 6 7 8]\n",
      "Elements from first to last: [0 1 2 3 4 5 6 7 8]\n"
     ]
    }
   ],
   "metadata": {}
  },
  {
   "cell_type": "code",
   "execution_count": 26,
   "source": [
    "print('Elements from index 1 to 6:', a1[1:6])\r\n",
    "print('Elements from index 1 to 6:', a1[1:-3])\r\n",
    "print('Elements from index 1 to 6:', a1[-8:-3])\r\n"
   ],
   "outputs": [
    {
     "output_type": "stream",
     "name": "stdout",
     "text": [
      "Elements from index 1 to 6: [1 2 3 4 5]\n",
      "Elements from index 1 to 6: [1 2 3 4 5]\n",
      "Elements from index 1 to 6: [1 2 3 4 5]\n"
     ]
    }
   ],
   "metadata": {}
  },
  {
   "cell_type": "code",
   "execution_count": 28,
   "source": [
    "print('Even index Elements:', a1[::2])\r\n",
    "print('Odd index Elements:', a1[1::2])\r\n"
   ],
   "outputs": [
    {
     "output_type": "stream",
     "name": "stdout",
     "text": [
      "Even index Elements: [0 2 4 6 8]\n",
      "Odd index Elements: [1 3 5 7]\n"
     ]
    }
   ],
   "metadata": {}
  },
  {
   "cell_type": "markdown",
   "source": [
    "### 2D"
   ],
   "metadata": {}
  },
  {
   "cell_type": "code",
   "execution_count": 34,
   "source": [
    "import numpy as np\r\n",
    "\r\n",
    "a2 = np.arange(1,17).reshape(4,4) \r\n",
    "\r\n",
    "array_properties(a2)\r\n",
    "\r\n",
    "print('Elements from first:', a2[0,0])\r\n",
    "print('Elements from last:', a2[3,3])\r\n"
   ],
   "outputs": [
    {
     "output_type": "stream",
     "name": "stdout",
     "text": [
      "a = \n",
      " [[ 1  2  3  4]\n",
      " [ 5  6  7  8]\n",
      " [ 9 10 11 12]\n",
      " [13 14 15 16]]\n",
      "dim =  2\n",
      "shape =  (4, 4)\n",
      "datatype =  int32\n",
      "size =  16\n",
      "\n",
      "Elements from first: 1\n",
      "Elements from last: 16\n"
     ]
    }
   ],
   "metadata": {}
  },
  {
   "cell_type": "code",
   "execution_count": 37,
   "source": [
    "print('Elements in first row:', a2[0,0:4])\r\n",
    "print('Elements in first row:', a2[0,:4])\r\n",
    "print('Elements in first row:', a2[0,0:])\r\n",
    "print('Elements in first row:', a2[0,:])\r\n",
    "print('Elements in first row:', a2[0])"
   ],
   "outputs": [
    {
     "output_type": "stream",
     "name": "stdout",
     "text": [
      "Elements in first row: [1 2 3 4]\n",
      "Elements in first row: [1 2 3 4]\n",
      "Elements in first row: [1 2 3 4]\n",
      "Elements in first row: [1 2 3 4]\n",
      "Elements in first row: [1 2 3 4]\n"
     ]
    }
   ],
   "metadata": {}
  },
  {
   "cell_type": "code",
   "execution_count": 38,
   "source": [
    "print('Elements in last row:', a2[3,0:4])\r\n",
    "print('Elements in first row:', a2[3,:4])\r\n",
    "print('Elements in first row:', a2[3,0:])\r\n",
    "print('Elements in first row:', a2[3,:])\r\n",
    "print('Elements in first row:', a2[3])"
   ],
   "outputs": [
    {
     "output_type": "stream",
     "name": "stdout",
     "text": [
      "Elements in last row: [13 14 15 16]\n",
      "Elements in first row: [13 14 15 16]\n",
      "Elements in first row: [13 14 15 16]\n",
      "Elements in first row: [13 14 15 16]\n",
      "Elements in first row: [13 14 15 16]\n"
     ]
    }
   ],
   "metadata": {}
  },
  {
   "cell_type": "code",
   "execution_count": 43,
   "source": [
    "array_properties(a2)\r\n",
    "\r\n",
    "print('Elements in rows 2 to 3 and columns 2 to 3:\\n', a2[1:3,1:3])"
   ],
   "outputs": [
    {
     "output_type": "stream",
     "name": "stdout",
     "text": [
      "a = \n",
      " [[ 1  2  3  4]\n",
      " [ 5  6  7  8]\n",
      " [ 9 10 11 12]\n",
      " [13 14 15 16]]\n",
      "dim =  2\n",
      "shape =  (4, 4)\n",
      "datatype =  int32\n",
      "size =  16\n",
      "\n",
      "Elements in rows 2 to 3 and columns 2 to 3:\n",
      " [[ 6  7]\n",
      " [10 11]]\n"
     ]
    }
   ],
   "metadata": {}
  },
  {
   "cell_type": "markdown",
   "source": [
    "## Boolen and integer indexing \r\n",
    "\r\n"
   ],
   "metadata": {}
  },
  {
   "cell_type": "code",
   "execution_count": 46,
   "source": [
    "import numpy as np\r\n",
    "\r\n",
    "a1 = np.arange(9) \r\n",
    "\r\n",
    "array_properties(a1)\r\n",
    "\r\n",
    "print('Odd index Elements:', a1[1::2])\r\n",
    "print('Even index Elements:', a1[::2])"
   ],
   "outputs": [
    {
     "output_type": "stream",
     "name": "stdout",
     "text": [
      "a = \n",
      " [0 1 2 3 4 5 6 7 8]\n",
      "dim =  1\n",
      "shape =  (9,)\n",
      "datatype =  int32\n",
      "size =  9\n",
      "\n",
      "Odd index Elements: [1 3 5 7]\n",
      "Even index Elements: [0 2 4 6 8]\n"
     ]
    }
   ],
   "metadata": {}
  },
  {
   "cell_type": "code",
   "execution_count": 52,
   "source": [
    "i_odd = np.array([1,3,5,7])\r\n",
    "\r\n",
    "bool_odd = np.array([False, True,False, True,False, True,False, True,False])\r\n",
    "\r\n",
    "print('Odd index Elements:', a1[1::2])\r\n",
    "print('Odd index Elements:', a1[i_odd])\r\n",
    "print('Odd index Elements:', a1[bool_odd])\r\n"
   ],
   "outputs": [
    {
     "output_type": "stream",
     "name": "stdout",
     "text": [
      "Odd index Elements: [1 3 5 7]\n",
      "Odd index Elements: [1 3 5 7]\n",
      "Odd index Elements: [1 3 5 7]\n"
     ]
    }
   ],
   "metadata": {}
  },
  {
   "cell_type": "code",
   "execution_count": 145,
   "source": [
    "import numpy as np\r\n",
    "\r\n",
    "a2 = np.arange(1,17).reshape(4,4) \r\n",
    "\r\n",
    "array_properties(a2)\r\n",
    "\r\n",
    "print('Elements in rows 2 to 3 and columns 2 to 3:\\n', a2[1:3,1:3])\r\n"
   ],
   "outputs": [
    {
     "output_type": "stream",
     "name": "stdout",
     "text": [
      "a = \n",
      " [[ 1  2  3  4]\n",
      " [ 5  6  7  8]\n",
      " [ 9 10 11 12]\n",
      " [13 14 15 16]]\n",
      "dim =  2\n",
      "shape =  (4, 4)\n",
      "datatype =  int32\n",
      "size =  16\n",
      "\n",
      "Elements in rows 2 to 3 and columns 2 to 3:\n",
      " [[ 6  7]\n",
      " [10 11]]\n"
     ]
    }
   ],
   "metadata": {}
  },
  {
   "cell_type": "code",
   "execution_count": 152,
   "source": [
    "i = np.array([[1,1],[2,2]])\r\n",
    "j = np.array([[1,2],[1,2]])\r\n",
    "print('Elements in i:\\n', a2[i])\r\n",
    "print('Elements in j:\\n', a2[:,j])\r\n",
    "print('Elements in rows 2 to 3 and columns 2 to 3:\\n', a2[i,j])\r\n"
   ],
   "outputs": [
    {
     "output_type": "stream",
     "name": "stdout",
     "text": [
      "Elements in i:\n",
      " [[[ 5  6  7  8]\n",
      "  [ 5  6  7  8]]\n",
      "\n",
      " [[ 9 10 11 12]\n",
      "  [ 9 10 11 12]]]\n",
      "Elements in j:\n",
      " [[[ 2  3]\n",
      "  [ 2  3]]\n",
      "\n",
      " [[ 6  7]\n",
      "  [ 6  7]]\n",
      "\n",
      " [[10 11]\n",
      "  [10 11]]\n",
      "\n",
      " [[14 15]\n",
      "  [14 15]]]\n",
      "Elements in rows 2 to 3 and columns 2 to 3:\n",
      " [[ 6  7]\n",
      " [10 11]]\n"
     ]
    }
   ],
   "metadata": {}
  },
  {
   "cell_type": "code",
   "execution_count": 153,
   "source": [
    "\r\n",
    "i = np.array([[1],[2]])\r\n",
    "j = np.array([[1,2]])\r\n",
    "print('Elements in i:\\n', a2[i])\r\n",
    "print('Elements in j:\\n', a2[:,j])\r\n",
    "print('Elements in rows 2 to 3 and columns 2 to 3:\\n', a2[i,j])\r\n",
    "\r\n"
   ],
   "outputs": [
    {
     "output_type": "stream",
     "name": "stdout",
     "text": [
      "Elements in i:\n",
      " [[[ 5  6  7  8]]\n",
      "\n",
      " [[ 9 10 11 12]]]\n",
      "Elements in j:\n",
      " [[[ 2  3]]\n",
      "\n",
      " [[ 6  7]]\n",
      "\n",
      " [[10 11]]\n",
      "\n",
      " [[14 15]]]\n",
      "Elements in rows 2 to 3 and columns 2 to 3:\n",
      " [[ 6  7]\n",
      " [10 11]]\n"
     ]
    }
   ],
   "metadata": {}
  },
  {
   "cell_type": "code",
   "execution_count": 154,
   "source": [
    "a2_c = np.full_like(a2,-100)\r\n",
    "array_properties(a2_c)\r\n",
    "\r\n",
    "a2_c[1:3,1:3] = a2[1:3,1:3]\r\n",
    "print(a2_c)\r\n",
    "\r\n",
    "print()\r\n",
    "\r\n",
    "a2_bool = a2_c == a2\r\n",
    "print(a2_bool)\r\n",
    "\r\n",
    "print('Elements in rows 2 to 3 and columns 2 to 3:\\n', a2[a2_bool])\r\n"
   ],
   "outputs": [
    {
     "output_type": "stream",
     "name": "stdout",
     "text": [
      "a = \n",
      " [[-100 -100 -100 -100]\n",
      " [-100 -100 -100 -100]\n",
      " [-100 -100 -100 -100]\n",
      " [-100 -100 -100 -100]]\n",
      "dim =  2\n",
      "shape =  (4, 4)\n",
      "datatype =  int32\n",
      "size =  16\n",
      "\n",
      "[[-100 -100 -100 -100]\n",
      " [-100    6    7 -100]\n",
      " [-100   10   11 -100]\n",
      " [-100 -100 -100 -100]]\n",
      "\n",
      "[[False False False False]\n",
      " [False  True  True False]\n",
      " [False  True  True False]\n",
      " [False False False False]]\n",
      "Elements in rows 2 to 3 and columns 2 to 3:\n",
      " [ 6  7 10 11]\n"
     ]
    }
   ],
   "metadata": {}
  },
  {
   "cell_type": "code",
   "execution_count": 161,
   "source": [
    "b1 = np.array([False, True, True, False])\r\n",
    "b2 = np.array([False, True, True, False])\r\n",
    "\r\n",
    "print('Elements in b1:\\n', a2[b1])\r\n",
    "print('Elements in b2:\\n', a2[:,b2])\r\n",
    "print('Elements in b1,b2:\\n', a2[b1,b2])\r\n"
   ],
   "outputs": [
    {
     "output_type": "stream",
     "name": "stdout",
     "text": [
      "Elements in b1:\n",
      " [[ 5  6  7  8]\n",
      " [ 9 10 11 12]]\n",
      "Elements in b2:\n",
      " [[ 2  3]\n",
      " [ 6  7]\n",
      " [10 11]\n",
      " [14 15]]\n",
      "Elements in b1,b2:\n",
      " [ 6 11]\n"
     ]
    }
   ],
   "metadata": {}
  },
  {
   "cell_type": "markdown",
   "source": [
    "## Working with 3D"
   ],
   "metadata": {}
  },
  {
   "cell_type": "code",
   "execution_count": 162,
   "source": [
    "import numpy as np\r\n",
    "\r\n",
    "a3 = np.random.randint(0,256,(10,10,3),dtype=np.uint8)\r\n",
    "array_properties(a3)"
   ],
   "outputs": [
    {
     "output_type": "stream",
     "name": "stdout",
     "text": [
      "a = \n",
      " [[[130  51  97]\n",
      "  [227 225 100]\n",
      "  [ 86 186 248]\n",
      "  [141 232 255]\n",
      "  [112  99  34]\n",
      "  [ 32 126  50]\n",
      "  [236 113 243]\n",
      "  [211 129  15]\n",
      "  [144  97 154]\n",
      "  [179  55  38]]\n",
      "\n",
      " [[155 168  61]\n",
      "  [223 225 114]\n",
      "  [ 26 195 234]\n",
      "  [ 62 100 125]\n",
      "  [ 30 249  52]\n",
      "  [111 255  12]\n",
      "  [158 124   5]\n",
      "  [  6  74 139]\n",
      "  [ 85  13  28]\n",
      "  [113 145 114]]\n",
      "\n",
      " [[175 185  71]\n",
      "  [168 184  21]\n",
      "  [ 41 249  19]\n",
      "  [130  57  83]\n",
      "  [182 194  32]\n",
      "  [110 208   8]\n",
      "  [115  54 250]\n",
      "  [235 144 197]\n",
      "  [ 55  79  38]\n",
      "  [121  82  64]]\n",
      "\n",
      " [[234  63  94]\n",
      "  [242 103 185]\n",
      "  [244 239 239]\n",
      "  [ 21  13  93]\n",
      "  [ 77   0 184]\n",
      "  [ 98  32 135]\n",
      "  [ 67  37  88]\n",
      "  [ 66  17  57]\n",
      "  [101  68 130]\n",
      "  [117 138 125]]\n",
      "\n",
      " [[ 26 107 190]\n",
      "  [120 120 141]\n",
      "  [135 117 208]\n",
      "  [ 92  81   1]\n",
      "  [104 119 158]\n",
      "  [190 250  90]\n",
      "  [ 37  15 119]\n",
      "  [193  64  87]\n",
      "  [195  24 216]\n",
      "  [150 117 143]]\n",
      "\n",
      " [[ 73 171  72]\n",
      "  [225 171 113]\n",
      "  [158 105  16]\n",
      "  [239 243 165]\n",
      "  [128 137 203]\n",
      "  [163   1 215]\n",
      "  [253  17 215]\n",
      "  [206 210  82]\n",
      "  [154  65  46]\n",
      "  [231  24 107]]\n",
      "\n",
      " [[170 175 130]\n",
      "  [ 51 131 194]\n",
      "  [206  71 220]\n",
      "  [143 227  95]\n",
      "  [ 82  33 255]\n",
      "  [201 116 246]\n",
      "  [ 76 165 111]\n",
      "  [ 63 130 178]\n",
      "  [148 154 228]\n",
      "  [114  57 120]]\n",
      "\n",
      " [[ 44  47 189]\n",
      "  [ 41 198 145]\n",
      "  [ 64  89 173]\n",
      "  [178 150 146]\n",
      "  [194  60 209]\n",
      "  [153 242   7]\n",
      "  [214 132 252]\n",
      "  [129 173 222]\n",
      "  [ 16 179 104]\n",
      "  [218 140 112]]\n",
      "\n",
      " [[  0  74 128]\n",
      "  [102 240 126]\n",
      "  [131 217 216]\n",
      "  [ 44   9 117]\n",
      "  [202 203 107]\n",
      "  [116  12  87]\n",
      "  [232 151 227]\n",
      "  [216 105  95]\n",
      "  [ 99 136 107]\n",
      "  [ 12  69 219]]\n",
      "\n",
      " [[247  64  95]\n",
      "  [188 120 154]\n",
      "  [ 77 199 104]\n",
      "  [237 232 249]\n",
      "  [102 185  37]\n",
      "  [210 186  84]\n",
      "  [213  45 144]\n",
      "  [162 217 128]\n",
      "  [ 76  16 140]\n",
      "  [249 189   9]]]\n",
      "dim =  3\n",
      "shape =  (10, 10, 3)\n",
      "datatype =  uint8\n",
      "size =  300\n",
      "\n"
     ]
    }
   ],
   "metadata": {}
  },
  {
   "cell_type": "code",
   "execution_count": 169,
   "source": [
    "b = a3[:,:,0]\r\n",
    "array_properties(b)"
   ],
   "outputs": [
    {
     "output_type": "stream",
     "name": "stdout",
     "text": [
      "a = \n",
      " [[130 227  86 141 112  32 236 211 144 179]\n",
      " [155 223  26  62  30 111 158   6  85 113]\n",
      " [175 168  41 130 182 110 115 235  55 121]\n",
      " [234 242 244  21  77  98  67  66 101 117]\n",
      " [ 26 120 135  92 104 190  37 193 195 150]\n",
      " [ 73 225 158 239 128 163 253 206 154 231]\n",
      " [170  51 206 143  82 201  76  63 148 114]\n",
      " [ 44  41  64 178 194 153 214 129  16 218]\n",
      " [  0 102 131  44 202 116 232 216  99  12]\n",
      " [247 188  77 237 102 210 213 162  76 249]]\n",
      "dim =  2\n",
      "shape =  (10, 10)\n",
      "datatype =  uint8\n",
      "size =  100\n",
      "\n"
     ]
    }
   ],
   "metadata": {}
  },
  {
   "cell_type": "code",
   "execution_count": 170,
   "source": [
    "g = a3[:,:,1]\r\n",
    "array_properties(g)"
   ],
   "outputs": [
    {
     "output_type": "stream",
     "name": "stdout",
     "text": [
      "a = \n",
      " [[ 51 225 186 232  99 126 113 129  97  55]\n",
      " [168 225 195 100 249 255 124  74  13 145]\n",
      " [185 184 249  57 194 208  54 144  79  82]\n",
      " [ 63 103 239  13   0  32  37  17  68 138]\n",
      " [107 120 117  81 119 250  15  64  24 117]\n",
      " [171 171 105 243 137   1  17 210  65  24]\n",
      " [175 131  71 227  33 116 165 130 154  57]\n",
      " [ 47 198  89 150  60 242 132 173 179 140]\n",
      " [ 74 240 217   9 203  12 151 105 136  69]\n",
      " [ 64 120 199 232 185 186  45 217  16 189]]\n",
      "dim =  2\n",
      "shape =  (10, 10)\n",
      "datatype =  uint8\n",
      "size =  100\n",
      "\n"
     ]
    }
   ],
   "metadata": {}
  },
  {
   "cell_type": "code",
   "execution_count": 171,
   "source": [
    "r = a3[:,:,2]\r\n",
    "array_properties(r)"
   ],
   "outputs": [
    {
     "output_type": "stream",
     "name": "stdout",
     "text": [
      "a = \n",
      " [[ 97 100 248 255  34  50 243  15 154  38]\n",
      " [ 61 114 234 125  52  12   5 139  28 114]\n",
      " [ 71  21  19  83  32   8 250 197  38  64]\n",
      " [ 94 185 239  93 184 135  88  57 130 125]\n",
      " [190 141 208   1 158  90 119  87 216 143]\n",
      " [ 72 113  16 165 203 215 215  82  46 107]\n",
      " [130 194 220  95 255 246 111 178 228 120]\n",
      " [189 145 173 146 209   7 252 222 104 112]\n",
      " [128 126 216 117 107  87 227  95 107 219]\n",
      " [ 95 154 104 249  37  84 144 128 140   9]]\n",
      "dim =  2\n",
      "shape =  (10, 10)\n",
      "datatype =  uint8\n",
      "size =  100\n",
      "\n"
     ]
    }
   ],
   "metadata": {}
  },
  {
   "cell_type": "markdown",
   "source": [
    "### Ravel"
   ],
   "metadata": {}
  },
  {
   "cell_type": "code",
   "execution_count": 172,
   "source": [
    "a3_rav = np.ravel(a3)\r\n",
    "\r\n",
    "array_properties(a3_rav)"
   ],
   "outputs": [
    {
     "output_type": "stream",
     "name": "stdout",
     "text": [
      "a = \n",
      " [130  51  97 227 225 100  86 186 248 141 232 255 112  99  34  32 126  50\n",
      " 236 113 243 211 129  15 144  97 154 179  55  38 155 168  61 223 225 114\n",
      "  26 195 234  62 100 125  30 249  52 111 255  12 158 124   5   6  74 139\n",
      "  85  13  28 113 145 114 175 185  71 168 184  21  41 249  19 130  57  83\n",
      " 182 194  32 110 208   8 115  54 250 235 144 197  55  79  38 121  82  64\n",
      " 234  63  94 242 103 185 244 239 239  21  13  93  77   0 184  98  32 135\n",
      "  67  37  88  66  17  57 101  68 130 117 138 125  26 107 190 120 120 141\n",
      " 135 117 208  92  81   1 104 119 158 190 250  90  37  15 119 193  64  87\n",
      " 195  24 216 150 117 143  73 171  72 225 171 113 158 105  16 239 243 165\n",
      " 128 137 203 163   1 215 253  17 215 206 210  82 154  65  46 231  24 107\n",
      " 170 175 130  51 131 194 206  71 220 143 227  95  82  33 255 201 116 246\n",
      "  76 165 111  63 130 178 148 154 228 114  57 120  44  47 189  41 198 145\n",
      "  64  89 173 178 150 146 194  60 209 153 242   7 214 132 252 129 173 222\n",
      "  16 179 104 218 140 112   0  74 128 102 240 126 131 217 216  44   9 117\n",
      " 202 203 107 116  12  87 232 151 227 216 105  95  99 136 107  12  69 219\n",
      " 247  64  95 188 120 154  77 199 104 237 232 249 102 185  37 210 186  84\n",
      " 213  45 144 162 217 128  76  16 140 249 189   9]\n",
      "dim =  1\n",
      "shape =  (300,)\n",
      "datatype =  uint8\n",
      "size =  300\n",
      "\n"
     ]
    }
   ],
   "metadata": {}
  },
  {
   "cell_type": "markdown",
   "source": [
    "### Reshape"
   ],
   "metadata": {}
  },
  {
   "cell_type": "code",
   "execution_count": 174,
   "source": [
    "a3_shp = a3_rav.reshape(10,10,3)\r\n",
    "\r\n",
    "array_properties(a3_shp)"
   ],
   "outputs": [
    {
     "output_type": "stream",
     "name": "stdout",
     "text": [
      "a = \n",
      " [[[130  51  97]\n",
      "  [227 225 100]\n",
      "  [ 86 186 248]\n",
      "  [141 232 255]\n",
      "  [112  99  34]\n",
      "  [ 32 126  50]\n",
      "  [236 113 243]\n",
      "  [211 129  15]\n",
      "  [144  97 154]\n",
      "  [179  55  38]]\n",
      "\n",
      " [[155 168  61]\n",
      "  [223 225 114]\n",
      "  [ 26 195 234]\n",
      "  [ 62 100 125]\n",
      "  [ 30 249  52]\n",
      "  [111 255  12]\n",
      "  [158 124   5]\n",
      "  [  6  74 139]\n",
      "  [ 85  13  28]\n",
      "  [113 145 114]]\n",
      "\n",
      " [[175 185  71]\n",
      "  [168 184  21]\n",
      "  [ 41 249  19]\n",
      "  [130  57  83]\n",
      "  [182 194  32]\n",
      "  [110 208   8]\n",
      "  [115  54 250]\n",
      "  [235 144 197]\n",
      "  [ 55  79  38]\n",
      "  [121  82  64]]\n",
      "\n",
      " [[234  63  94]\n",
      "  [242 103 185]\n",
      "  [244 239 239]\n",
      "  [ 21  13  93]\n",
      "  [ 77   0 184]\n",
      "  [ 98  32 135]\n",
      "  [ 67  37  88]\n",
      "  [ 66  17  57]\n",
      "  [101  68 130]\n",
      "  [117 138 125]]\n",
      "\n",
      " [[ 26 107 190]\n",
      "  [120 120 141]\n",
      "  [135 117 208]\n",
      "  [ 92  81   1]\n",
      "  [104 119 158]\n",
      "  [190 250  90]\n",
      "  [ 37  15 119]\n",
      "  [193  64  87]\n",
      "  [195  24 216]\n",
      "  [150 117 143]]\n",
      "\n",
      " [[ 73 171  72]\n",
      "  [225 171 113]\n",
      "  [158 105  16]\n",
      "  [239 243 165]\n",
      "  [128 137 203]\n",
      "  [163   1 215]\n",
      "  [253  17 215]\n",
      "  [206 210  82]\n",
      "  [154  65  46]\n",
      "  [231  24 107]]\n",
      "\n",
      " [[170 175 130]\n",
      "  [ 51 131 194]\n",
      "  [206  71 220]\n",
      "  [143 227  95]\n",
      "  [ 82  33 255]\n",
      "  [201 116 246]\n",
      "  [ 76 165 111]\n",
      "  [ 63 130 178]\n",
      "  [148 154 228]\n",
      "  [114  57 120]]\n",
      "\n",
      " [[ 44  47 189]\n",
      "  [ 41 198 145]\n",
      "  [ 64  89 173]\n",
      "  [178 150 146]\n",
      "  [194  60 209]\n",
      "  [153 242   7]\n",
      "  [214 132 252]\n",
      "  [129 173 222]\n",
      "  [ 16 179 104]\n",
      "  [218 140 112]]\n",
      "\n",
      " [[  0  74 128]\n",
      "  [102 240 126]\n",
      "  [131 217 216]\n",
      "  [ 44   9 117]\n",
      "  [202 203 107]\n",
      "  [116  12  87]\n",
      "  [232 151 227]\n",
      "  [216 105  95]\n",
      "  [ 99 136 107]\n",
      "  [ 12  69 219]]\n",
      "\n",
      " [[247  64  95]\n",
      "  [188 120 154]\n",
      "  [ 77 199 104]\n",
      "  [237 232 249]\n",
      "  [102 185  37]\n",
      "  [210 186  84]\n",
      "  [213  45 144]\n",
      "  [162 217 128]\n",
      "  [ 76  16 140]\n",
      "  [249 189   9]]]\n",
      "dim =  3\n",
      "shape =  (10, 10, 3)\n",
      "datatype =  uint8\n",
      "size =  300\n",
      "\n"
     ]
    }
   ],
   "metadata": {}
  },
  {
   "cell_type": "code",
   "execution_count": 175,
   "source": [
    "a3_shp = a3_rav.reshape(10,-1,3)\r\n",
    "\r\n",
    "array_properties(a3_shp)"
   ],
   "outputs": [
    {
     "output_type": "stream",
     "name": "stdout",
     "text": [
      "a = \n",
      " [[[130  51  97]\n",
      "  [227 225 100]\n",
      "  [ 86 186 248]\n",
      "  [141 232 255]\n",
      "  [112  99  34]\n",
      "  [ 32 126  50]\n",
      "  [236 113 243]\n",
      "  [211 129  15]\n",
      "  [144  97 154]\n",
      "  [179  55  38]]\n",
      "\n",
      " [[155 168  61]\n",
      "  [223 225 114]\n",
      "  [ 26 195 234]\n",
      "  [ 62 100 125]\n",
      "  [ 30 249  52]\n",
      "  [111 255  12]\n",
      "  [158 124   5]\n",
      "  [  6  74 139]\n",
      "  [ 85  13  28]\n",
      "  [113 145 114]]\n",
      "\n",
      " [[175 185  71]\n",
      "  [168 184  21]\n",
      "  [ 41 249  19]\n",
      "  [130  57  83]\n",
      "  [182 194  32]\n",
      "  [110 208   8]\n",
      "  [115  54 250]\n",
      "  [235 144 197]\n",
      "  [ 55  79  38]\n",
      "  [121  82  64]]\n",
      "\n",
      " [[234  63  94]\n",
      "  [242 103 185]\n",
      "  [244 239 239]\n",
      "  [ 21  13  93]\n",
      "  [ 77   0 184]\n",
      "  [ 98  32 135]\n",
      "  [ 67  37  88]\n",
      "  [ 66  17  57]\n",
      "  [101  68 130]\n",
      "  [117 138 125]]\n",
      "\n",
      " [[ 26 107 190]\n",
      "  [120 120 141]\n",
      "  [135 117 208]\n",
      "  [ 92  81   1]\n",
      "  [104 119 158]\n",
      "  [190 250  90]\n",
      "  [ 37  15 119]\n",
      "  [193  64  87]\n",
      "  [195  24 216]\n",
      "  [150 117 143]]\n",
      "\n",
      " [[ 73 171  72]\n",
      "  [225 171 113]\n",
      "  [158 105  16]\n",
      "  [239 243 165]\n",
      "  [128 137 203]\n",
      "  [163   1 215]\n",
      "  [253  17 215]\n",
      "  [206 210  82]\n",
      "  [154  65  46]\n",
      "  [231  24 107]]\n",
      "\n",
      " [[170 175 130]\n",
      "  [ 51 131 194]\n",
      "  [206  71 220]\n",
      "  [143 227  95]\n",
      "  [ 82  33 255]\n",
      "  [201 116 246]\n",
      "  [ 76 165 111]\n",
      "  [ 63 130 178]\n",
      "  [148 154 228]\n",
      "  [114  57 120]]\n",
      "\n",
      " [[ 44  47 189]\n",
      "  [ 41 198 145]\n",
      "  [ 64  89 173]\n",
      "  [178 150 146]\n",
      "  [194  60 209]\n",
      "  [153 242   7]\n",
      "  [214 132 252]\n",
      "  [129 173 222]\n",
      "  [ 16 179 104]\n",
      "  [218 140 112]]\n",
      "\n",
      " [[  0  74 128]\n",
      "  [102 240 126]\n",
      "  [131 217 216]\n",
      "  [ 44   9 117]\n",
      "  [202 203 107]\n",
      "  [116  12  87]\n",
      "  [232 151 227]\n",
      "  [216 105  95]\n",
      "  [ 99 136 107]\n",
      "  [ 12  69 219]]\n",
      "\n",
      " [[247  64  95]\n",
      "  [188 120 154]\n",
      "  [ 77 199 104]\n",
      "  [237 232 249]\n",
      "  [102 185  37]\n",
      "  [210 186  84]\n",
      "  [213  45 144]\n",
      "  [162 217 128]\n",
      "  [ 76  16 140]\n",
      "  [249 189   9]]]\n",
      "dim =  3\n",
      "shape =  (10, 10, 3)\n",
      "datatype =  uint8\n",
      "size =  300\n",
      "\n"
     ]
    }
   ],
   "metadata": {}
  },
  {
   "cell_type": "code",
   "execution_count": 176,
   "source": [
    "a3_shp = a3_rav.reshape(-1,10,3)\r\n",
    "\r\n",
    "array_properties(a3_shp)"
   ],
   "outputs": [
    {
     "output_type": "stream",
     "name": "stdout",
     "text": [
      "a = \n",
      " [[[130  51  97]\n",
      "  [227 225 100]\n",
      "  [ 86 186 248]\n",
      "  [141 232 255]\n",
      "  [112  99  34]\n",
      "  [ 32 126  50]\n",
      "  [236 113 243]\n",
      "  [211 129  15]\n",
      "  [144  97 154]\n",
      "  [179  55  38]]\n",
      "\n",
      " [[155 168  61]\n",
      "  [223 225 114]\n",
      "  [ 26 195 234]\n",
      "  [ 62 100 125]\n",
      "  [ 30 249  52]\n",
      "  [111 255  12]\n",
      "  [158 124   5]\n",
      "  [  6  74 139]\n",
      "  [ 85  13  28]\n",
      "  [113 145 114]]\n",
      "\n",
      " [[175 185  71]\n",
      "  [168 184  21]\n",
      "  [ 41 249  19]\n",
      "  [130  57  83]\n",
      "  [182 194  32]\n",
      "  [110 208   8]\n",
      "  [115  54 250]\n",
      "  [235 144 197]\n",
      "  [ 55  79  38]\n",
      "  [121  82  64]]\n",
      "\n",
      " [[234  63  94]\n",
      "  [242 103 185]\n",
      "  [244 239 239]\n",
      "  [ 21  13  93]\n",
      "  [ 77   0 184]\n",
      "  [ 98  32 135]\n",
      "  [ 67  37  88]\n",
      "  [ 66  17  57]\n",
      "  [101  68 130]\n",
      "  [117 138 125]]\n",
      "\n",
      " [[ 26 107 190]\n",
      "  [120 120 141]\n",
      "  [135 117 208]\n",
      "  [ 92  81   1]\n",
      "  [104 119 158]\n",
      "  [190 250  90]\n",
      "  [ 37  15 119]\n",
      "  [193  64  87]\n",
      "  [195  24 216]\n",
      "  [150 117 143]]\n",
      "\n",
      " [[ 73 171  72]\n",
      "  [225 171 113]\n",
      "  [158 105  16]\n",
      "  [239 243 165]\n",
      "  [128 137 203]\n",
      "  [163   1 215]\n",
      "  [253  17 215]\n",
      "  [206 210  82]\n",
      "  [154  65  46]\n",
      "  [231  24 107]]\n",
      "\n",
      " [[170 175 130]\n",
      "  [ 51 131 194]\n",
      "  [206  71 220]\n",
      "  [143 227  95]\n",
      "  [ 82  33 255]\n",
      "  [201 116 246]\n",
      "  [ 76 165 111]\n",
      "  [ 63 130 178]\n",
      "  [148 154 228]\n",
      "  [114  57 120]]\n",
      "\n",
      " [[ 44  47 189]\n",
      "  [ 41 198 145]\n",
      "  [ 64  89 173]\n",
      "  [178 150 146]\n",
      "  [194  60 209]\n",
      "  [153 242   7]\n",
      "  [214 132 252]\n",
      "  [129 173 222]\n",
      "  [ 16 179 104]\n",
      "  [218 140 112]]\n",
      "\n",
      " [[  0  74 128]\n",
      "  [102 240 126]\n",
      "  [131 217 216]\n",
      "  [ 44   9 117]\n",
      "  [202 203 107]\n",
      "  [116  12  87]\n",
      "  [232 151 227]\n",
      "  [216 105  95]\n",
      "  [ 99 136 107]\n",
      "  [ 12  69 219]]\n",
      "\n",
      " [[247  64  95]\n",
      "  [188 120 154]\n",
      "  [ 77 199 104]\n",
      "  [237 232 249]\n",
      "  [102 185  37]\n",
      "  [210 186  84]\n",
      "  [213  45 144]\n",
      "  [162 217 128]\n",
      "  [ 76  16 140]\n",
      "  [249 189   9]]]\n",
      "dim =  3\n",
      "shape =  (10, 10, 3)\n",
      "datatype =  uint8\n",
      "size =  300\n",
      "\n"
     ]
    }
   ],
   "metadata": {}
  },
  {
   "cell_type": "markdown",
   "source": [
    "## Stacking"
   ],
   "metadata": {}
  },
  {
   "cell_type": "code",
   "execution_count": 184,
   "source": [
    "import numpy as np\r\n",
    "\r\n",
    "a21 = np.random.random((3,4))\r\n",
    "array_properties(a21)\r\n"
   ],
   "outputs": [
    {
     "output_type": "stream",
     "name": "stdout",
     "text": [
      "a = \n",
      " [[0.51734361 0.05295399 0.6741675  0.32432796]\n",
      " [0.63235176 0.30671128 0.66385578 0.52350538]\n",
      " [0.44551135 0.2469862  0.14505906 0.6433217 ]]\n",
      "dim =  2\n",
      "shape =  (3, 4)\n",
      "datatype =  float64\n",
      "size =  12\n",
      "\n"
     ]
    }
   ],
   "metadata": {}
  },
  {
   "cell_type": "code",
   "execution_count": 185,
   "source": [
    "\r\n",
    "a22 = np.random.random((3,1))\r\n",
    "array_properties(a22)\r\n"
   ],
   "outputs": [
    {
     "output_type": "stream",
     "name": "stdout",
     "text": [
      "a = \n",
      " [[0.94522018]\n",
      " [0.44311893]\n",
      " [0.30388964]]\n",
      "dim =  2\n",
      "shape =  (3, 1)\n",
      "datatype =  float64\n",
      "size =  3\n",
      "\n"
     ]
    }
   ],
   "metadata": {}
  },
  {
   "cell_type": "code",
   "execution_count": 186,
   "source": [
    "\r\n",
    "a23 = np.random.random((2,4))\r\n",
    "array_properties(a23)\r\n"
   ],
   "outputs": [
    {
     "output_type": "stream",
     "name": "stdout",
     "text": [
      "a = \n",
      " [[0.50695811 0.32230787 0.86417818 0.99929241]\n",
      " [0.38900404 0.30724194 0.69954637 0.6382877 ]]\n",
      "dim =  2\n",
      "shape =  (2, 4)\n",
      "datatype =  float64\n",
      "size =  8\n",
      "\n"
     ]
    }
   ],
   "metadata": {}
  },
  {
   "cell_type": "code",
   "execution_count": 188,
   "source": [
    "print('a21', a21.shape)\r\n",
    "print('a22', a22.shape)\r\n",
    "print('a23', a23.shape)\r\n"
   ],
   "outputs": [
    {
     "output_type": "stream",
     "name": "stdout",
     "text": [
      "a21 (3, 4)\n",
      "a22 (3, 1)\n",
      "a23 (2, 4)\n"
     ]
    }
   ],
   "metadata": {}
  },
  {
   "cell_type": "code",
   "execution_count": 192,
   "source": [
    "print('a21', a21.shape)\r\n",
    "print('a22', a22.shape)\r\n",
    "\r\n",
    "a2h = np.hstack((a21, a22))\r\n",
    "array_properties(a2h)"
   ],
   "outputs": [
    {
     "output_type": "stream",
     "name": "stdout",
     "text": [
      "a21 (3, 4)\n",
      "a22 (3, 1)\n",
      "a = \n",
      " [[0.51734361 0.05295399 0.6741675  0.32432796 0.94522018]\n",
      " [0.63235176 0.30671128 0.66385578 0.52350538 0.44311893]\n",
      " [0.44551135 0.2469862  0.14505906 0.6433217  0.30388964]]\n",
      "dim =  2\n",
      "shape =  (3, 5)\n",
      "datatype =  float64\n",
      "size =  15\n",
      "\n"
     ]
    }
   ],
   "metadata": {}
  },
  {
   "cell_type": "code",
   "execution_count": 193,
   "source": [
    "print('a21', a21.shape)\r\n",
    "print('a23', a23.shape)\r\n",
    "\r\n",
    "a2v = np.vstack((a21, a23))\r\n",
    "array_properties(a2v)"
   ],
   "outputs": [
    {
     "output_type": "stream",
     "name": "stdout",
     "text": [
      "a21 (3, 4)\n",
      "a23 (2, 4)\n",
      "a = \n",
      " [[0.51734361 0.05295399 0.6741675  0.32432796]\n",
      " [0.63235176 0.30671128 0.66385578 0.52350538]\n",
      " [0.44551135 0.2469862  0.14505906 0.6433217 ]\n",
      " [0.50695811 0.32230787 0.86417818 0.99929241]\n",
      " [0.38900404 0.30724194 0.69954637 0.6382877 ]]\n",
      "dim =  2\n",
      "shape =  (5, 4)\n",
      "datatype =  float64\n",
      "size =  20\n",
      "\n"
     ]
    }
   ],
   "metadata": {}
  },
  {
   "cell_type": "markdown",
   "source": [
    "## Splitting"
   ],
   "metadata": {}
  },
  {
   "cell_type": "code",
   "execution_count": 205,
   "source": [
    "a1 = np.arange(24) \r\n",
    "\r\n",
    "array_properties(a1)\r\n",
    "\r\n",
    "a1h = np.hsplit(a1,3)\r\n",
    "print(a1h)\r\n",
    "\r\n",
    "print()\r\n",
    "a1e = np.hsplit(a1,(4,10))\r\n",
    "print(a1e)\r\n"
   ],
   "outputs": [
    {
     "output_type": "stream",
     "name": "stdout",
     "text": [
      "a = \n",
      " [ 0  1  2  3  4  5  6  7  8  9 10 11 12 13 14 15 16 17 18 19 20 21 22 23]\n",
      "dim =  1\n",
      "shape =  (24,)\n",
      "datatype =  int32\n",
      "size =  24\n",
      "\n",
      "[array([0, 1, 2, 3, 4, 5, 6, 7]), array([ 8,  9, 10, 11, 12, 13, 14, 15]), array([16, 17, 18, 19, 20, 21, 22, 23])]\n",
      "\n",
      "[array([0, 1, 2, 3]), array([4, 5, 6, 7, 8, 9]), array([10, 11, 12, 13, 14, 15, 16, 17, 18, 19, 20, 21, 22, 23])]\n"
     ]
    }
   ],
   "metadata": {}
  },
  {
   "cell_type": "code",
   "execution_count": 206,
   "source": [
    "a2 = np.arange(24).reshape(2,-1)\r\n",
    "\r\n",
    "array_properties(a2)\r\n",
    "\r\n",
    "a1h = np.hsplit(a2,3)\r\n",
    "print(a1h)\r\n",
    "\r\n",
    "print()\r\n",
    "a1e = np.hsplit(a2,(4,10))\r\n",
    "print(a1e)\r\n"
   ],
   "outputs": [
    {
     "output_type": "stream",
     "name": "stdout",
     "text": [
      "a = \n",
      " [[ 0  1  2  3  4  5  6  7  8  9 10 11]\n",
      " [12 13 14 15 16 17 18 19 20 21 22 23]]\n",
      "dim =  2\n",
      "shape =  (2, 12)\n",
      "datatype =  int32\n",
      "size =  24\n",
      "\n",
      "[array([[ 0,  1,  2,  3],\n",
      "       [12, 13, 14, 15]]), array([[ 4,  5,  6,  7],\n",
      "       [16, 17, 18, 19]]), array([[ 8,  9, 10, 11],\n",
      "       [20, 21, 22, 23]])]\n",
      "\n",
      "[array([[ 0,  1,  2,  3],\n",
      "       [12, 13, 14, 15]]), array([[ 4,  5,  6,  7,  8,  9],\n",
      "       [16, 17, 18, 19, 20, 21]]), array([[10, 11],\n",
      "       [22, 23]])]\n"
     ]
    }
   ],
   "metadata": {}
  },
  {
   "cell_type": "code",
   "execution_count": 215,
   "source": [
    "a2 = np.arange(24).reshape(4,-1)\r\n",
    "\r\n",
    "array_properties(a2)\r\n",
    "\r\n",
    "a1h = np.vsplit(a2,2)\r\n",
    "print(a1h)\r\n",
    "\r\n",
    "print()\r\n",
    "a1e = np.vsplit(a2,(1,3))\r\n",
    "print(a1e)\r\n"
   ],
   "outputs": [
    {
     "output_type": "stream",
     "name": "stdout",
     "text": [
      "a = \n",
      " [[ 0  1  2  3  4  5]\n",
      " [ 6  7  8  9 10 11]\n",
      " [12 13 14 15 16 17]\n",
      " [18 19 20 21 22 23]]\n",
      "dim =  2\n",
      "shape =  (4, 6)\n",
      "datatype =  int32\n",
      "size =  24\n",
      "\n",
      "[array([[ 0,  1,  2,  3,  4,  5],\n",
      "       [ 6,  7,  8,  9, 10, 11]]), array([[12, 13, 14, 15, 16, 17],\n",
      "       [18, 19, 20, 21, 22, 23]])]\n",
      "\n",
      "[array([[0, 1, 2, 3, 4, 5]]), array([[ 6,  7,  8,  9, 10, 11],\n",
      "       [12, 13, 14, 15, 16, 17]]), array([[18, 19, 20, 21, 22, 23]])]\n"
     ]
    }
   ],
   "metadata": {}
  },
  {
   "cell_type": "markdown",
   "source": [
    "## Saving and reading numpy data\r\n"
   ],
   "metadata": {}
  },
  {
   "cell_type": "code",
   "execution_count": 219,
   "source": [
    "import numpy as np\r\n",
    "\r\n",
    "img1 = np.random.randint(0,256,(10,10,3),dtype='uint8')\r\n",
    "img2 = np.random.randint(0,256,(10,10,3),dtype='uint8')\r\n",
    "img3 = np.random.randint(0,256,(10,10,3),dtype='uint8')\r\n",
    "\r\n",
    "dataset = [img1, img2, img3]\r\n",
    "dataLabel = ['img1', 'img2', 'img3']\r\n"
   ],
   "outputs": [],
   "metadata": {}
  },
  {
   "cell_type": "code",
   "execution_count": 220,
   "source": [
    "np.savez_compressed('dataset.npz', images=dataset, labels=dataLabel)"
   ],
   "outputs": [],
   "metadata": {}
  },
  {
   "cell_type": "code",
   "execution_count": 224,
   "source": [
    "import matplotlib.pyplot as plt\r\n",
    "\r\n",
    "plt.figure(figsize=(10,8))\r\n",
    "plt.subplot(1,3,1)\r\n",
    "plt.imshow(img1)\r\n",
    "plt.subplot(1,3,2)\r\n",
    "plt.imshow(img2)\r\n",
    "plt.subplot(1,3,3)\r\n",
    "plt.imshow(img3)\r\n",
    "\r\n",
    "plt.show()"
   ],
   "outputs": [
    {
     "output_type": "display_data",
     "data": {
      "image/png": "[encoded data removed]",
      "text/plain": [
       "<Figure size 720x576 with 3 Axes>"
      ]
     },
     "metadata": {
      "needs_background": "light"
     }
    }
   ],
   "metadata": {}
  },
  {
   "cell_type": "code",
   "execution_count": 226,
   "source": [
    "data = np.load('dataset.npz')\r\n",
    "\r\n",
    "imgs = data['images']\r\n",
    "labels = data['labels']\r\n",
    "print(len(imgs))\r\n",
    "print(len(labels))\r\n"
   ],
   "outputs": [
    {
     "output_type": "stream",
     "name": "stdout",
     "text": [
      "3\n",
      "3\n"
     ]
    }
   ],
   "metadata": {}
  },
  {
   "cell_type": "code",
   "execution_count": 227,
   "source": [
    "import matplotlib.pyplot as plt\r\n",
    "\r\n",
    "plt.figure(figsize=(10,8))\r\n",
    "plt.subplot(1,3,1)\r\n",
    "plt.imshow(imgs[0])\r\n",
    "plt.subplot(1,3,2)\r\n",
    "plt.imshow(imgs[1])\r\n",
    "plt.subplot(1,3,3)\r\n",
    "plt.imshow(imgs[2])\r\n",
    "\r\n",
    "plt.show()"
   ],
   "outputs": [
    {
     "output_type": "display_data",
     "data": {
      "image/png": "[encoded data removed]",
      "text/plain": [
       "<Figure size 720x576 with 3 Axes>"
      ]
     },
     "metadata": {
      "needs_background": "light"
     }
    }
   ],
   "metadata": {}
  },
  {
   "cell_type": "markdown",
   "source": [],
   "metadata": {}
  }
 ],
 "metadata": {
  "orig_nbformat": 4,
  "language_info": {
   "name": "python",
   "version": "3.9.6",
   "mimetype": "text/x-python",
   "codemirror_mode": {
    "name": "ipython",
    "version": 3
   },
   "pygments_lexer": "ipython3",
   "nbconvert_exporter": "python",
   "file_extension": ".py"
  },
  "kernelspec": {
   "name": "python3",
   "display_name": "Python 3.9.6 64-bit"
  },
  "interpreter": {
   "hash": "c1a7846af735771808fbc8272134e7984cc669109ae413ca91ad8b74a534aa1b"
  }
 },
 "nbformat": 4,
 "nbformat_minor": 2
}