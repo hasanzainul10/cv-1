{
 "cells": [
  {
   "cell_type": "code",
   "execution_count": 1,
   "metadata": {},
   "outputs": [
    {
     "name": "stdout",
     "output_type": "stream",
     "text": [
      "shape =  (10, 10)\n",
      "size =  100\n",
      "dimension =  2\n"
     ]
    }
   ],
   "source": [
    "import numpy as np\n",
    "##1.  Create array of shape (10,10) with random uint value.\n",
    "a1 = np.random.randint( 0 , 256 ,( 10 , 10 ), dtype='uint8' )\n",
    "\n",
    "##2.  Print its shape size and propeties\n",
    "print(\"shape = \", a1.shape)\n",
    "print(\"size = \", a1.size)\n",
    "print(\"dimension = \", a1.ndim)"
   ]
  },
  {
   "cell_type": "code",
   "execution_count": 13,
   "metadata": {},
   "outputs": [
    {
     "name": "stdout",
     "output_type": "stream",
     "text": [
      "[ 80  73 154   5 166 110  21  61  80  42]\n",
      "Sum of each row from third row to the last row  [ 995 1117 1307 1182 1092 1169 1425]\n",
      "Sum of all row from third to last row :  8287\n"
     ]
    }
   ],
   "source": [
    "## 3. \n",
    "print(a1[2])\n",
    "arr_third_row_to_last = arr3_last = a1[3:]\n",
    "sum_third_row_to_last = np.sum(arr_third_row_to_last, axis = 1)\n",
    "\n",
    "print(\"Sum of each row from third row to the last row \",sum_third_row_to_last)\n",
    "print(\"Sum of all row from third to last row : \",np.sum(arr_third_row_to_last))"
   ]
  },
  {
   "cell_type": "code",
   "execution_count": 4,
   "metadata": {},
   "outputs": [
    {
     "name": "stdout",
     "output_type": "stream",
     "text": [
      "[[244 204  15 155 131 165  43  50  34 201]\n",
      " [112 250 215 138 177 212 156 225 203 231]\n",
      " [ 80  73 154   5 166 110  21  61  80  42]\n",
      " [ 20 205 196  47  43  37   4 136 103 204]\n",
      " [ 21  81 147  94 175  59 208  69 255   8]\n",
      " [177  96 228 246   9   4 180 168 116  83]\n",
      " [121 135 205  22 126 107 117 150  69 130]\n",
      " [212  90  49  81  71  77 236 238  10  28]\n",
      " [242 143   1 140  17  16 149 123 181 157]\n",
      " [ 93 203 134 174 123 225 137  33 151 152]]\n",
      "[1322 1480 1344 1102 1038 1012 1251 1253 1202 1236]\n",
      "10\n",
      "1224.0\n"
     ]
    }
   ],
   "source": [
    "##4. Average of the columns\n",
    "print(a1)\n",
    "\n",
    "## average of each column\n",
    "total_column = (a1.sum(axis=0))# aum the value along each rows, giving the total value for each column\n",
    "print(total_column)\n",
    "\n",
    "total_len = len(a1)\n",
    "print(total_len)\n",
    "\n",
    "## average of all column\n",
    "average= (np.sum(total_column)/total_len)\n",
    "print(average) "
   ]
  }
 ],
 "metadata": {
  "interpreter": {
   "hash": "4ad20ef52291b096e87cc7aea8e8264b23503722368d0b94bb53ea6e6c791e77"
  },
  "kernelspec": {
   "display_name": "Python 3.8.12 64-bit ('workbook': conda)",
   "name": "python3"
  },
  "language_info": {
   "codemirror_mode": {
    "name": "ipython",
    "version": 3
   },
   "file_extension": ".py",
   "mimetype": "text/x-python",
   "name": "python",
   "nbconvert_exporter": "python",
   "pygments_lexer": "ipython3",
   "version": "3.8.12"
  },
  "orig_nbformat": 4
 },
 "nbformat": 4,
 "nbformat_minor": 2
}
