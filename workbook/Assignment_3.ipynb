{
 "cells": [
  {
   "cell_type": "code",
   "execution_count": null,
   "metadata": {},
   "outputs": [],
   "source": [
    "##LIST##"
   ]
  },
  {
   "cell_type": "code",
   "execution_count": 2,
   "metadata": {},
   "outputs": [
    {
     "name": "stdout",
     "output_type": "stream",
     "text": [
      "['Pizza', 'Mee Goreng', 'Burger', 'Curry']\n"
     ]
    }
   ],
   "source": [
    "# Define food list\n",
    "food = ['Pizza','Mee Goreng','Burger','Curry']\n",
    "print(food)"
   ]
  },
  {
   "cell_type": "code",
   "execution_count": 3,
   "metadata": {},
   "outputs": [
    {
     "name": "stdout",
     "output_type": "stream",
     "text": [
      "Curry\n",
      "Burger\n",
      "Mee Goreng\n",
      "Pizza\n"
     ]
    }
   ],
   "source": [
    " # Print list from last element to first.\n",
    "# food.reverse()\n",
    "# print(food)\n",
    "# food.reverse() \n",
    "\n",
    "i = len(food)-1\n",
    "while i != -1:\n",
    "    print(food[i])\n",
    "\n",
    "    i = i-1"
   ]
  },
  {
   "cell_type": "code",
   "execution_count": 16,
   "metadata": {},
   "outputs": [
    {
     "name": "stdout",
     "output_type": "stream",
     "text": [
      "['Pizza', 'Mee Goreng', 'Burger', 'Curry', 'Rice']\n"
     ]
    }
   ],
   "source": [
    "# Append 'Rice'\n",
    "food.append('Rice')\n",
    "print(food)"
   ]
  },
  {
   "cell_type": "code",
   "execution_count": 17,
   "metadata": {},
   "outputs": [
    {
     "name": "stdout",
     "output_type": "stream",
     "text": [
      "The index of 'Rice' is 4\n"
     ]
    }
   ],
   "source": [
    "# Get the index of 'Rice'\n",
    "print(f\"The index of 'Rice' is {food.index('Rice')}\")"
   ]
  },
  {
   "cell_type": "code",
   "execution_count": 18,
   "metadata": {},
   "outputs": [
    {
     "name": "stdout",
     "output_type": "stream",
     "text": [
      "Sorted list : ['Burger', 'Curry', 'Mee Goreng', 'Pizza', 'Rice']\n"
     ]
    }
   ],
   "source": [
    "# Sort the list ascendingly.\n",
    "food.sort()\n",
    "print(f\"Sorted list : {food}\")"
   ]
  },
  {
   "cell_type": "code",
   "execution_count": 19,
   "metadata": {},
   "outputs": [
    {
     "name": "stdout",
     "output_type": "stream",
     "text": [
      "Burger appears 1 times. \n",
      "Curry appears 1 times. \n",
      "Mee Goreng appears 1 times. \n",
      "Pizza appears 1 times. \n",
      "Rice appears 1 times. \n"
     ]
    }
   ],
   "source": [
    "# Show how much each food apear in the list\n",
    "i=0\n",
    "while i != len(food) :\n",
    "    f = food[i]\n",
    "    print(f\"{f} appears {food.count(f)} times. \")\n",
    "    i = i+1"
   ]
  },
  {
   "cell_type": "code",
   "execution_count": 20,
   "metadata": {},
   "outputs": [
    {
     "name": "stdout",
     "output_type": "stream",
     "text": [
      "[]\n"
     ]
    }
   ],
   "source": [
    "# Remove all elements from the list\n",
    "food.clear()\n",
    "print(food)"
   ]
  },
  {
   "cell_type": "code",
   "execution_count": 8,
   "metadata": {},
   "outputs": [
    {
     "name": "stdout",
     "output_type": "stream",
     "text": [
      "('hasan', 'umar', 'ad', 'ad', 'sd')\n"
     ]
    }
   ],
   "source": [
    "##TUPLE##\n",
    "siblings=[]\n",
    "sibling_num = int(input(\"Enter how many sibling do you have : \"))\n",
    "\n",
    "\n",
    "for i in range (sibling_num) :\n",
    "    name = input(f\"Sibling {i+1} name :\")\n",
    "    siblings.append(name)\n",
    "    \n",
    "\n",
    "siblings = tuple(siblings)\n",
    "print(siblings)"
   ]
  },
  {
   "cell_type": "code",
   "execution_count": 3,
   "metadata": {},
   "outputs": [
    {
     "name": "stdout",
     "output_type": "stream",
     "text": [
      "Your major courses  : {'AI', 'Network', 'Database', 'CSA'}\n",
      "Courses (major and non major) that you have passed {'CSA', 'Algorithm'}\n",
      "Major courses that you havent passed yet : {'AI', 'Network', 'Database'}\n",
      "{'CSA'}\n",
      "The courses(major and non major) that you have taken and not passed yet {'AI', 'Network'}\n"
     ]
    }
   ],
   "source": [
    "##SET##\n",
    "\n",
    "# 1. Define set for all your major course\n",
    "setMajorCourse = {'AI','CSA','Network','Database'}\n",
    "print(f\"Your major courses  : {setMajorCourse}\")\n",
    "# 2. Define set of courses that you have passed.\n",
    "setPassed = {'CSA','Algorithm'}\n",
    "print(f\"Courses (major and non major) that you have passed {setPassed}\")\n",
    "\n",
    "# 3. find out which course among your major courses that you havent passed yet\n",
    "setNotPassed = setMajorCourse.difference(setPassed)\n",
    "print(f\"Major courses that you havent passed yet : {setNotPassed}\")\n",
    "\n",
    "# 4. Define a set of all course in your major you take regardless you pass or fail.\n",
    "setTakenCourse = {'CSA','AI','Network'}\n",
    "\n",
    "# 5. Get course(major and non major) that you have taken and not passed yet\n",
    "s3 = setTakenCourse.intersection(setPassed)\n",
    "print(s3)\n",
    "print(f\"The courses(major and non major) that you have taken and not passed yet {setTakenCourse.difference(s3)}\")\n"
   ]
  },
  {
   "cell_type": "code",
   "execution_count": 24,
   "metadata": {},
   "outputs": [
    {
     "name": "stdout",
     "output_type": "stream",
     "text": [
      "{'sifar': 'zero', 'satu': 'one', 'dua': 'two', 'tiga': 'three', 'empat': 'four', 'lima': 'five'}\n",
      "dict_keys(['sifar', 'satu', 'dua', 'tiga', 'empat', 'lima'])\n",
      "{'zero': 'sifar', 'one': 'satu', 'two': 'dua', 'three': 'tiga', 'four': 'empat', 'lima': 'lima', 'six': 'enam', 'seven': 'tujuh'}\n"
     ]
    }
   ],
   "source": [
    "##DICTIONARY##\n",
    "# 1. DEFINE DICTIONARY OF malay/english for number 0 to 5.\n",
    "\n",
    "\n",
    "malay_to_english = {'sifar' : 'zero','satu' : 'one', 'dua' : 'two', 'tiga' : 'three', 'empat' : 'four', 'lima' : 'five'}\n",
    "print(malay_to_english)\n",
    "\n",
    "# 2. Take out malay words defined in the dicitonary\n",
    "malayWords = malay_to_english.keys()\n",
    "print(malayWords)\n",
    "\n",
    "# 3. Define the set of num from 0 to 10\n",
    "num_dictionary = {'zero' : 'sifar','one' : '', 'two' : 'dua', 'three' : 'tiga', 'four' : '', 'lima' : '', 'six' : '', 'seven' :'tujuh'}\n",
    "# 4. find which num are not defined in dictionary\n",
    "key_list = list(num_dictionary.keys())\n",
    "val_list = list(num_dictionary.values())\n",
    "for i in range (len(val_list)):\n",
    "    if val_list[i]=='':\n",
    "        # 5. ask user to input them to the dictionary\n",
    "        user_input = input(f\"Enter {key_list[i]} in malay :\")\n",
    "        num_dictionary[key_list[i]] = user_input\n",
    "print(num_dictionary)\n"
   ]
  },
  {
   "cell_type": "code",
   "execution_count": null,
   "metadata": {},
   "outputs": [],
   "source": []
  }
 ],
 "metadata": {
  "interpreter": {
   "hash": "1baa965d5efe3ac65b79dfc60c0d706280b1da80fedb7760faf2759126c4f253"
  },
  "kernelspec": {
   "display_name": "Python 3.8.8 64-bit",
   "name": "python3"
  },
  "language_info": {
   "codemirror_mode": {
    "name": "ipython",
    "version": 3
   },
   "file_extension": ".py",
   "mimetype": "text/x-python",
   "name": "python",
   "nbconvert_exporter": "python",
   "pygments_lexer": "ipython3",
   "version": "3.8.8"
  },
  "orig_nbformat": 4
 },
 "nbformat": 4,
 "nbformat_minor": 2
}
