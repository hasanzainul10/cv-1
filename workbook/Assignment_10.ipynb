{
 "cells": [
  {
   "cell_type": "markdown",
   "metadata": {},
   "source": [
    "1. Create a border around any chosen image, make sure the border is 10% of the image shape. (border can be any color)\n",
    "2. At the centre of the image create a yellow square of 20% minimum of the image shape.\n",
    "3. Create a gray image from Q1 image and draw a square of white (10%) at four corners of the image.\n",
    "4. Make sure you save the two resulting images as PNG."
   ]
  },
  {
   "cell_type": "code",
   "execution_count": 3,
   "metadata": {},
   "outputs": [
    {
     "name": "stdout",
     "output_type": "stream",
     "text": [
      "Shape: (375, 499, 3)\n",
      "Size: 561375\n",
      "Border row size: 37\n",
      "Border column size: 49\n"
     ]
    }
   ],
   "source": [
    "import cv2 as cv\n",
    "import sys\n",
    "\n",
    "try:\n",
    "    path = r'..\\essential\\assets\\ca2.jpg' \n",
    "    img = cv.imread(path, cv.IMREAD_COLOR)\n",
    "\n",
    "    if img is None:\n",
    "        sys.exit(\"Image can't be opened.\")\n",
    "    \n",
    "    # Get image shape and size\n",
    "    imgShape = img.shape\n",
    "    imgSize = img.size\n",
    "    \n",
    "    print('Shape:', imgShape)\n",
    "    print('Size:', imgSize)\n",
    "    \n",
    "    #  border size is 10% of image shape\n",
    "    bsize_row = int(imgShape[0]*0.1)\n",
    "    bsize_col = int(imgShape[1]*0.1)\n",
    "    \n",
    "    # get center of image\n",
    "    middle_row = int(imgShape[0]/2)\n",
    "    middle_col = int(imgShape[1]/2)\n",
    "    \n",
    "    print(f'Border row size: {bsize_row}\\nBorder column size: {bsize_col}')\n",
    "    \n",
    " \n",
    "    cv.imshow(\"Display window\", img)\n",
    "    k = cv.waitKey(0)\n",
    "\n",
    "    # Make a copy of the original image\n",
    "    imgWithBorder = img.copy()\n",
    "    \n",
    "    # Color the border\n",
    "    # Top \n",
    "    imgWithBorder[:bsize_row,:] = [100, 200, 0] \n",
    "    # Bottom \n",
    "    imgWithBorder[-bsize_row:,:] = [40, 70, 240] \n",
    "    # Left \n",
    "    imgWithBorder[bsize_row:,:bsize_col] = [66, 77, 88] \n",
    "     # Right\n",
    "    imgWithBorder[:,-bsize_col:] = [50, 250, 10]\n",
    "    \n",
    "    # Yellow square at image centre\n",
    "    imgWithBorder[middle_row - bsize_row : middle_row + bsize_row, \n",
    "                  middle_col - bsize_col : middle_col + bsize_col] = [0,255,255] \n",
    "    \n",
    "    \n",
    "    # Display after edit\n",
    "    cv.imshow('Image with border and square centre', imgWithBorder)\n",
    "    cv.waitKey(0)\n",
    "    \n",
    "    # Save image\n",
    "    cv.imwrite(\"bordered_img.png\", imgWithBorder)\n",
    "    \n",
    "except Exception as e:\n",
    "    print(e)\n",
    "    \n",
    "finally:\n",
    "    cv.destroyAllWindows()"
   ]
  },
  {
   "cell_type": "code",
   "execution_count": 7,
   "metadata": {},
   "outputs": [
    {
     "name": "stdout",
     "output_type": "stream",
     "text": [
      "Shape: (375, 499)\n",
      "Size: 187125\n",
      "Border row size: 37\n",
      "Border column size: 49\n"
     ]
    }
   ],
   "source": [
    "import cv2 as cv\n",
    "import sys\n",
    "\n",
    "try:\n",
    "    path = r'../essential/assets/ca2.jpg' \n",
    "    # Read image as grayscale\n",
    "    img = cv.imread(path, cv.IMREAD_GRAYSCALE) \n",
    "\n",
    "    imgShape = img.shape\n",
    "    imgSize = img.size\n",
    "    \n",
    "    print('Shape:', imgShape)\n",
    "    print('Size:', imgSize)\n",
    "    \n",
    "    # Define border size as 10% of img shape\n",
    "    bsize_row = int(imgShape[0]*0.1)\n",
    "    bsize_col = int(imgShape[1]*0.1)\n",
    "\n",
    "    print(f'Border row size: {bsize_row}\\nBorder column size: {bsize_col}')\n",
    "    \n",
    " \n",
    "    # show original image\n",
    "    cv.imshow(\"Display window\", img)\n",
    "    k = cv.waitKey(0)\n",
    "    \n",
    "\n",
    "    imgWithBorder = img.copy()\n",
    "    \n",
    "    # Color the corner\n",
    "    # Top right\n",
    "    imgWithBorder[:bsize_row,-bsize_col:] = 255 \n",
    "    # Top left\n",
    "    imgWithBorder[:bsize_row,:bsize_col] = 255 \n",
    "    # Bottom right\n",
    "    imgWithBorder[-bsize_row:,-bsize_col:] = 255 \n",
    "    # Bottom left\n",
    "    imgWithBorder[-bsize_row:,:bsize_col] = 255 \n",
    "    \n",
    "    # Display after edit\n",
    "    cv.imshow('white cornered grey image', imgWithBorder)\n",
    "    cv.waitKey(0)\n",
    "    \n",
    "    # Save image\n",
    "    cv.imwrite(\"grayed_image.png\", imgWithBorder)\n",
    "    \n",
    "except Exception as e:\n",
    "    print(e)\n",
    "    \n",
    "finally:\n",
    "    cv.destroyAllWindows()"
   ]
  }
 ],
 "metadata": {
  "interpreter": {
   "hash": "12fe374ed9a07b34b1ce4b21a6a8a3425eaaea14e44d189e3137634e9d188276"
  },
  "kernelspec": {
   "display_name": "Python 3.8.11 64-bit ('Plastico_2': conda)",
   "name": "python3"
  },
  "language_info": {
   "codemirror_mode": {
    "name": "ipython",
    "version": 3
   },
   "file_extension": ".py",
   "mimetype": "text/x-python",
   "name": "python",
   "nbconvert_exporter": "python",
   "pygments_lexer": "ipython3",
   "version": "3.8.11"
  },
  "orig_nbformat": 4
 },
 "nbformat": 4,
 "nbformat_minor": 2
}
