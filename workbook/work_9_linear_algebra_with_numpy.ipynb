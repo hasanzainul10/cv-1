{
 "cells": [
  {
   "cell_type": "markdown",
   "metadata": {},
   "source": [
    "## Linear Algebra\n",
    "\n",
    "general form\n",
    "\n",
    "$$\n",
    "A.x=b\n",
    "$$\n",
    "\n",
    "$$\n"
   ]
  },
  {
   "cell_type": "code",
   "execution_count": 22,
   "metadata": {},
   "outputs": [],
   "source": [
    "def array_propeties(a,str=\"\"):\n",
    "    print(str)\n",
    "    print(\"array = \\n\", a)\n",
    "    print(\"dimension = \", a.ndim)\n",
    "    print(\"shape = \",a.shape)\n",
    "    print(\"data type =\",a.dtype)\n",
    "    print(\"size = \", a.size)\n",
    "    print()"
   ]
  },
  {
   "cell_type": "markdown",
   "metadata": {},
   "source": []
  },
  {
   "cell_type": "markdown",
   "metadata": {},
   "source": [
    "# class activity\n",
    "\n",
    "create an array of the system of equation above for A, and b"
   ]
  },
  {
   "cell_type": "code",
   "execution_count": 3,
   "metadata": {},
   "outputs": [
    {
     "name": "stdout",
     "output_type": "stream",
     "text": [
      "array = \n",
      " [[ 11  12  13 -14]\n",
      " [ 21  22  23 -24]\n",
      " [ 31  32  33 -34]\n",
      " [ 41  42  43 -44]]\n",
      "dimension =  2\n",
      "shape =  (4, 4)\n",
      "data type = int32\n",
      "size =  16\n",
      "\n",
      "array = \n",
      " [[1]\n",
      " [2]\n",
      " [3]\n",
      " [4]]\n",
      "dimension =  2\n",
      "shape =  (4, 1)\n",
      "data type = int32\n",
      "size =  4\n",
      "\n",
      "array = \n",
      " [[[ 11  12  13 -14]\n",
      "  [ 21  22  23 -24]\n",
      "  [ 31  32  33 -34]\n",
      "  [ 41  42  43 -44]]]\n",
      "dimension =  3\n",
      "shape =  (1, 4, 4)\n",
      "data type = int32\n",
      "size =  16\n",
      "\n",
      "array = \n",
      " [[ 11  12  13 -14]\n",
      " [ 21  22  23 -24]\n",
      " [ 31  32  33 -34]\n",
      " [ 41  42  43 -44]]\n",
      "dimension =  2\n",
      "shape =  (4, 4)\n",
      "data type = int32\n",
      "size =  16\n",
      "\n"
     ]
    }
   ],
   "source": [
    "import numpy as np\n",
    "\n",
    "A = np.array([[11,12,13,-14],\n",
    "             [21,22,23,-24],\n",
    "             [31,32,33,-34],\n",
    "             [41,42,43,-44]])\n",
    "b = np.array([[1],\n",
    "             [2],\n",
    "             [3],\n",
    "             [4]])\n",
    "\n",
    "\n",
    "array_propeties(A)\n",
    "\n",
    "\n",
    "array_propeties(b)\n",
    "\n",
    "# if we add extradimension on A \n",
    "A = np.array([[[11,12,13,-14],\n",
    "             [21,22,23,-24],\n",
    "             [31,32,33,-34],\n",
    "             [41,42,43,-44]]])\n",
    "\n",
    "array_propeties(A)\n",
    "\n",
    "# NP.SQUEEZE reduce the extra dimension if possible\n",
    "AA = np.squeeze(A)\n",
    "array_propeties(AA)"
   ]
  },
  {
   "cell_type": "code",
   "execution_count": 4,
   "metadata": {},
   "outputs": [
    {
     "name": "stdout",
     "output_type": "stream",
     "text": [
      "array = \n",
      " [1 2 3 4]\n",
      "dimension =  1\n",
      "shape =  (4,)\n",
      "data type = int32\n",
      "size =  4\n",
      "\n",
      "array = \n",
      " [1 2 3 4]\n",
      "dimension =  1\n",
      "shape =  (4,)\n",
      "data type = int32\n",
      "size =  4\n",
      "\n",
      "array = \n",
      " [[1]\n",
      " [2]\n",
      " [3]\n",
      " [4]]\n",
      "dimension =  2\n",
      "shape =  (4, 1)\n",
      "data type = int32\n",
      "size =  4\n",
      "\n"
     ]
    }
   ],
   "source": [
    "b = np.array([1,2,3,4])\n",
    "array_propeties(b)\n",
    "\n",
    "# Transpose on 1d doesnt change anything, if on other it will change col to row  and row to col\n",
    "bT = np.transpose(b)\n",
    "array_propeties(bT)\n",
    "\n",
    "\n",
    "# reshape\n",
    "\n",
    "bb = b.reshape((4,1))\n",
    "array_propeties(bb)"
   ]
  },
  {
   "cell_type": "code",
   "execution_count": null,
   "metadata": {},
   "outputs": [],
   "source": [
    "#A.x -b\n",
    "# x = b/A\n",
    "# x = A^-1 .b"
   ]
  },
  {
   "cell_type": "code",
   "execution_count": 5,
   "metadata": {},
   "outputs": [],
   "source": [
    "import numpy as np\n",
    "\n",
    "A = np.array([[3,-3,-4],\n",
    "             [1,-1,-1],\n",
    "             [2,-1,4]\n",
    "            ])\n",
    "\n",
    "\n",
    "b = np.array([[1],\n",
    "              [2],\n",
    "              [3]\n",
    "             ])\n",
    "\n",
    "             "
   ]
  },
  {
   "cell_type": "code",
   "execution_count": 6,
   "metadata": {},
   "outputs": [
    {
     "name": "stdout",
     "output_type": "stream",
     "text": [
      "array = \n",
      " [[-24.]\n",
      " [-31.]\n",
      " [  5.]]\n",
      "dimension =  2\n",
      "shape =  (3, 1)\n",
      "data type = float64\n",
      "size =  3\n",
      "\n"
     ]
    }
   ],
   "source": [
    "import numpy as np\n",
    "x = np.linalg.solve(A, b)\n",
    "array_propeties(x)"
   ]
  },
  {
   "cell_type": "code",
   "execution_count": 18,
   "metadata": {},
   "outputs": [
    {
     "data": {
      "text/plain": [
       "1.9999999999999982"
      ]
     },
     "execution_count": 18,
     "metadata": {},
     "output_type": "execute_result"
    }
   ],
   "source": [
    "## Class Activity\n",
    "\n",
    "# check if the solution above is correct, using the second equation of the system\n",
    "# linear equation.\n",
    "\n",
    "# round(3*x[0,0]-3*x[1,0]-4*x[2,0])== b[0]  \n",
    "\n",
    "1*x[0,0]-1*x[1,0]-1*x[2,0] "
   ]
  },
  {
   "cell_type": "code",
   "execution_count": 26,
   "metadata": {},
   "outputs": [
    {
     "name": "stdout",
     "output_type": "stream",
     "text": [
      "inv_of_A\n",
      "array = \n",
      " [[  5. -16.   1.]\n",
      " [  6. -20.   1.]\n",
      " [ -1.   3.   0.]]\n",
      "dimension =  2\n",
      "shape =  (3, 3)\n",
      "data type = float64\n",
      "size =  9\n",
      "\n",
      "inv_of_A @ b\n",
      "array = \n",
      " [[-24.]\n",
      " [-31.]\n",
      " [  5.]]\n",
      "dimension =  2\n",
      "shape =  (3, 1)\n",
      "data type = float64\n",
      "size =  3\n",
      "\n",
      "inv_of_A @ b\n",
      "array = \n",
      " [[-24.]\n",
      " [-31.]\n",
      " [  5.]]\n",
      "dimension =  2\n",
      "shape =  (3, 1)\n",
      "data type = float64\n",
      "size =  3\n",
      "\n",
      "inv_of_A @ b\n",
      "array = \n",
      " [[-24.]\n",
      " [-31.]\n",
      " [  5.]]\n",
      "dimension =  2\n",
      "shape =  (3, 1)\n",
      "data type = float64\n",
      "size =  3\n",
      "\n"
     ]
    }
   ],
   "source": [
    "# using incvers of A\n",
    "\n",
    "from numpy import linalg\n",
    "\n",
    "A = np.array([[3,-3,-4],\n",
    "             [1,-1,-1],\n",
    "             [2,-1,4]\n",
    "            ])\n",
    "\n",
    "\n",
    "b = np.array([[1],\n",
    "              [2],\n",
    "              [3]\n",
    "             ])\n",
    "\n",
    "\n",
    "inv_of_A = linalg.inv(A)\n",
    "array_propeties(inv_of_A,'inv_of_A')\n",
    "\n",
    "# A ^ -1 .b\n",
    "x = inv_of_A @ b\n",
    "\n",
    "# x = inv_of_A.dot(b)\n",
    "array_propeties(x,\"inv_of_A @ b\")\n",
    "\n",
    "# alternatively\n",
    "x1 = inv_of_A.dot(b)\n",
    "array_propeties(x1,\"inv_of_A @ b\")\n",
    "\n",
    "#or\n",
    "x2 = np.linalg.multi_dot([inv_of_A,b] )\n",
    "array_propeties(x2,\"inv_of_A @ b\")\n"
   ]
  },
  {
   "cell_type": "code",
   "execution_count": 56,
   "metadata": {},
   "outputs": [
    {
     "name": "stdout",
     "output_type": "stream",
     "text": [
      "\n",
      "array = \n",
      " -0.9999999999999998\n",
      "dimension =  0\n",
      "shape =  ()\n",
      "data type = float64\n",
      "size =  1\n",
      "\n",
      "x\n",
      "array = \n",
      " [[-24.]\n",
      " [-31.]\n",
      " [  5.]]\n",
      "dimension =  2\n",
      "shape =  (3, 1)\n",
      "data type = float64\n",
      "size =  3\n",
      "\n",
      "A_list  [array([[ 1, -3, -4],\n",
      "       [ 2, -1, -1],\n",
      "       [ 3, -1,  4]]), array([[ 3,  1, -4],\n",
      "       [ 1,  2, -1],\n",
      "       [ 2,  3,  4]]), array([[ 3, -3,  1],\n",
      "       [ 1, -1,  2],\n",
      "       [ 2, -1,  3]])]\n",
      "Di_list  [24.000000000000014, 31.0, -5.000000000000001]\n"
     ]
    }
   ],
   "source": [
    "# crammer's rule or determinant method\n",
    "from numpy.linalg import det\n",
    "\n",
    "A = np.array([[3,-3,-4],\n",
    "             [1,-1,-1],\n",
    "             [2,-1,4]\n",
    "            ])\n",
    "# array_propeties(A)\n",
    "\n",
    "b = np.array([[1],\n",
    "              [2],\n",
    "              [3]\n",
    "             ])\n",
    "# array_propeties(b)\n",
    "\n",
    "D =det(A)\n",
    "array_propeties(D)\n",
    "\n",
    "(m,n) = A.shape\n",
    "x = np.empty([3,1])\n",
    "A_list = []\n",
    "Di_list = []\n",
    "\n",
    "for i in range(n):\n",
    "    # get Ai\n",
    "    # copy original array\n",
    "    Ai = A.copy()\n",
    "    # replace colun i in the new array with b\n",
    "    Ai[:,i] = b[:,0]\n",
    "    # store new array Ai in a list\n",
    "    A_list.insert(i,Ai)\n",
    "    # find determinants of Ai\n",
    "    Di = det(Ai)\n",
    "    # store Di in a list\n",
    "    Di_list.insert(i,Di)\n",
    "    # compute xi\n",
    "    x[i] = Di/D\n",
    "\n",
    "array_propeties(x,\"x\")\n",
    "\n",
    "print(\"A_list \", A_list)\n",
    "print(\"Di_list \", Di_list)\n",
    "\n",
    "\n",
    "\n",
    "\n",
    "\n"
   ]
  },
  {
   "cell_type": "code",
   "execution_count": null,
   "metadata": {},
   "outputs": [],
   "source": [
    "\n",
    "A1 = np.copy(A)\n",
    "A1[:,0] = b.squeeze()\n",
    "D1 = det(A1)\n",
    "print(D1)\n",
    "\n",
    "array_propeties(A1,'A1')\n",
    "\n",
    "\n",
    "A2 = np.copy(A)\n",
    "A2[:,1] = b.squeeze()\n",
    "array_propeties(A2,'A2')\n",
    "D2 = det(A2)\n",
    "print(D2)\n",
    "print(\"\")\n",
    "\n",
    "\n",
    "A3 = np.copy(A)\n",
    "A3[:,2] = b.squeeze()\n",
    "array_propeties(A3,'A3')\n",
    "D3 = det(A3)\n",
    "print(D3)\n"
   ]
  },
  {
   "cell_type": "code",
   "execution_count": 69,
   "metadata": {},
   "outputs": [
    {
     "name": "stdout",
     "output_type": "stream",
     "text": [
      "[[162 191 177   7]\n",
      " [178 190  90 158]\n",
      " [125 136 249  23]\n",
      " [ 54  84  34 117]]\n",
      "\n",
      "A+B == B+A\n",
      "[[ True  True  True  True]\n",
      " [ True  True  True  True]\n",
      " [ True  True  True  True]\n",
      " [ True  True  True  True]]\n",
      "\n",
      "A-B == -(B-A)\n",
      "[[ True  True  True  True]\n",
      " [ True  True  True  True]\n",
      " [ True  True  True  True]\n",
      " [ True  True  True  True]]\n",
      "\n",
      " C = A * B\n",
      " [[  324  7449 29913   182]\n",
      " [40762 16340 18090 21804]\n",
      " [ 2750  4896 17181  4439]\n",
      " [ 5130 17640  7344 15912]]\n"
     ]
    }
   ],
   "source": [
    "import numpy as np\n",
    "A = np.random.randint(0,256,(4,4))\n",
    "print(A)\n",
    "\n",
    "B = np.random.randint(0,256,(4,4))\n",
    "\n",
    "print(\"\\nA+B == B+A\")\n",
    "print(A+B == B+A)\n",
    "\n",
    "print(\"\\nA-B == -(B-A)\")\n",
    "print(A-B == -(B-A))\n",
    "\n",
    "C = A * B\n",
    "\n",
    "print(\"\\n C = A * B\\n\",C)"
   ]
  },
  {
   "cell_type": "code",
   "execution_count": 70,
   "metadata": {},
   "outputs": [
    {
     "name": "stdout",
     "output_type": "stream",
     "text": [
      "Array A\n",
      "array = \n",
      " [[1 2 3]\n",
      " [4 5 6]\n",
      " [7 8 9]]\n",
      "dimension =  2\n",
      "shape =  (3, 3)\n",
      "data type = int32\n",
      "size =  9\n",
      "\n",
      "transpose of array A\n",
      "array = \n",
      " [[1 4 7]\n",
      " [2 5 8]\n",
      " [3 6 9]]\n",
      "dimension =  2\n",
      "shape =  (3, 3)\n",
      "data type = int32\n",
      "size =  9\n",
      "\n"
     ]
    }
   ],
   "source": [
    "##Transpose\n",
    "\n",
    "# change row values to columns and vise versa\n",
    "\n",
    "import numpy as np\n",
    "\n",
    "A = np.arange(1,10).reshape(3,3)\n",
    "\n",
    "transpose_A = np.transpose(A)\n",
    "array_propeties(A,\"Array A\")\n",
    "array_propeties(transpose_A,\"transpose of array A\")"
   ]
  },
  {
   "cell_type": "code",
   "execution_count": 77,
   "metadata": {},
   "outputs": [
    {
     "name": "stdout",
     "output_type": "stream",
     "text": [
      "\n",
      "array = \n",
      " [[1 2 3]]\n",
      "dimension =  2\n",
      "shape =  (1, 3)\n",
      "data type = int32\n",
      "size =  3\n",
      "\n",
      "\n",
      "array = \n",
      " [[1]\n",
      " [2]\n",
      " [3]]\n",
      "dimension =  2\n",
      "shape =  (3, 1)\n",
      "data type = int32\n",
      "size =  3\n",
      "\n"
     ]
    }
   ],
   "source": [
    "b = np.arange(1,4).reshape(1,3)\n",
    "array_propeties(b)\n",
    "transpose_b = np.transpose(b)\n",
    "array_propeties(transpose_b)"
   ]
  },
  {
   "cell_type": "code",
   "execution_count": 79,
   "metadata": {},
   "outputs": [
    {
     "name": "stdout",
     "output_type": "stream",
     "text": [
      "A\n",
      "array = \n",
      " [[1 2 3]\n",
      " [4 5 6]\n",
      " [7 8 9]]\n",
      "dimension =  2\n",
      "shape =  (3, 3)\n",
      "data type = int32\n",
      "size =  9\n",
      "\n",
      "B\n",
      "array = \n",
      " [[1 4 7]\n",
      " [2 5 8]\n",
      " [3 6 9]]\n",
      "dimension =  2\n",
      "shape =  (3, 3)\n",
      "data type = int32\n",
      "size =  9\n",
      "\n"
     ]
    }
   ],
   "source": [
    "A = np.arange(1,10).reshape(3,3)\n",
    "array_propeties(A,\"A\")\n",
    "B = np.transpose(A)\n",
    "array_propeties(B,\"B\")\n",
    "\n",
    "\n"
   ]
  },
  {
   "cell_type": "code",
   "execution_count": 83,
   "metadata": {},
   "outputs": [
    {
     "name": "stdout",
     "output_type": "stream",
     "text": [
      "A + B == B + A\n",
      "array = \n",
      " [[ 2  6 10]\n",
      " [ 6 10 14]\n",
      " [10 14 18]]\n",
      "dimension =  2\n",
      "shape =  (3, 3)\n",
      "data type = int32\n",
      "size =  9\n",
      "\n",
      "\n",
      "array = \n",
      " [[ True  True  True]\n",
      " [ True  True  True]\n",
      " [ True  True  True]]\n",
      "dimension =  2\n",
      "shape =  (3, 3)\n",
      "data type = bool\n",
      "size =  9\n",
      "\n"
     ]
    }
   ],
   "source": [
    "p1 = A + B \n",
    "array_propeties(p1,\"A + B == B + A\")\n",
    "A + B  == B + A\n",
    "array_propeties(A + B  == B + A)"
   ]
  },
  {
   "cell_type": "code",
   "execution_count": 86,
   "metadata": {},
   "outputs": [
    {
     "name": "stdout",
     "output_type": "stream",
     "text": [
      "A-B == -(B-A)\n",
      "array = \n",
      " [[ 0 -2 -4]\n",
      " [ 2  0 -2]\n",
      " [ 4  2  0]]\n",
      "dimension =  2\n",
      "shape =  (3, 3)\n",
      "data type = int32\n",
      "size =  9\n",
      "\n",
      "\n",
      "array = \n",
      " [[ True  True  True]\n",
      " [ True  True  True]\n",
      " [ True  True  True]]\n",
      "dimension =  2\n",
      "shape =  (3, 3)\n",
      "data type = bool\n",
      "size =  9\n",
      "\n"
     ]
    }
   ],
   "source": [
    "\n",
    "array_propeties(p2,\"A-B == -(B-A)\")\n",
    "\n",
    "array_propeties(A-B  == -(B-A))"
   ]
  },
  {
   "cell_type": "code",
   "execution_count": 87,
   "metadata": {},
   "outputs": [
    {
     "name": "stdout",
     "output_type": "stream",
     "text": [
      "A * B == B + A\n",
      "array = \n",
      " [[ 1  8 21]\n",
      " [ 8 25 48]\n",
      " [21 48 81]]\n",
      "dimension =  2\n",
      "shape =  (3, 3)\n",
      "data type = int32\n",
      "size =  9\n",
      "\n",
      "\n",
      "array = \n",
      " [[False False False]\n",
      " [False False False]\n",
      " [False False False]]\n",
      "dimension =  2\n",
      "shape =  (3, 3)\n",
      "data type = bool\n",
      "size =  9\n",
      "\n"
     ]
    }
   ],
   "source": [
    "p3 = A * B \n",
    "array_propeties(p3,\"A * B == B + A\")\n",
    "p3 == B + A\n",
    "array_propeties(A * B == B + A)"
   ]
  },
  {
   "cell_type": "code",
   "execution_count": 89,
   "metadata": {},
   "outputs": [
    {
     "name": "stdout",
     "output_type": "stream",
     "text": [
      "A @ B \n",
      "array = \n",
      " [[ 14  32  50]\n",
      " [ 32  77 122]\n",
      " [ 50 122 194]]\n",
      "dimension =  2\n",
      "shape =  (3, 3)\n",
      "data type = int32\n",
      "size =  9\n",
      "\n",
      "B @ A \n",
      "array = \n",
      " [[ 66  78  90]\n",
      " [ 78  93 108]\n",
      " [ 90 108 126]]\n",
      "dimension =  2\n",
      "shape =  (3, 3)\n",
      "data type = int32\n",
      "size =  9\n",
      "\n",
      "\n",
      "array = \n",
      " [[False False False]\n",
      " [False False False]\n",
      " [False False False]]\n",
      "dimension =  2\n",
      "shape =  (3, 3)\n",
      "data type = bool\n",
      "size =  9\n",
      "\n"
     ]
    }
   ],
   "source": [
    "p4 = A @ B \n",
    "array_propeties(p4,\"A @ B \")\n",
    "p4 =  B @ A\n",
    "array_propeties(p4,\"B @ A \")\n",
    "array_propeties(A @ B ==  B @ A)"
   ]
  },
  {
   "cell_type": "code",
   "execution_count": 101,
   "metadata": {},
   "outputs": [
    {
     "name": "stdout",
     "output_type": "stream",
     "text": [
      "a\n",
      "array = \n",
      " [[1 0]\n",
      " [0 1]]\n",
      "dimension =  2\n",
      "shape =  (2, 2)\n",
      "data type = int32\n",
      "size =  4\n",
      "\n",
      "a1\n",
      "array = \n",
      " [[1 2]\n",
      " [3 4]]\n",
      "dimension =  2\n",
      "shape =  (2, 2)\n",
      "data type = int32\n",
      "size =  4\n",
      "\n"
     ]
    }
   ],
   "source": [
    "# iDENTITY MATRIX\n",
    "\n",
    "import numpy as np\n",
    "a = np.array([\n",
    "    [1,0],\n",
    "    [0,1]\n",
    "])\n",
    "array_propeties(a,\"a\")\n",
    "\n",
    "a1 = np.array([\n",
    "    [1,2],\n",
    "    [3,4]\n",
    "])\n",
    "array_propeties(a1,\"a1\")"
   ]
  },
  {
   "cell_type": "code",
   "execution_count": null,
   "metadata": {},
   "outputs": [],
   "source": []
  },
  {
   "cell_type": "code",
   "execution_count": 102,
   "metadata": {},
   "outputs": [
    {
     "data": {
      "text/plain": [
       "array([[1, 0],\n",
       "       [0, 4]])"
      ]
     },
     "execution_count": 102,
     "metadata": {},
     "output_type": "execute_result"
    }
   ],
   "source": [
    "a * a1"
   ]
  },
  {
   "cell_type": "code",
   "execution_count": 103,
   "metadata": {},
   "outputs": [
    {
     "data": {
      "text/plain": [
       "array([[1, 2],\n",
       "       [3, 4]])"
      ]
     },
     "execution_count": 103,
     "metadata": {},
     "output_type": "execute_result"
    }
   ],
   "source": [
    "a @ a1"
   ]
  },
  {
   "cell_type": "code",
   "execution_count": 104,
   "metadata": {},
   "outputs": [
    {
     "name": "stdout",
     "output_type": "stream",
     "text": [
      "A\n",
      " [[1 2 3]\n",
      " [4 5 6]\n",
      " [7 8 9]]\n",
      "B\n",
      " [[1 4 7]\n",
      " [2 5 8]\n",
      " [3 6 9]]\n"
     ]
    }
   ],
   "source": [
    "A = np.arange(1,10).reshape(3,3)\n",
    "\n",
    "B = np.transpose(A.copy())\n",
    "\n",
    "print(\"A\\n\",A)\n",
    "print(\"B\\n\",B)"
   ]
  },
  {
   "cell_type": "code",
   "execution_count": 105,
   "metadata": {},
   "outputs": [
    {
     "name": "stdout",
     "output_type": "stream",
     "text": [
      "I\n",
      "array = \n",
      " [[1. 0. 0.]\n",
      " [0. 1. 0.]\n",
      " [0. 0. 1.]]\n",
      "dimension =  2\n",
      "shape =  (3, 3)\n",
      "data type = float64\n",
      "size =  9\n",
      "\n"
     ]
    }
   ],
   "source": [
    "m, n = A.shape\n",
    "\n",
    "I = np.eye(n)\n",
    "array_propeties(I,\"I\")"
   ]
  },
  {
   "cell_type": "code",
   "execution_count": 106,
   "metadata": {},
   "outputs": [
    {
     "data": {
      "text/plain": [
       "array([[1., 2., 3.],\n",
       "       [4., 5., 6.],\n",
       "       [7., 8., 9.]])"
      ]
     },
     "execution_count": 106,
     "metadata": {},
     "output_type": "execute_result"
    }
   ],
   "source": [
    "A @ I"
   ]
  },
  {
   "cell_type": "code",
   "execution_count": null,
   "metadata": {},
   "outputs": [],
   "source": [
    "I @ A"
   ]
  },
  {
   "cell_type": "code",
   "execution_count": 107,
   "metadata": {},
   "outputs": [
    {
     "data": {
      "text/plain": [
       "array([[ True,  True,  True],\n",
       "       [ True,  True,  True],\n",
       "       [ True,  True,  True]])"
      ]
     },
     "execution_count": 107,
     "metadata": {},
     "output_type": "execute_result"
    }
   ],
   "source": [
    "A @ I ==  I @ A"
   ]
  }
 ],
 "metadata": {
  "interpreter": {
   "hash": "cec62a064d8ef796245756839ae8d7bfd1eb88f7fffced9093246e5da3d7d003"
  },
  "kernelspec": {
   "display_name": "Python 3.8.11 64-bit ('pokka_bottle_inspection': conda)",
   "name": "python3"
  },
  "language_info": {
   "codemirror_mode": {
    "name": "ipython",
    "version": 3
   },
   "file_extension": ".py",
   "mimetype": "text/x-python",
   "name": "python",
   "nbconvert_exporter": "python",
   "pygments_lexer": "ipython3",
   "version": "3.8.11"
  },
  "orig_nbformat": 4
 },
 "nbformat": 4,
 "nbformat_minor": 2
}
