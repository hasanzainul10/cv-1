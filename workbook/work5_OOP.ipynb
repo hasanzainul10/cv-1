{
 "cells": [
  {
   "cell_type": "code",
   "execution_count": null,
   "metadata": {},
   "outputs": [],
   "source": [
    "##OOP##"
   ]
  },
  {
   "cell_type": "code",
   "execution_count": 3,
   "metadata": {},
   "outputs": [
    {
     "name": "stdout",
     "output_type": "stream",
     "text": [
      "<__main__.clsname object at 0x000001E0D19F20A0>\n",
      "ObjName attributes :  0\n",
      "ObjName attributes :  1\n",
      "ob2 attributes :  0\n"
     ]
    }
   ],
   "source": [
    "# CLASS DEFINITION(create a model/blueprint)\n",
    "class clsname:\n",
    "    x = 0\n",
    "\n",
    "## DEFINE INSTANCE OF CLASS (object)\n",
    "obName = clsname()\n",
    "\n",
    "# print memory address\n",
    "print(obName)\n",
    "\n",
    "# print object ATTRIBUTES\n",
    "print(\"ObjName attributes : \",obName.x)\n",
    "\n",
    "# modify attributes\n",
    "obName.x+=1\n",
    "print(\"ObjName attributes : \",obName.x)\n",
    "\n",
    "## create another instance of class clsname\n",
    "ob2 = clsname()\n",
    "print(\"ob2 attributes : \",ob2.x)\n"
   ]
  },
  {
   "cell_type": "code",
   "execution_count": 4,
   "metadata": {},
   "outputs": [
    {
     "name": "stdout",
     "output_type": "stream",
     "text": [
      "John\n",
      "12\n"
     ]
    }
   ],
   "source": [
    "## __init__(self,name,age) intialize an object of the class\n",
    "class Person:\n",
    "    # self is a pointer\n",
    "   def __init__(self,name,age):\n",
    "       self.name = name\n",
    "       self.age = age\n",
    "\n",
    "# create a person p1 with attributes john and 12 as its name and age.    \n",
    "p1 = Person(\"John\",12)\n",
    "\n",
    "# Access to attributes of an instance of object (p1) of Person class.\n",
    "print(p1.name)\n",
    "print(p1.age)"
   ]
  },
  {
   "cell_type": "code",
   "execution_count": 5,
   "metadata": {},
   "outputs": [
    {
     "name": "stdout",
     "output_type": "stream",
     "text": [
      "Hello my name is  j\n",
      "14\n"
     ]
    },
    {
     "ename": "AttributeError",
     "evalue": "'Person' object has no attribute 'age'",
     "output_type": "error",
     "traceback": [
      "\u001b[1;31m---------------------------------------------------------------------------\u001b[0m",
      "\u001b[1;31mAttributeError\u001b[0m                            Traceback (most recent call last)",
      "\u001b[1;32m~\\AppData\\Local\\Temp/ipykernel_20468/468130894.py\u001b[0m in \u001b[0;36m<module>\u001b[1;34m\u001b[0m\n\u001b[0;32m     19\u001b[0m \u001b[1;31m## delete attribute value\u001b[0m\u001b[1;33m\u001b[0m\u001b[1;33m\u001b[0m\u001b[1;33m\u001b[0m\u001b[0m\n\u001b[0;32m     20\u001b[0m \u001b[1;32mdel\u001b[0m\u001b[1;33m(\u001b[0m\u001b[0mp1\u001b[0m\u001b[1;33m.\u001b[0m\u001b[0mage\u001b[0m\u001b[1;33m)\u001b[0m\u001b[1;33m\u001b[0m\u001b[1;33m\u001b[0m\u001b[0m\n\u001b[1;32m---> 21\u001b[1;33m \u001b[0mprint\u001b[0m\u001b[1;33m(\u001b[0m\u001b[0mp1\u001b[0m\u001b[1;33m.\u001b[0m\u001b[0mage\u001b[0m\u001b[1;33m)\u001b[0m\u001b[1;33m\u001b[0m\u001b[1;33m\u001b[0m\u001b[0m\n\u001b[0m\u001b[0;32m     22\u001b[0m \u001b[1;33m\u001b[0m\u001b[0m\n",
      "\u001b[1;31mAttributeError\u001b[0m: 'Person' object has no attribute 'age'"
     ]
    }
   ],
   "source": [
    "##METHOD## FUNCTION BUILT IN CLASS\n",
    "class Person:\n",
    "    def __init__(self,name,age):\n",
    "        self.name = name\n",
    "        self.age = age\n",
    "    \n",
    "    def greet(self):\n",
    "        # since greet is a method(function) inside a class it has access to \n",
    "        # attributes in the class\n",
    "        print(\"Hello my name is \",self.name)\n",
    "    \n",
    "p1 = Person(\"j\",\"99\")\n",
    "p1.greet()\n",
    "\n",
    "## modify attribute value\n",
    "p1.age = 14\n",
    "print(p1.age)\n",
    "\n",
    "## delete attribute value\n",
    "del(p1.age)\n",
    "# will return error saying that age doesnt exist\n",
    "# since we deleted it \n",
    "print(p1.age)\n",
    "\n"
   ]
  },
  {
   "cell_type": "code",
   "execution_count": 17,
   "metadata": {},
   "outputs": [
    {
     "name": "stdout",
     "output_type": "stream",
     "text": [
      "first name : Mike\n",
      "last name : Tyson\n",
      "graduation year :  2019\n",
      "first name : Toby\n",
      "last name : Tyson\n",
      "graduation year :  2019\n"
     ]
    }
   ],
   "source": [
    "## Inheritence\n",
    "\n",
    "class person :\n",
    "    def __init__(self,fn,ln):\n",
    "        self.fn = fn\n",
    "        self.ln = ln\n",
    "    def printInfo(self):\n",
    "        print(f\"first name : {self.fn}\")\n",
    "        print(f\"last name : {self.ln}\")\n",
    "\n",
    "# students inherit person attributes and may have its own unique attributes\n",
    "class student(person):\n",
    "    def __init__(self, fn, ln, graduation_year):\n",
    "        # inherit attributes from person\n",
    "        # you can you either of the two below \n",
    "        # person.__init__(self,fn,ln)\n",
    "        super().__init__(fn,ln)\n",
    "\n",
    "        # add another attribute to student that is not in person\n",
    "        self.graduation_year = graduation_year\n",
    "\n",
    "    def printInfo(self):\n",
    "        super().printInfo()\n",
    "        print(\"graduation year : \",self.graduation_year) \n",
    "    # you can also overwrite inherited method \n",
    "    # def printInfo(self):\n",
    "    #     print(f\"first name : {self.fn}\")\n",
    "    #     print(f\"last name : {self.ln}\")\n",
    "    #     print(f\"graduation year :{self.graduation_year}\\n\")\n",
    "\n",
    "x = student(\"Mike\",\"Tyson\",2019)\n",
    "x.printInfo()\n",
    "\n",
    "x.fn = \"Toby\"\n",
    "x.printInfo()\n"
   ]
  },
  {
   "cell_type": "code",
   "execution_count": null,
   "metadata": {},
   "outputs": [],
   "source": []
  }
 ],
 "metadata": {
  "interpreter": {
   "hash": "1baa965d5efe3ac65b79dfc60c0d706280b1da80fedb7760faf2759126c4f253"
  },
  "kernelspec": {
   "display_name": "Python 3.8.8 64-bit",
   "name": "python3"
  },
  "language_info": {
   "codemirror_mode": {
    "name": "ipython",
    "version": 3
   },
   "file_extension": ".py",
   "mimetype": "text/x-python",
   "name": "python",
   "nbconvert_exporter": "python",
   "pygments_lexer": "ipython3",
   "version": "3.8.8"
  },
  "orig_nbformat": 4
 },
 "nbformat": 4,
 "nbformat_minor": 2
}
