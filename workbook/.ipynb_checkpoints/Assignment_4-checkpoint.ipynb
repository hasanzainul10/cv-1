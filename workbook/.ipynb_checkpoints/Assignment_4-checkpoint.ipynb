{
 "cells": [
  {
   "cell_type": "code",
   "execution_count": 2,
   "metadata": {},
   "outputs": [
    {
     "name": "stdout",
     "output_type": "stream",
     "text": [
      "{'initialTemp': 400, 'simulationTime': 35}\n",
      "{'initialTemp': 400, 'simulationTime': 35}\n",
      "{'initialTemp': 400, 'simulationTime': 35, 'date': '10/4/2035'}\n",
      "{'date': '10/4/2035'}\n"
     ]
    }
   ],
   "source": [
    "##FUNCTIONS#\n",
    "##Q1\n",
    "def my_function(**dictionary):\n",
    "    if  len(dictionary)==0:\n",
    "        dictionary[\"initialTemp\"]=400\n",
    "        dictionary[\"simulationTime\"]=35\n",
    "\n",
    "    print(dictionary)\n",
    "\n",
    "my_function()\n",
    "\n",
    "my_function(initialTemp = 400, simulationTime = 35)\n",
    "\n",
    "\n",
    "my_function(initialTemp = 400, simulationTime = 35,date =\"10/4/2035\" )\n",
    "my_function(date =\"10/4/2035\" )\n"
   ]
  },
  {
   "cell_type": "code",
   "execution_count": 6,
   "metadata": {},
   "outputs": [
    {
     "name": "stdout",
     "output_type": "stream",
     "text": [
      "10\n",
      "10\n"
     ]
    }
   ],
   "source": [
    "##Q2 write function to calculate s = 1 + 2 ..n\n",
    "\n",
    "# a) simple way\n",
    "def sum_to_n(n):\n",
    "    sum=0\n",
    "    for i in range(1,n+1):\n",
    "        sum = sum + i\n",
    "    return sum\n",
    "\n",
    "print(sum_to_n(4))\n",
    "\n",
    "# b) via recursive function\n",
    "\n",
    "def sum_to_n_recursive(n):\n",
    "    if n == 0:\n",
    "        return 0\n",
    "    elif n == 1:\n",
    "        return 1\n",
    "    else:\n",
    "        sum=n + sum_to_n_recursive(n-1)\n",
    "    return sum\n",
    "\n",
    "print(sum_to_n_recursive(4))"
   ]
  },
  {
   "cell_type": "code",
   "execution_count": 3,
   "metadata": {},
   "outputs": [
    {
     "name": "stdout",
     "output_type": "stream",
     "text": [
      "[0, 1, 1, 2, 3, 5]\n"
     ]
    }
   ],
   "source": [
    "##Q3 Write function to create Fibonacci sequence (0,1,1,2,3,5)\n",
    "\n",
    "# a) without recursion\n",
    "def fibonacci_seq(n):\n",
    "    seq = []\n",
    "    for i in range(n):\n",
    "        \n",
    "        if i == 0:\n",
    "            seq.append(i)\n",
    "        elif i==1:\n",
    "            sum = i + seq[i-1]\n",
    "            seq.append(sum)\n",
    "        else:\n",
    "            sum = seq[i-1]+seq[i-2]\n",
    "            seq.append(sum)\n",
    "    return seq\n",
    "       \n",
    "\n",
    "print(fibonacci_seq(6))\n",
    "\n"
   ]
  },
  {
   "cell_type": "code",
   "execution_count": 2,
   "metadata": {},
   "outputs": [
    {
     "name": "stdout",
     "output_type": "stream",
     "text": [
      "[0, 1, 1, 2, 3, 5]\n"
     ]
    }
   ],
   "source": [
    "# b) with recursion\n",
    "def fibonacci_recursive(n):\n",
    "    if n == 0:\n",
    "        sum = n\n",
    "            \n",
    "    elif n == 1:\n",
    "        sum = n + fibonacci_recursive(n-1)\n",
    "            \n",
    "    else:\n",
    "        sum = fibonacci_recursive(n-1)+fibonacci_recursive(n-2)\n",
    "    return sum  \n",
    "\n",
    "\n",
    "\n",
    "\n",
    "def fibonacci_seq_recursive(n):\n",
    "    seq = []\n",
    "    for i in range(n):\n",
    "        sum = fibonacci_recursive(i)\n",
    "        seq.append(sum)\n",
    "    return seq\n",
    "\n",
    "print(fibonacci_seq_recursive(6))"
   ]
  },
  {
   "cell_type": "code",
   "execution_count": 3,
   "metadata": {},
   "outputs": [
    {
     "name": "stdout",
     "output_type": "stream",
     "text": [
      "9\n"
     ]
    }
   ],
   "source": [
    "##LAMBDA FUNCTION##\n",
    "# Q1. Write down a function to produce this statement: \n",
    "# f(x,y,z) = 2x^2 + 2y + z\n",
    "f = lambda x,y,z : 2*pow(x,2) + 2*y + z\n",
    "\n",
    "print(f(1,2,3))"
   ]
  },
  {
   "cell_type": "code",
   "execution_count": 1,
   "metadata": {},
   "outputs": [
    {
     "name": "stdout",
     "output_type": "stream",
     "text": [
      "Current date and time :  2021-10-22 09:34:08.137162\n",
      "year: 2021\n",
      "month: 10\n",
      "day: 22\n",
      "2021\n",
      "10\n",
      "22\n"
     ]
    }
   ],
   "source": [
    "##PREBUILT FUNCTION##\n",
    "\n",
    "# Q1 Find function to format date and current time. Try it\n",
    "from datetime import datetime\n",
    "\n",
    "now = datetime.now()\n",
    "print(\"Current date and time : \", now)\n",
    "year = now.strftime(\"%Y\")\n",
    "print(\"year:\", year)\n",
    "\n",
    "month = now.strftime(\"%m\")\n",
    "print(\"month:\", month)\n",
    "\n",
    "day = now.strftime(\"%d\")\n",
    "print(\"day:\", day)\n",
    "\n",
    "print(day)\n",
    "print(month)\n",
    "print(year)\n",
    "\n",
    "\n",
    "\n"
   ]
  },
  {
   "cell_type": "code",
   "execution_count": 15,
   "metadata": {},
   "outputs": [
    {
     "name": "stdout",
     "output_type": "stream",
     "text": [
      "0\n",
      "1\n",
      "1.5707963267948966\n",
      "90.0\n"
     ]
    }
   ],
   "source": [
    "import math\n",
    "\n",
    "# Round number to nearest integer \n",
    "# math.floor(), ie 2.9 nearest is 2 and 3, floor take the lower value.so it returns 2\n",
    "x = math.floor(0.9)\n",
    "print(x)\n",
    "\n",
    "# math.ceil(), same as floor but take higher value instead\n",
    "y = math.ceil(0.9)\n",
    "print(y)\n",
    "\n",
    "# convert angle in degree to radians\n",
    "z =math.radians(90)\n",
    "print(z)\n",
    "\n",
    "# convert radians to degree\n",
    "i = math.degrees(z)\n",
    "print(i)\n",
    "\n"
   ]
  },
  {
   "cell_type": "code",
   "execution_count": 7,
   "metadata": {},
   "outputs": [
    {
     "name": "stdout",
     "output_type": "stream",
     "text": [
      "Current date and time :  2021-10-22 09:39:09.123762\n",
      "90 degree in radians is 1.5707963267948966\n",
      "1.570796 radians in degree 90.0\n",
      "The floor value of 0.7 is 0\n",
      "The ceiling value of 0.7 is 1\n"
     ]
    }
   ],
   "source": [
    "##MODULE AND PACKAGES##\n",
    "# 1. create module with your name and import functions found in previous assignment\n",
    "# 2. Try importing the module and test it.\n",
    "from hasanPackage import hasan as h\n",
    "\n",
    "h.getDateTime()\n",
    "print(f\"90 degree in radians is {h.radians(90)}\")\n",
    "print(f\"1.570796 radians in degree {h.degree(1.5707963267948966)}\")\n",
    "print(f\"The floor value of 0.7 is {h.floor(0.7)}\")\n",
    "print(f\"The ceiling value of 0.7 is {h.ceil(0.7)}\")"
   ]
  },
  {
   "cell_type": "code",
   "execution_count": 2,
   "metadata": {},
   "outputs": [
    {
     "name": "stdout",
     "output_type": "stream",
     "text": [
      "hi hasan\n",
      "1\n",
      "2\n",
      "3\n",
      "4\n",
      "5\n"
     ]
    }
   ],
   "source": [
    "\n",
    "# create a function to count from 1 to n and save it in a module. \n",
    "# create a package and put the prev module in it\n",
    "# test it\n",
    "from hasanPackage import hasan\n",
    "\n",
    "hasan.greeting(\"hasan\")\n",
    "hasan.countTo(5)\n",
    "\n"
   ]
  },
  {
   "cell_type": "code",
   "execution_count": 22,
   "metadata": {},
   "outputs": [
    {
     "name": "stdout",
     "output_type": "stream",
     "text": [
      "No\tStudent_name\tgrade\n",
      "\n",
      "1.\t Inamul \t100\n",
      "\n",
      "2.\t Alkisah \t100\n",
      "\n",
      "3.\t Nu'man \t100\n",
      "\n"
     ]
    }
   ],
   "source": [
    "##FILE HANDLING##\n",
    "import os\n",
    "\n",
    "f = open(\"hasan.txt\",'w')\n",
    "f.writelines(\"No\\tStudent_name\\tgrade\\n\")\n",
    "f.writelines(\"1.\\t Inamul \\t100\\n\")\n",
    "f.writelines(\"2.\\t Alkisah \\t100\\n\")\n",
    "f.writelines(\"3.\\t Nu'man \\t100\\n\")\n",
    "f.close()\n",
    "\n",
    "f1=open(\"hasan.txt\",'r')\n",
    "for l in f1:\n",
    "    print(l)\n",
    "\n",
    "f1.close()\n",
    "\n",
    "\n",
    "\n",
    "\n",
    "\n"
   ]
  },
  {
   "cell_type": "code",
   "execution_count": 9,
   "metadata": {},
   "outputs": [
    {
     "name": "stdout",
     "output_type": "stream",
     "text": [
      "This is written and will be read\n"
     ]
    }
   ],
   "source": [
    "from hasanPackage import FileHandling\n",
    "\n",
    "fn = \"last.txt\"\n",
    "str= \"This is written and will be read\"\n",
    "\n",
    "FileHandling.creating(fn)\n",
    "FileHandling.writing(fn,str)\n",
    "FileHandling.reading(fn)"
   ]
  },
  {
   "cell_type": "code",
   "execution_count": 11,
   "metadata": {},
   "outputs": [
    {
     "ename": "FileNotFoundError",
     "evalue": "[WinError 2] The system cannot find the file specified: 'last.txt'",
     "output_type": "error",
     "traceback": [
      "\u001b[1;31m---------------------------------------------------------------------------\u001b[0m",
      "\u001b[1;31mFileNotFoundError\u001b[0m                         Traceback (most recent call last)",
      "\u001b[1;32m~\\AppData\\Local\\Temp/ipykernel_9912/2391635629.py\u001b[0m in \u001b[0;36m<module>\u001b[1;34m\u001b[0m\n\u001b[0;32m      1\u001b[0m \u001b[1;32mfrom\u001b[0m \u001b[0mhasanPackage\u001b[0m \u001b[1;32mimport\u001b[0m \u001b[0mdestroy\u001b[0m\u001b[1;33m\u001b[0m\u001b[1;33m\u001b[0m\u001b[0m\n\u001b[0;32m      2\u001b[0m \u001b[0mfn\u001b[0m \u001b[1;33m=\u001b[0m \u001b[1;34m\"last.txt\"\u001b[0m\u001b[1;33m\u001b[0m\u001b[1;33m\u001b[0m\u001b[0m\n\u001b[1;32m----> 3\u001b[1;33m \u001b[0mdestroy\u001b[0m\u001b[1;33m.\u001b[0m\u001b[0mdestroy\u001b[0m\u001b[1;33m(\u001b[0m\u001b[0mfn\u001b[0m\u001b[1;33m)\u001b[0m\u001b[1;33m\u001b[0m\u001b[1;33m\u001b[0m\u001b[0m\n\u001b[0m",
      "\u001b[1;32m~\\Documents\\GitHub\\cv-1\\workbook\\hasanPackage\\destroy.py\u001b[0m in \u001b[0;36mdestroy\u001b[1;34m(fn)\u001b[0m\n\u001b[0;32m      3\u001b[0m \u001b[1;32mdef\u001b[0m \u001b[0mdestroy\u001b[0m\u001b[1;33m(\u001b[0m\u001b[0mfn\u001b[0m\u001b[1;33m)\u001b[0m\u001b[1;33m:\u001b[0m\u001b[1;33m\u001b[0m\u001b[1;33m\u001b[0m\u001b[0m\n\u001b[0;32m      4\u001b[0m     \u001b[1;32mtry\u001b[0m\u001b[1;33m:\u001b[0m\u001b[1;33m\u001b[0m\u001b[1;33m\u001b[0m\u001b[0m\n\u001b[1;32m----> 5\u001b[1;33m         \u001b[0mos\u001b[0m\u001b[1;33m.\u001b[0m\u001b[0mremove\u001b[0m\u001b[1;33m(\u001b[0m\u001b[0mfn\u001b[0m\u001b[1;33m)\u001b[0m\u001b[1;33m\u001b[0m\u001b[1;33m\u001b[0m\u001b[0m\n\u001b[0m\u001b[0;32m      6\u001b[0m     \u001b[1;32mexcept\u001b[0m\u001b[1;33m:\u001b[0m\u001b[1;33m\u001b[0m\u001b[1;33m\u001b[0m\u001b[0m\n\u001b[0;32m      7\u001b[0m         \u001b[0mprint\u001b[0m\u001b[1;33m(\u001b[0m\u001b[1;34m\"File not found!\"\u001b[0m\u001b[1;33m)\u001b[0m\u001b[1;33m\u001b[0m\u001b[1;33m\u001b[0m\u001b[0m\n",
      "\u001b[1;31mFileNotFoundError\u001b[0m: [WinError 2] The system cannot find the file specified: 'last.txt'"
     ]
    }
   ],
   "source": [
    "from hasanPackage import destroy\n",
    "fn = \"last.txt\"\n",
    "destroy.destroy(fn)"
   ]
  }
 ],
 "metadata": {
  "interpreter": {
   "hash": "1baa965d5efe3ac65b79dfc60c0d706280b1da80fedb7760faf2759126c4f253"
  },
  "kernelspec": {
   "display_name": "Python 3",
   "language": "python",
   "name": "python3"
  },
  "language_info": {
   "codemirror_mode": {
    "name": "ipython",
    "version": 3
   },
   "file_extension": ".py",
   "mimetype": "text/x-python",
   "name": "python",
   "nbconvert_exporter": "python",
   "pygments_lexer": "ipython3",
   "version": "3.8.8"
  }
 },
 "nbformat": 4,
 "nbformat_minor": 4
}
