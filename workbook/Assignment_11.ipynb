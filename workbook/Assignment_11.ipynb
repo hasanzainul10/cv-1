{
 "cells": [
  {
   "cell_type": "markdown",
   "metadata": {},
   "source": [
    "### Assignment 11\n",
    "1. Create a video and attach border of different colour\n",
    "2. Save the video\n",
    "3. Create a video player that can play any video file passed to it from any command line."
   ]
  },
  {
   "cell_type": "code",
   "execution_count": 1,
   "metadata": {},
   "outputs": [],
   "source": [
    "import cv2 as cv\n",
    "\n",
    "cap = cv.VideoCapture(0)\n",
    "\n",
    "if cap.isOpened is False:\n",
    "    print(\"Camera 0 not connected.\")\n",
    "    exit()\n",
    "\n",
    "# Define the codec and create VideoWriter object\n",
    "fourcc = cv.VideoWriter_fourcc(*'XVID')\n",
    "video_out = cv.VideoWriter('output2.avi', fourcc, 20.0, (640,  480))\n",
    "\n",
    "while cap.isOpened():\n",
    "    # capture frames, if read correctly ret is True\n",
    "    ret, frame = cap.read()\n",
    "\n",
    "    if not ret:\n",
    "        print(\"Didn't receive frame. Stop \")\n",
    "        break\n",
    "\n",
    "    # write the flipped frame\n",
    "    video_out.write(frame)\n",
    "    \n",
    "    # display frame\n",
    "    cv.imshow(\"Camera frame\", frame)\n",
    "\n",
    "    k = cv.waitKey(1) \n",
    "    # check if key is q then exit\n",
    "    if k == ord(\"q\"):\n",
    "        break\n",
    "\n",
    "cap.release()\n",
    "video_out.release()\n",
    "cv.destroyAllWindows()"
   ]
  },
  {
   "cell_type": "code",
   "execution_count": null,
   "metadata": {},
   "outputs": [
    {
     "ename": "Error",
     "evalue": "Session cannot generate requests",
     "output_type": "error",
     "traceback": [
      "Error: Session cannot generate requests",
      "at w.executeCodeCell (c:\\Users\\user\\.vscode\\extensions\\ms-toolsai.jupyter-2021.9.1101343141\\out\\client\\extension.js:52:301180)",
      "at w.execute (c:\\Users\\user\\.vscode\\extensions\\ms-toolsai.jupyter-2021.9.1101343141\\out\\client\\extension.js:52:300551)",
      "at w.start (c:\\Users\\user\\.vscode\\extensions\\ms-toolsai.jupyter-2021.9.1101343141\\out\\client\\extension.js:52:296215)",
      "at processTicksAndRejections (internal/process/task_queues.js:93:5)",
      "at t.CellExecutionQueue.executeQueuedCells (c:\\Users\\user\\.vscode\\extensions\\ms-toolsai.jupyter-2021.9.1101343141\\out\\client\\extension.js:52:310950)",
      "at t.CellExecutionQueue.start (c:\\Users\\user\\.vscode\\extensions\\ms-toolsai.jupyter-2021.9.1101343141\\out\\client\\extension.js:52:310490)"
     ]
    }
   ],
   "source": [
    "import sys\n",
    "import cv2 as cv\n",
    "import matplotlib.pyplot as plt\n",
    "\n",
    "# get the file path from command line\n",
    "filePath = sys.argv[1]\n",
    "capture = cv.VideoCapture(filePath)\n",
    "\n",
    "if capture.isOpened() is False:\n",
    "    filePath = \"C:\\Users\\user\\Documents\\GitHub\\cv-1\\samples\\data\\vtest.avi\"\n",
    "    capture = cv.VideoCapture(filePath)\n",
    "\n",
    "\n",
    "\n",
    "# check if connected\n",
    "if capture.isOpened() is False:\n",
    "    print(\"Error opening camera 0\")\n",
    "    exit()\n",
    "\n",
    "while capture.isOpened():\n",
    "    # capture frames, if read correctly ret is True\n",
    "    ret, frame = capture.read()\n",
    "\n",
    "    if not ret:\n",
    "        print(\"Didn't receive frame. Stop \")\n",
    "        break\n",
    "\n",
    "    # display frame\n",
    "    cv.imshow(\"Camera frame\", frame)\n",
    "\n",
    "    k = cv.waitKey(10)\n",
    "\n",
    "    # check if key is q then exit\n",
    "    if k == ord(\"q\"):\n",
    "        break\n",
    "\n",
    "capture.release()\n",
    "cv.destroyAllWindows()"
   ]
  }
 ],
 "metadata": {
  "interpreter": {
   "hash": "671a3f9365e2ddb3e011acccdc6be60219ea0977f3b7efe8ce53d02c31a3343e"
  },
  "kernelspec": {
   "display_name": "Python 3.8.12 64-bit ('Plastico_3': conda)",
   "name": "python3"
  },
  "language_info": {
   "codemirror_mode": {
    "name": "ipython",
    "version": 3
   },
   "file_extension": ".py",
   "mimetype": "text/x-python",
   "name": "python",
   "nbconvert_exporter": "python",
   "pygments_lexer": "ipython3",
   "version": "3.8.12"
  },
  "orig_nbformat": 4
 },
 "nbformat": 4,
 "nbformat_minor": 2
}
