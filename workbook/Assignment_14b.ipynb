{
 "cells": [
  {
   "cell_type": "markdown",
   "metadata": {},
   "source": []
  },
  {
   "cell_type": "code",
   "execution_count": null,
   "metadata": {},
   "outputs": [],
   "source": [
    "import cv2 as cv \n",
    "import numpy as np\n",
    "import matplotlib.pyplot as plt\n",
    "\n",
    "# Load the image and convert it to grayscale:\n",
    "img = cv.imread(r\"C:\\Users\\user\\Documents\\GitHub\\cv-1\\workbook\\shapes3.png\")\n",
    "imgGray = cv.cvtColor(img, cv.COLOR_BGR2GRAY)\n",
    "\n",
    "# Apply thresholding to get a binary image:\n",
    "ret, threshImg = cv.threshold(imgGray, 200, 255, cv.THRESH_BINARY_INV)\n",
    "\n",
    "# Find contours using the thresholded image:\n",
    "contours, hierarchy = cv.findContours(threshImg, cv.RETR_EXTERNAL, cv.CHAIN_APPROX_NONE)\n",
    "\n",
    "# number of detected contours:\n",
    "print(f\"detected contours: {len(contours)}\")\n",
    "\n",
    "# create list of tuple (size, shape) for each contour\n",
    "# list of contour size\n",
    "contours_sizes = [cv.contourArea(contour) for contour in contours]\n",
    "# list of (size, contour)\n",
    "size_shape_list = zip(contours_sizes, contours)\n",
    "sorted_size_shape_list = sorted(size_shape_list)\n",
    "# (contour_sizes, contours) = zip(*sorted_size_shape_list)\n",
    "\n",
    "plt.figure(figsize=(10,10))\n",
    "\n",
    "# BGR to RGB\n",
    "imgRGB = img[:,:,::-1]\n",
    "plt.subplot(221)\n",
    "plt.imshow(imgRGB)\n",
    "\n",
    "plt.subplot(222)\n",
    "plt.imshow(threshImg)\n",
    "\n",
    "for i, (size, contour) in enumerate(sorted_size_shape_list):\n",
    "    # Compute the moment of contour:\n",
    "    M = cv.moments(contour)\n",
    "\n",
    "    # The center or centroid can be calculated as follows:\n",
    "    cX = int(M['m10'] / M['m00'])\n",
    "    cY = int(M['m01'] / M['m00'])\n",
    "\n",
    "    # Get the position to draw:    \n",
    "    text = str(i + 1)\n",
    "    fontFace = cv.FONT_HERSHEY_SIMPLEX\n",
    "    fontScale = 1\n",
    "    thickness = 2\n",
    "    text_size = cv.getTextSize(text, fontFace, fontScale, thickness)[0]\n",
    "\n",
    "    text_x = cX - text_size[0] / 2\n",
    "    text_x = round(text_x)\n",
    "    text_y = cY + text_size[1] / 2\n",
    "    text_y = round(text_y)\n",
    "    \n",
    "    # Write the ordering of the shape on the center of shapes\n",
    "    color = (255, 0, 0)\n",
    "    cv.putText(img, text, (text_x, text_y), fontFace, fontScale, color, thickness)\n",
    "\n",
    "# BGR to RGB\n",
    "imgRGB = img[:,:,::-1]\n",
    "plt.subplot(223)\n",
    "plt.imshow(imgRGB)\n",
    "\n",
    "plt.show()"
   ]
  },
  {
   "cell_type": "code",
   "execution_count": null,
   "metadata": {},
   "outputs": [],
   "source": []
  }
 ],
 "metadata": {
  "interpreter": {
   "hash": "12fe374ed9a07b34b1ce4b21a6a8a3425eaaea14e44d189e3137634e9d188276"
  },
  "kernelspec": {
   "display_name": "Python 3.8.11 64-bit ('Plastico_2': conda)",
   "language": "python",
   "name": "python3"
  },
  "language_info": {
   "name": "python",
   "version": "3.8.11"
  },
  "orig_nbformat": 4
 },
 "nbformat": 4,
 "nbformat_minor": 2
}
