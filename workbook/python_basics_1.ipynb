{
 "cells": [
  {
   "cell_type": "code",
   "execution_count": null,
   "id": "f5ece708-3e02-4117-ac8a-ebc42cc91508",
   "metadata": {},
   "outputs": [],
   "source": [
    "# this is single line comment"
   ]
  },
  {
   "cell_type": "code",
   "execution_count": 2,
   "id": "f05ec21d-14fb-4fc8-8198-7bc67a63babd",
   "metadata": {},
   "outputs": [
    {
     "data": {
      "text/plain": [
       "'\\nThis is\\nmultiple lines\\ncomment\\n'"
      ]
     },
     "execution_count": 2,
     "metadata": {},
     "output_type": "execute_result"
    }
   ],
   "source": [
    "\"\"\"\n",
    "This is\n",
    "multiple lines\n",
    "comment\n",
    "\"\"\""
   ]
  },
  {
   "cell_type": "code",
   "execution_count": null,
   "id": "98f4558a-7a42-4868-a805-3484b87bb220",
   "metadata": {},
   "outputs": [],
   "source": [
    "# Variable naming rules\n",
    "\n",
    "#1. Can't start with number or most symbols\n",
    "0a=1\n",
    "# will return an error"
   ]
  },
  {
   "cell_type": "code",
   "execution_count": null,
   "id": "ca69bebb-f74a-4f73-9b65-afb397f0558e",
   "metadata": {},
   "outputs": [],
   "source": [
    "# 2 can start with alphabet and underscore\n",
    "\n",
    "_a = 5\n",
    "a=4\n",
    "print(_a)\n",
    "print(a)"
   ]
  },
  {
   "cell_type": "code",
   "execution_count": null,
   "id": "1fdf6b25-4a90-4517-95de-5cd2728eb5d4",
   "metadata": {},
   "outputs": [],
   "source": [
    "# Type of variables are based on the value assigned.\n",
    "\n",
    "# Integer\n",
    "amuount = 20\n",
    "# String\n",
    "namae = \"You\"\n",
    "# Float\n",
    "price = 2.30\n",
    "# Boolean\n",
    "sick = True"
   ]
  },
  {
   "cell_type": "code",
   "execution_count": null,
   "id": "309e17a0-787a-45f9-a27d-1882f4c61b4a",
   "metadata": {},
   "outputs": [],
   "source": []
  },
  {
   "cell_type": "code",
   "execution_count": null,
   "id": "46055f52-1ebe-4c4b-8d80-bca6c9a89071",
   "metadata": {},
   "outputs": [],
   "source": [
    "# Assigning multiple values at once\n",
    "amount, namae, price, sick = 10, \"No you\", 4.60, False"
   ]
  },
  {
   "cell_type": "code",
   "execution_count": 4,
   "id": "d6cf8979-cfdc-4992-8bf5-5d5694265d55",
   "metadata": {},
   "outputs": [
    {
     "name": "stdin",
     "output_type": "stream",
     "text": [
      "Please enter your name : Inamul\n"
     ]
    },
    {
     "name": "stdout",
     "output_type": "stream",
     "text": [
      "Inamul\n"
     ]
    }
   ],
   "source": [
    "# Getting input from user, \n",
    "#the string given to input function are message for user before giving their input.\n",
    "\n",
    "name = input(\"Please enter your name :\")\n",
    "print(name)"
   ]
  },
  {
   "cell_type": "code",
   "execution_count": 5,
   "id": "3d814003-e38a-43cc-b4c5-73069ed08834",
   "metadata": {},
   "outputs": [
    {
     "name": "stdin",
     "output_type": "stream",
     "text": [
      "How long have you been alive(in years)? 10\n"
     ]
    }
   ],
   "source": [
    "age = input(\"How old are you ?\")"
   ]
  },
  {
   "cell_type": "code",
   "execution_count": 6,
   "id": "60bd0d0b-9e52-4491-8883-2b1c68f30e14",
   "metadata": {},
   "outputs": [
    {
     "name": "stdout",
     "output_type": "stream",
     "text": [
      "10\n"
     ]
    }
   ],
   "source": [
    "print(age)"
   ]
  },
  {
   "cell_type": "code",
   "execution_count": null,
   "id": "ffb96ac9-a8f3-4f95-8168-17a80cc33fd3",
   "metadata": {},
   "outputs": [],
   "source": []
  }
 ],
 "metadata": {
  "kernelspec": {
   "display_name": "Python 3",
   "language": "python",
   "name": "python3"
  },
  "language_info": {
   "codemirror_mode": {
    "name": "ipython",
    "version": 3
   },
   "file_extension": ".py",
   "mimetype": "text/x-python",
   "name": "python",
   "nbconvert_exporter": "python",
   "pygments_lexer": "ipython3",
   "version": "3.8.8"
  }
 },
 "nbformat": 4,
 "nbformat_minor": 5
}
