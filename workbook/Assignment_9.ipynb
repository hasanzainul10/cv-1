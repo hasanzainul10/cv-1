{
 "cells": [
  {
   "cell_type": "code",
   "execution_count": 25,
   "metadata": {},
   "outputs": [
    {
     "name": "stdout",
     "output_type": "stream",
     "text": [
      "[[168  15 237  72  22  43]\n",
      " [210  75 104   7 162 177]\n",
      " [ 95  75 213  47  63  31]\n",
      " [218 148 124 116  37 167]\n",
      " [195 102   4 170 107  51]\n",
      " [103  38 234  33  58 124]]\n",
      "[[ 7.95123333e-03  4.19991509e-03 -9.34339134e-04  1.96100012e-03\n",
      "  -2.66691178e-03 -1.00628872e-02]\n",
      " [-5.49186329e-03  7.55932378e-06  1.09626666e-02  5.97698097e-03\n",
      "  -3.32182147e-03 -7.53043121e-03]\n",
      " [ 6.14287358e-04 -1.17379557e-03  2.62325818e-03 -8.01201875e-04\n",
      "  -8.22068385e-04  2.22381174e-03]\n",
      " [-2.14088679e-03 -6.23835322e-03 -5.13050077e-03 -2.19696163e-03\n",
      "   7.89804016e-03  1.06401994e-02]\n",
      " [-4.18255457e-03  2.71646076e-03  2.88993486e-03 -6.56440328e-03\n",
      "   4.60254549e-03  3.79817613e-03]\n",
      " [-3.55477452e-03 -8.86285593e-04 -7.52013315e-03  1.70651672e-03\n",
      "   5.29856190e-04  9.92613729e-03]]\n"
     ]
    },
    {
     "data": {
      "text/plain": [
       "True"
      ]
     },
     "execution_count": 25,
     "metadata": {},
     "output_type": "execute_result"
    }
   ],
   "source": [
    "import numpy as np\n",
    "np.random.seed(2)\n",
    "\n",
    "a = np.random.randint(0,256,(6,6))\n",
    "print(a)\n",
    "\n",
    "a_inv = np.copy(a)\n",
    "a_inv = np.linalg.inv(a)\n",
    "print(a_inv)\n",
    "\n",
    "aa = np.dot(a,a_inv)\n",
    "\n",
    "np.allclose(np.dot(a, a_inv), np.eye(6))\n",
    "\n",
    "\n",
    "\n"
   ]
  },
  {
   "cell_type": "code",
   "execution_count": null,
   "metadata": {},
   "outputs": [],
   "source": []
  }
 ],
 "metadata": {
  "interpreter": {
   "hash": "051b96d09f7044831efd92709c931c2d3c84fe176cca6527d88aefd66d5cb13a"
  },
  "kernelspec": {
   "display_name": "Python 3.8.11 64-bit ('plastico': conda)",
   "name": "python3"
  },
  "language_info": {
   "codemirror_mode": {
    "name": "ipython",
    "version": 3
   },
   "file_extension": ".py",
   "mimetype": "text/x-python",
   "name": "python",
   "nbconvert_exporter": "python",
   "pygments_lexer": "ipython3",
   "version": "3.8.11"
  },
  "orig_nbformat": 4
 },
 "nbformat": 4,
 "nbformat_minor": 2
}
