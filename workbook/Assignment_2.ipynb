{
 "cells": [
  {
   "cell_type": "code",
   "execution_count": null,
   "metadata": {},
   "outputs": [],
   "source": [
    "# Assignment_2\n"
   ]
  },
  {
   "cell_type": "code",
   "execution_count": 7,
   "metadata": {},
   "outputs": [
    {
     "name": "stdout",
     "output_type": "stream",
     "text": [
      "Please enter your name:  Hasan\n",
      "Please enter your year of birth:  2000\n",
      "Please enter your salary:  1500\n"
     ]
    },
    {
     "name": "stdout",
     "output_type": "stream",
     "text": [
      "Hello Hasan!, your birth year is 2000 and on 2030 you will be 30 years old.\n",
      "From your salary of 1500 the computed tax of 12.3% is 184.5.\n"
     ]
    }
   ],
   "source": [
    "# Question 1\n",
    "name = input(\"Please enter your name: \")\n",
    "birth_year = int(input(\"Please enter your year of birth: \"))\n",
    "salary = float(input(\"Please enter your salary: \"))\n",
    "age = 2030- birth_year\n",
    "tax = float((salary)*(12.3/100))\n",
    "\n",
    "\n",
    "print(\"Hello {0}!, your birth year is {1} and on 2030 you will be {2} years old.\".format(name,birth_year,age))\n",
    "print(\"From your salary of {0} the computed tax of 12.3% is {1:.1f}.\".format(salary,tax))\n"
   ]
  },
  {
   "cell_type": "code",
   "execution_count": 6,
   "metadata": {},
   "outputs": [
    {
     "name": "stdout",
     "output_type": "stream",
     "text": [
      "Abu 70\n",
      "Ali 90\n",
      "Lee 85\n",
      "Cheng 75\n",
      "Kumar 80\n",
      "The average of the score is 80.0\n"
     ]
    }
   ],
   "source": [
    "# Question 2\n",
    "name = [\"Abu\",\"Ali\",\"Lee\",\"Cheng\",\"Kumar\"]\n",
    "score = [70,90,85,75,80]\n",
    "score_table = name + score\n",
    "print(score_table[0],score_table[5])\n",
    "print(score_table[1],score_table[6])\n",
    "print(score_table[2],score_table[7])\n",
    "print(score_table[3],score_table[8])\n",
    "print(score_table[4],score_table[9])\n",
    "\n",
    "sum = score[0]+score[1]+score[2]+score[3]+score[4]\n",
    "avg = float(sum/len(score))\n",
    "print (\"The average of the score is {0}\".format(avg))\n",
    "\n"
   ]
  },
  {
   "cell_type": "code",
   "execution_count": 5,
   "metadata": {},
   "outputs": [
    {
     "name": "stdout",
     "output_type": "stream",
     "text": [
      "Dear Mr. Goke,I am writing to apply for the AI\n",
      "programmer position advertised in the Perantis\n",
      "website.The role is very appealing to me as a\n",
      "Computer Vision enthusiast, and I believed my\n",
      "experience in the field  and my ability to adapt\n",
      "quickly with new environment and technology would\n",
      "be valuable for the team. Listed below are some of\n",
      "my key strengths that may help you to support my\n",
      "success for this position: 1. I have took part in\n",
      "designing and developing Computer Visions\n",
      "solutions during my internship. 2. I strive to\n",
      "continually improve my knowledge and keep my\n",
      "skillset up to date. 3.I am punctual in doing my\n",
      "task and if I am unable to keep the dateline I\n",
      "will always inform earlier to avoid negative\n",
      "impact on the project. With a BS degree in\n",
      "Computer Science. I assure you that I have a\n",
      "comprehensive understanding of the lifecyle of a\n",
      "software development projects.  I also have\n",
      "experience in learning and applying new\n",
      "technologies whenever it is appropiate to do so.\n",
      "Do take a look at my attached resume  for more\n",
      "info on my experience.I can be contacted anytime\n",
      "via email at hasanzainul10@gmail.com or by phone\n",
      "call on 013-705 2725.Thank you for your time and\n",
      "consideration. I look forward to your reply.\n",
      "Sincerly, Inamul Hasan Bin Zainul Akramin\n"
     ]
    }
   ],
   "source": [
    "# Question 3\n",
    "\n"
   ]
  },
  {
   "cell_type": "code",
   "execution_count": null,
   "metadata": {},
   "outputs": [],
   "source": [
    "# Assignment from Textbook"
   ]
  },
  {
   "cell_type": "code",
   "execution_count": 1,
   "metadata": {},
   "outputs": [
    {
     "name": "stdout",
     "output_type": "stream",
     "text": [
      "This is good too.\n"
     ]
    }
   ],
   "source": [
    "# capitalize() , it automatically capitalize first letter of a strimg\n",
    "str1 = \"this is good too.\"\n",
    "print(str1.capitalize())"
   ]
  },
  {
   "cell_type": "code",
   "execution_count": 6,
   "metadata": {},
   "outputs": [
    {
     "name": "stdout",
     "output_type": "stream",
     "text": [
      "uuthis will be surrounded and centereduu\n"
     ]
    }
   ],
   "source": [
    "# center(width, fillchar) returns string with the original string centered in between total width columns\n",
    "# with the fillchar filling in the remaining columns\n",
    "\n",
    "#for example string len = 36 then it will print width-len = 4 amount of fillchar\n",
    "#that is divided evenly on beginning and end of string\n",
    "\n",
    "str2 = \"this will be surrounded and centered\"\n",
    "print(str2.center(40,'u'))"
   ]
  },
  {
   "cell_type": "code",
   "execution_count": 14,
   "metadata": {},
   "outputs": [
    {
     "name": "stdout",
     "output_type": "stream",
     "text": [
      "str3.count(sub, 4,40) : 3 \n",
      "str3.count(sub) : 4 \n"
     ]
    }
   ],
   "source": [
    "# count(str, start= 0,end=len(string))\n",
    "\n",
    "str3 = \"this is a string that will be searched on.\"\n",
    "\n",
    "# This is the substring to be searched\n",
    "sub = \"i\"\n",
    "\n",
    "# Here we use count function to cound the number of the substring that is in the string\n",
    "# count(str, start, end), here we set the function to start searching and counting from index = 4 and end at index 40.\n",
    "\n",
    "print(f\"str3.count(sub, 4,40) : {str3.count(sub, 4,40)} \")\n",
    "\n",
    "# If start and end are not assigned it will start from index 0 and ends at len(str).\n",
    "print(f\"str3.count(sub) : {str3.count(sub)} \")\n"
   ]
  },
  {
   "cell_type": "code",
   "execution_count": 18,
   "metadata": {},
   "outputs": [
    {
     "name": "stdout",
     "output_type": "stream",
     "text": [
      "<class 'bytes'>\n",
      "b'Melaka'\n",
      "<class 'str'>\n",
      "Melaka\n"
     ]
    }
   ],
   "source": [
    "# encoding and decoding a string\n",
    "city = \"Melaka\"\n",
    "\n",
    "# encode(encode_codec) , below we encode using the utf-8 standard\n",
    "utf8_encoded = city.encode('utf-8')\n",
    "\n",
    "print(type(utf8_encoded)) # when encoded string change type to bytes\n",
    "\n",
    "print(utf8_encoded) # b'Melaka'\n",
    "\n",
    "# decode(encode_codec) is used to reverse encoded string back to its original form\n",
    "decoded_city = utf8_encoded.decode('utf-8')\n",
    "print(type(decoded_city))\n",
    "print(decoded_city)\n"
   ]
  },
  {
   "cell_type": "code",
   "execution_count": 21,
   "metadata": {},
   "outputs": [
    {
     "name": "stdout",
     "output_type": "stream",
     "text": [
      "True\n",
      "True\n",
      "False\n"
     ]
    }
   ],
   "source": [
    "# endswith(suffix, start=0, end=len(string))\n",
    "# check if string ends with the given suffix, start and end is the index of the string for starting ending the search\n",
    "# it returns True if string ends with the suffix and False otherwise.\n",
    "\n",
    "str4 = \"Seems like this is the end.\"\n",
    "suffix = \"end.\"\n",
    "print (str4.endswith(suffix))\n",
    "\n",
    "# start checking from index 20\n",
    "print (str4.endswith(suffix,20))\n",
    "\n",
    "# start checking from index 20 and ends at index 21\n",
    "print (str4.endswith(suffix,20,21))\n",
    "\n"
   ]
  },
  {
   "cell_type": "code",
   "execution_count": 4,
   "metadata": {},
   "outputs": [
    {
     "name": "stdout",
     "output_type": "stream",
     "text": [
      "Original string: the tab after this will change.\t  you see that!\n",
      "Default exapanded tab: the tab after this will change.   you see that!\n",
      "Double exapanded tab: the tab after this will change.   you see that!\n"
     ]
    }
   ],
   "source": [
    "# expandtabs(tabsize=8)\n",
    "# change the value of spaces \\t give, if tabsize not assigned, it will default to 8\n",
    "str5 = \"the tab after this will change.\\t  you see that!\"\n",
    "print (\"Original string: \" + str5)\n",
    "print (\"Default exapanded tab: \" + str5.expandtabs())\n",
    "expand_16 = str5.expandtabs(tabsize = 16)\n",
    "print (f\"Double exapanded tab: {expand_16}\" )\n",
    "\n",
    "# Not sure why but its not working\n",
    "\n"
   ]
  },
  {
   "cell_type": "code",
   "execution_count": 5,
   "metadata": {},
   "outputs": [
    {
     "name": "stdout",
     "output_type": "stream",
     "text": [
      "17\n",
      "17\n",
      "-1\n"
     ]
    }
   ],
   "source": [
    "str1 = \"this is string example....wow!!!\"\n",
    "str2 = \"ample\"\n",
    "\n",
    "# str1.find(str2) will return index of first letter of str2 if found and -1 if not found\n",
    "print (str1.find(str2))\n",
    "print (str1.find(str2, 10))\n",
    "print (str1.find(str2, 40))"
   ]
  },
  {
   "cell_type": "code",
   "execution_count": 7,
   "metadata": {},
   "outputs": [
    {
     "name": "stdout",
     "output_type": "stream",
     "text": [
      "12\n"
     ]
    },
    {
     "ename": "ValueError",
     "evalue": "substring not found",
     "output_type": "error",
     "traceback": [
      "\u001b[1;31m---------------------------------------------------------------------------\u001b[0m",
      "\u001b[1;31mValueError\u001b[0m                                Traceback (most recent call last)",
      "\u001b[1;32m~\\AppData\\Local\\Temp/ipykernel_19712/3502548859.py\u001b[0m in \u001b[0;36m<module>\u001b[1;34m\u001b[0m\n\u001b[0;32m      3\u001b[0m \u001b[1;31m# index is the same as find , but instead of returning -1 if not found, it return an exception.\u001b[0m\u001b[1;33m\u001b[0m\u001b[1;33m\u001b[0m\u001b[0m\n\u001b[0;32m      4\u001b[0m \u001b[0mprint\u001b[0m \u001b[1;33m(\u001b[0m\u001b[0mstr1\u001b[0m\u001b[1;33m.\u001b[0m\u001b[0mindex\u001b[0m\u001b[1;33m(\u001b[0m\u001b[0mstr2\u001b[0m\u001b[1;33m)\u001b[0m\u001b[1;33m)\u001b[0m\u001b[1;33m\u001b[0m\u001b[1;33m\u001b[0m\u001b[0m\n\u001b[1;32m----> 5\u001b[1;33m \u001b[0mprint\u001b[0m \u001b[1;33m(\u001b[0m\u001b[0mstr1\u001b[0m\u001b[1;33m.\u001b[0m\u001b[0mindex\u001b[0m\u001b[1;33m(\u001b[0m\u001b[0mstr2\u001b[0m\u001b[1;33m,\u001b[0m \u001b[1;36m20\u001b[0m\u001b[1;33m)\u001b[0m\u001b[1;33m)\u001b[0m\u001b[1;33m\u001b[0m\u001b[1;33m\u001b[0m\u001b[0m\n\u001b[0m\u001b[0;32m      6\u001b[0m \u001b[1;33m\u001b[0m\u001b[0m\n",
      "\u001b[1;31mValueError\u001b[0m: substring not found"
     ]
    }
   ],
   "source": [
    "str1 = \"this is yet another string example.\"\n",
    "str2 = \"ano\"\n",
    "# index is the same as find , but instead of returning -1 if not found, it return an exception.\n",
    "print (str1.index(str2))\n",
    "# this one will raise the exception since str2 cant be found after index 20\n",
    "print (str1.index(str2, 20))\n",
    "\n"
   ]
  },
  {
   "cell_type": "code",
   "execution_count": 12,
   "metadata": {},
   "outputs": [
    {
     "name": "stdout",
     "output_type": "stream",
     "text": [
      "True\n",
      "False\n"
     ]
    }
   ],
   "source": [
    "# str.isalnum() check if string is alphanumeric(mix of alphabet and numbers) \n",
    "#if there is space or symbol then its not alphanumeric even if it contains alphabet and number\n",
    "# return true if it is and False if its not.\n",
    "\n",
    "str1 = \"the999thdeath\"; # No space in this string\n",
    "\n",
    "print (str1.isalnum())\n",
    "str1 = \"what is a string without a number\"\n",
    "print (str1.isalnum())"
   ]
  },
  {
   "cell_type": "code",
   "execution_count": 13,
   "metadata": {},
   "outputs": [
    {
     "name": "stdout",
     "output_type": "stream",
     "text": [
      "False\n",
      "True\n"
     ]
    }
   ],
   "source": [
    "# str.isalpha check if string contains only letters\n",
    "str1 = \"thisIsNumber1\"; # No space in this string\n",
    "print (str1.isalpha())\n",
    "str2 = \"ayayayaya\"\n",
    "print (str2.isalpha())"
   ]
  },
  {
   "cell_type": "code",
   "execution_count": 14,
   "metadata": {},
   "outputs": [
    {
     "name": "stdout",
     "output_type": "stream",
     "text": [
      "True\n",
      "False\n"
     ]
    }
   ],
   "source": [
    "# str.isdigit check if string contains only digits\n",
    "str1 = \"99979\" # Only digit in this string\n",
    "print (str1.isdigit())\n",
    "str2 = \"number is not I\"\n",
    "print (str2.isdigit())\n"
   ]
  },
  {
   "cell_type": "code",
   "execution_count": 15,
   "metadata": {},
   "outputs": [
    {
     "name": "stdout",
     "output_type": "stream",
     "text": [
      "False\n",
      "True\n"
     ]
    }
   ],
   "source": [
    "# str.islower check if string is fully in lower case\n",
    "\n",
    "str1 = \"THIS is that thing\"\n",
    "print (str1.islower())\n",
    "str2 = \"this is it\"\n",
    "print (str2.islower())"
   ]
  },
  {
   "cell_type": "code",
   "execution_count": 16,
   "metadata": {},
   "outputs": [
    {
     "name": "stdout",
     "output_type": "stream",
     "text": [
      "False\n",
      "True\n"
     ]
    }
   ],
   "source": [
    "# Check if unicode string contains only numeric character\n",
    "str1 = u\"this2009\" \n",
    "print (str1.isnumeric())\n",
    "str2 = u\"23443434\"\n",
    "print (str2.isnumeric())"
   ]
  },
  {
   "cell_type": "code",
   "execution_count": 17,
   "metadata": {},
   "outputs": [
    {
     "name": "stdout",
     "output_type": "stream",
     "text": [
      "True\n",
      "False\n"
     ]
    }
   ],
   "source": [
    "# str.isspace check if string only consist of white space\n",
    "str1 = \" \"\n",
    "print (str1.isspace())\n",
    "str2 = \"This is not white nor space\"\n",
    "print (str2.isspace())"
   ]
  },
  {
   "cell_type": "code",
   "execution_count": 20,
   "metadata": {},
   "outputs": [
    {
     "name": "stdout",
     "output_type": "stream",
     "text": [
      "True\n",
      "False\n"
     ]
    }
   ],
   "source": [
    "# str.istitle check if string is titlecased correctly\n",
    "\n",
    "str1 = \"This Is String Example...Wow!!!\"\n",
    "print (str1.istitle())\n",
    "\n",
    "str2 = \"This is string example....wow!!!\"\n",
    "print (str2.istitle())\n"
   ]
  },
  {
   "cell_type": "code",
   "execution_count": 21,
   "metadata": {},
   "outputs": [
    {
     "name": "stdout",
     "output_type": "stream",
     "text": [
      "True\n",
      "False\n"
     ]
    }
   ],
   "source": [
    "# str.isupper check if every letter is in upper case\n",
    "str1 = \"THIS IS STRING EXAMPLE....WOW!!!\"\n",
    "print (str1.isupper())\n",
    "str2 = \"THIS is string example....wow!!!\"\n",
    "print (str2.isupper())"
   ]
  },
  {
   "cell_type": "code",
   "execution_count": 22,
   "metadata": {},
   "outputs": [
    {
     "name": "stdout",
     "output_type": "stream",
     "text": [
      "a-b-c\n"
     ]
    }
   ],
   "source": [
    "# s.joim(seq) s will be printed in between the string in the seq list\n",
    "s = \"-\"\n",
    "seq = (\"a\", \"b\", \"c\"); # This is sequence of strings.\n",
    "print (s.join( seq ))"
   ]
  },
  {
   "cell_type": "code",
   "execution_count": null,
   "metadata": {},
   "outputs": [],
   "source": [
    "# len(str) returns length of a string\n",
    "str1 = \"this is string example....wow!!!\"\n",
    "print (\"Length of the string: \",\n",
    "len(str1))"
   ]
  },
  {
   "cell_type": "code",
   "execution_count": 26,
   "metadata": {},
   "outputs": [
    {
     "name": "stdout",
     "output_type": "stream",
     "text": [
      "YES, this is string example....uwow!!!000000000000\n"
     ]
    }
   ],
   "source": [
    "# ljust(width[, fillchar]), Returns a space-padded string with the \n",
    "# original string left-justified to a total of width \n",
    "# columns.\n",
    "str1 = \"YES, this is string example....uwow!!!\"\n",
    "print (str1.ljust(50, '0'))\n",
    "\n"
   ]
  },
  {
   "cell_type": "code",
   "execution_count": 24,
   "metadata": {},
   "outputs": [
    {
     "name": "stdout",
     "output_type": "stream",
     "text": [
      "i wanna be smol\n"
     ]
    }
   ],
   "source": [
    "# str.lower() change all letter to lower case\n",
    "str1 = \"I WANNA BE SMOL\"\n",
    "print (str1.lower())\n"
   ]
  },
  {
   "cell_type": "code",
   "execution_count": 28,
   "metadata": {},
   "outputs": [
    {
     "name": "stdout",
     "output_type": "stream",
     "text": [
      "this is string example....wow!!! \n",
      "this is string example....wow!!!8888888\n"
     ]
    }
   ],
   "source": [
    "# str.lstrip() ,remove leading white spaces if no value assigned or leading character\n",
    "# in the beginning of the string\n",
    "str1 = \" this is string example....wow!!! \"\n",
    "print (str1.lstrip())\n",
    "str2 = \"88888888this is string example....wow!!!8888888\"\n",
    "print (str2.lstrip('8'))"
   ]
  },
  {
   "cell_type": "code",
   "execution_count": 30,
   "metadata": {},
   "outputs": [
    {
     "name": "stdout",
     "output_type": "stream",
     "text": [
      "th3s 3s str3ng 2x1mpl2....w4w!!!\n"
     ]
    }
   ],
   "source": [
    "# maketrans() ,Returns a translation table to be used in translate function.\n",
    "intab = \"aeiou\"\n",
    "outtab = \"12345\"\n",
    "trantab = str.maketrans(intab, outtab)\n",
    "str1 = \"this is string example....wow!!!\"\n",
    "print (str1.translate(trantab))\n",
    "# th3s 3s str3ng 2x1mpl2....w4w!!!"
   ]
  },
  {
   "cell_type": "code",
   "execution_count": 33,
   "metadata": {},
   "outputs": [
    {
     "name": "stdout",
     "output_type": "stream",
     "text": [
      "Max character: y\n",
      "Max character: x\n"
     ]
    }
   ],
   "source": [
    "# return the max letter in the string\n",
    "str1 = \"this is really a string example....wow!!!\"\n",
    "print (\"Max character: \" + max(str1))\n",
    "str2 = \"this is a string example....wow!!!\"\n",
    "print (\"Max character: \" + max(str2))\n"
   ]
  },
  {
   "cell_type": "code",
   "execution_count": 35,
   "metadata": {},
   "outputs": [
    {
     "name": "stdout",
     "output_type": "stream",
     "text": [
      "Min character: !\n",
      "Min character: !\n"
     ]
    }
   ],
   "source": [
    "# return the max letter in the string\n",
    "str1 = \"this-is-real-string-example....wow!!!\"\n",
    "print (\"Min character: \" + min(str1))\n",
    "str2 = \"this-is-a-string-example....wow!!!\"\n",
    "print (\"Min character: \" + min(str2))\n"
   ]
  },
  {
   "cell_type": "code",
   "execution_count": 36,
   "metadata": {},
   "outputs": [
    {
     "name": "stdout",
     "output_type": "stream",
     "text": [
      "thwas was string example....wow!!! thwas was really string\n",
      "thwas was string example....wow!!! thwas is really string\n"
     ]
    }
   ],
   "source": [
    "# replace(old, new [, max])\n",
    "# Replaces all occurrences of old in string with \n",
    "# new or at most max occurrences if max given\n",
    "str1 = \"this is string example....wow!!! this is really string\"\n",
    "print (str1.replace(\"is\", \"was\"))\n",
    "print (str1.replace(\"is\", \"was\", 3))\n"
   ]
  },
  {
   "cell_type": "code",
   "execution_count": 38,
   "metadata": {},
   "outputs": [
    {
     "name": "stdout",
     "output_type": "stream",
     "text": [
      "5\n",
      "5\n",
      "-1\n",
      "2\n",
      "2\n",
      "-1\n"
     ]
    }
   ],
   "source": [
    "# the same as str.find(str2) but search are done from the last index\n",
    "# it will return index of the last str2 that is found instead of the first one\n",
    "str1 = \"this is really a string example....wow!!!\"\n",
    "str2 = \"is\"\n",
    "print (str1.rfind(str2))\n",
    "print (str1.rfind(str2, 0, 10))\n",
    "print (str1.rfind(str2, 10, 0))\n",
    "print (str1.find(str2))\n",
    "print (str1.find(str2, 0, 10))\n",
    "print (str1.find(str2, 10, 0))\n"
   ]
  },
  {
   "cell_type": "code",
   "execution_count": 40,
   "metadata": {},
   "outputs": [
    {
     "name": "stdout",
     "output_type": "stream",
     "text": [
      "17\n",
      "17\n"
     ]
    }
   ],
   "source": [
    "# rindex( str, beg=0, end=len(string))\n",
    "# Same as index(), but search backwards in string\n",
    "\n",
    "str1 = \"this is a string example....right?\"\n",
    "str2 = \"exa\"\n",
    "print (str1.rindex(str2))\n",
    "print (str1.index(str2))\n"
   ]
  },
  {
   "cell_type": "code",
   "execution_count": 42,
   "metadata": {},
   "outputs": [
    {
     "name": "stdout",
     "output_type": "stream",
     "text": [
      "00000this string will do the justice....rightly!!!\n"
     ]
    }
   ],
   "source": [
    "# rjust(width,[, fillchar])\n",
    "# Returns the string right justified in a string of \n",
    "# length width. Padding is done using the \n",
    "# specified fillchar (default is a space). The \n",
    "# original string is returned if width is less than \n",
    "# len(s).\n",
    "\n",
    "str1 = \"this string will do the justice....rightly!!!\"\n",
    "print (str1.rjust(50, '0'))\n"
   ]
  },
  {
   "cell_type": "code",
   "execution_count": 43,
   "metadata": {},
   "outputs": [
    {
     "name": "stdout",
     "output_type": "stream",
     "text": [
      "['Line1-abcdef', 'Line2-abc', 'Line4-abcd']\n",
      "['Line1-abcdef', '\\nLine2-abc \\nLine4-abcd']\n"
     ]
    }
   ],
   "source": [
    "# split(str=\"\", num=string.count(str))\n",
    "# Splits string according to delimiter str (space if not provided) \n",
    "# and returns list of substrings; \n",
    "# split into at most num substrings if given\n",
    "\n",
    "str1 = \"Line1-abcdef \\nLine2-abc \\nLine4-abcd\"\n",
    "print (str1.split( ))\n",
    "print (str1.split(' ', 1 ))\n"
   ]
  },
  {
   "cell_type": "code",
   "execution_count": 49,
   "metadata": {},
   "outputs": [
    {
     "name": "stdout",
     "output_type": "stream",
     "text": [
      "46\n",
      "['Line1-a b c d e f', 'Line2- a b c', '', 'Line4- a b c d']\n",
      "['Line1-a b c d e f', 'Line2- a b c', '', 'Line4- a b c d']\n",
      "['Line1-a b c d e f\\n', 'Line2- a b c\\n', '\\n', 'Line4- a b c d']\n",
      "['Line1-a b c d e f\\n', 'Line2- a b c\\n', '\\n', 'Line4- a b c d']\n",
      "['Line1-a b c d e f\\n', 'Line2- a b c\\n', '\\n', 'Line4- a b c d']\n"
     ]
    }
   ],
   "source": [
    "# splitlines( num=string.count('\\n'))\n",
    "# Splits string at all (or num) NEWLINEs and \n",
    "# returns a list of each line with NEWLINEs removed\n",
    "str1 = \"Line1-a b c d e f\\nLine2- a b c\\n\\nLine4- a b c d\"\n",
    "print(len(str1))\n",
    "print (str1.splitlines( ))\n",
    "print (str1.splitlines( 0 ))\n",
    "print (str1.splitlines( 3 ))\n",
    "print (str1.splitlines( 4 ))\n",
    "print (str1.splitlines( 5 ))"
   ]
  },
  {
   "cell_type": "code",
   "execution_count": 50,
   "metadata": {},
   "outputs": [
    {
     "name": "stdout",
     "output_type": "stream",
     "text": [
      "True\n",
      "True\n",
      "False\n"
     ]
    }
   ],
   "source": [
    "# startswith(str, beg=0,end=len(string))\n",
    "# Determines if string or a substring of string \n",
    "# (if starting index beg and ending index end are given) \n",
    "# starts with substring str; \n",
    "# returns true if so and false otherwise\n",
    "\n",
    "str1 = \"this is string example....wow!!!\"\n",
    "print (str1.startswith( 'this' ))\n",
    "print (str1.startswith( 'is', 2, 4 ))\n",
    "print (str1.startswith( 'this', 2, 4 ))"
   ]
  },
  {
   "cell_type": "code",
   "execution_count": 52,
   "metadata": {},
   "outputs": [
    {
     "name": "stdout",
     "output_type": "stream",
     "text": [
      "this string is now free....wow!!!\n"
     ]
    }
   ],
   "source": [
    "# strip([chars])\n",
    "# Performs both lstrip() and rstrip() on string\n",
    "str1 = \"0000000this string is now free....wow!!!0000000\"\n",
    "print (str1.strip( '0' ))"
   ]
  },
  {
   "cell_type": "code",
   "execution_count": 55,
   "metadata": {},
   "outputs": [
    {
     "name": "stdout",
     "output_type": "stream",
     "text": [
      "THIS IS STRING EXAMPLE....WOW!!!\n",
      "this is string example....wow!!!\n"
     ]
    }
   ],
   "source": [
    "# swapcase()\n",
    "# Inverts case for all letters in string\n",
    "\n",
    "str1 = \"this is string example....wow!!!\"\n",
    "print (str1.swapcase())\n",
    "str1 = \"THIS IS STRING EXAMPLE....WOW!!!\"\n",
    "print (str1.swapcase())"
   ]
  },
  {
   "cell_type": "code",
   "execution_count": null,
   "metadata": {},
   "outputs": [],
   "source": [
    "# str.title()\n",
    "# Returns \"titlecased\" version of string, that is, \n",
    "# all words begin with uppercase and the rest \n",
    "# are lowercase\n",
    "\n",
    "str1 = \"this is string example....wow!!!\"\n",
    "print str1.title()"
   ]
  },
  {
   "cell_type": "code",
   "execution_count": 59,
   "metadata": {},
   "outputs": [
    {
     "name": "stdout",
     "output_type": "stream",
     "text": [
      "th3s 3s str3ng 21pl2....w4w!!!\n"
     ]
    }
   ],
   "source": [
    "# translate(table, deletechars=\"\")\n",
    "# Translates string according to translation table str(256 chars), \n",
    "# removing those in the del string\n",
    "\n",
    "intab = \"aeiou\"\n",
    "outtab = \"12345\"\n",
    "str1 = \"this is string example....wow!!!\"\n",
    "\n",
    "trantab = str1.maketrans(intab, outtab, 'xm')\n",
    "print (str1.translate(trantab))"
   ]
  },
  {
   "cell_type": "code",
   "execution_count": 60,
   "metadata": {},
   "outputs": [
    {
     "name": "stdout",
     "output_type": "stream",
     "text": [
      "str1.capitalize() :  THIS IS STRING EXAMPLE....WOW!!!\n"
     ]
    }
   ],
   "source": [
    "# upper()\n",
    "# Converts lowercase letters in string to uppercase\n",
    "\n",
    "str1 = \"this is string example....wow!!!\"\n",
    "print (\"str1.capitalize() : \",\n",
    "str1.upper())\n"
   ]
  },
  {
   "cell_type": "code",
   "execution_count": 62,
   "metadata": {},
   "outputs": [
    {
     "name": "stdout",
     "output_type": "stream",
     "text": [
      "00000000 this will be left padded.wow!!!\n",
      "000000000000000000 this will be left padded.wow!!!\n"
     ]
    }
   ],
   "source": [
    "# zfill (width)\n",
    "# Returns original string leftpadded with zeros \n",
    "# to a total of width characters; intended for \n",
    "# numbers, zfill() retains any sign given (less one zero)\n",
    "str1 = \" this will be left padded.wow!!!\"\n",
    "print (str1.zfill(40))\n",
    "print (str1.zfill(50))"
   ]
  },
  {
   "cell_type": "code",
   "execution_count": 63,
   "metadata": {},
   "outputs": [
    {
     "name": "stdout",
     "output_type": "stream",
     "text": [
      "False\n",
      "True\n"
     ]
    }
   ],
   "source": [
    "# isdecimal()\n",
    "# Returns true if a unicode string contains only \n",
    "# decimal characters and false otherwise \n",
    "\n",
    "str1 = u\"this2009\" \n",
    "print (str1.isdecimal())\n",
    "str2 = u\"23443434\"\n",
    "print (str2.isdecimal())\n"
   ]
  }
 ],
 "metadata": {
  "interpreter": {
   "hash": "cb7a20e942e23ceee8d8d9376a285eab1a67f5bb5f1c13e6c8917e4ca02319ae"
  },
  "kernelspec": {
   "display_name": "Python 3.9.7 64-bit ('perantisAI': conda)",
   "name": "python3"
  },
  "language_info": {
   "codemirror_mode": {
    "name": "ipython",
    "version": 3
   },
   "file_extension": ".py",
   "mimetype": "text/x-python",
   "name": "python",
   "nbconvert_exporter": "python",
   "pygments_lexer": "ipython3",
   "version": "3.9.7"
  }
 },
 "nbformat": 4,
 "nbformat_minor": 4
}
