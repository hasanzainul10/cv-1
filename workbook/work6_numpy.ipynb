{
 "cells": [
  {
   "cell_type": "markdown",
   "metadata": {},
   "source": [
    "##Numpy\n",
    "\n",
    "numpy means numeric in python.\n",
    "It is used to handle matrix and array operation involving numbers.\n",
    "Its similar to list but more advanced and only used for numerical operations."
   ]
  },
  {
   "cell_type": "markdown",
   "metadata": {},
   "source": [
    "Installation of numpy, scipy and pandas"
   ]
  },
  {
   "cell_type": "code",
   "execution_count": 4,
   "metadata": {},
   "outputs": [
    {
     "name": "stdout",
     "output_type": "stream",
     "text": [
      "Requirement already satisfied: numpy in c:\\users\\user\\appdata\\roaming\\python\\python38\\site-packages (1.21.1)\n"
     ]
    }
   ],
   "source": [
    "!pip install numpy"
   ]
  },
  {
   "cell_type": "code",
   "execution_count": 31,
   "metadata": {},
   "outputs": [],
   "source": [
    "def array_propeties(a):\n",
    "    print(\"array = \\n\", a)\n",
    "    print(\"dimension = \", a.ndim)\n",
    "    print(\"shape = \",a.shape)\n",
    "    print(\"data type =\",a.dtype)\n",
    "    print(\"size = \", a.size)\n",
    "    print()"
   ]
  },
  {
   "cell_type": "code",
   "execution_count": 10,
   "metadata": {},
   "outputs": [
    {
     "name": "stdout",
     "output_type": "stream",
     "text": [
      "[[1 2 3]\n",
      " [4 5 6]\n",
      " [7 8 9]]\n",
      "2\n",
      "(3, 3)\n",
      "9\n",
      "<class 'numpy.ndarray'>\n",
      "[[1, 2, 3], [4, 5, 6], [7, 8, 9]]\n",
      "<class 'list'>\n"
     ]
    }
   ],
   "source": [
    "# import a package an give it an alias as np\n",
    "# doing this we can type np when using the packages functionns\n",
    "import numpy as np\n",
    "\n",
    "# Creating a rowsxcolumn numpy array\n",
    "a = np.array(\n",
    "    [\n",
    "        [1,2,3],\n",
    "        [4,5,6],\n",
    "        [7,8,9]\n",
    "    ]\n",
    ")\n",
    "print(a)\n",
    "# number of dimension\n",
    "print(a.ndim)\n",
    "# shape of array ie 3x3\n",
    "print(a.shape)\n",
    "# number of elements\n",
    "print(a.size)\n",
    "print(type(a))\n",
    "# creating a 3x3 python list\n",
    "alist = [\n",
    "        [1,2,3],\n",
    "        [4,5,6],\n",
    "        [7,8,9]\n",
    "    ]\n",
    "print(alist\n",
    ")\n",
    "print(type(alist))"
   ]
  },
  {
   "cell_type": "code",
   "execution_count": 17,
   "metadata": {},
   "outputs": [
    {
     "name": "stdout",
     "output_type": "stream",
     "text": [
      "[1, 2, 3, 4]\n",
      "[1 2 3 4]\n",
      "array = \n",
      " [1 2 3 4]\n",
      "dimension =  1\n",
      "shape =  (4,)\n",
      "data type = int32\n",
      "size =  4\n",
      "\n",
      "array = \n",
      " ['1' 'ali' '2' 'python']\n",
      "dimension =  1\n",
      "shape =  (4,)\n",
      "data type = <U11\n",
      "size =  4\n",
      "\n"
     ]
    }
   ],
   "source": [
    "import numpy as np\n",
    "\n",
    "## converting python list to numpy array\n",
    "blist = [1,2,3,4]\n",
    "print(blist)\n",
    "b = np.array(blist)\n",
    "print(b)\n",
    "print(\"array = \\n\", b)\n",
    "print(\"dimension = \", b.ndim)\n",
    "print(\"shape = \",b.shape)\n",
    "print(\"data type =\",b.dtype)\n",
    "print(\"size = \", b.size)\n",
    "print()\n",
    "\n",
    "# if list contain string everything is converted to a datatype that is a union of value since we mix different datatype\n",
    "clist = [1, \"ali\", 2, \"python\"]\n",
    "c = np.array(clist)\n",
    "print(\"array = \\n\", c)\n",
    "print(\"dimension = \", c.ndim)\n",
    "print(\"shape = \",c.shape)\n",
    "# \n",
    "print(\"data type =\",c.dtype)\n",
    "print(\"size = \", c.size)\n",
    "print()\n"
   ]
  },
  {
   "cell_type": "code",
   "execution_count": 15,
   "metadata": {},
   "outputs": [
    {
     "name": "stdout",
     "output_type": "stream",
     "text": [
      "[[1, 2, 3], [4, 5, 6], [7, 8, 9]]\n",
      "3\n",
      "array = \n",
      " [[1 2 3]\n",
      " [4 5 6]\n",
      " [7 8 9]]\n",
      "dimension =  2\n",
      "shape =  (3, 3)\n",
      "data type = int32\n",
      "size =  9\n",
      "\n"
     ]
    }
   ],
   "source": [
    "import numpy as np\n",
    "\n",
    "# python list can only get length of the leading dimension\n",
    "alist = [\n",
    "    [1,2,3],\n",
    "    [4,5,6],\n",
    "    [7,8,9]\n",
    "    ] \n",
    "print(alist)\n",
    "print(len(alist))\n",
    "\n",
    "a = np.array(alist)\n",
    "print(\"array = \\n\", a)\n",
    "print(\"dimension = \", a.ndim)\n",
    "print(\"shape = \",a.shape)\n",
    "print(\"data type =\",a.dtype)\n",
    "print(\"size = \", a.size)\n",
    "print()"
   ]
  },
  {
   "cell_type": "code",
   "execution_count": 34,
   "metadata": {},
   "outputs": [
    {
     "name": "stdout",
     "output_type": "stream",
     "text": [
      "array = \n",
      " [[11 12 13]]\n",
      "dimension =  2\n",
      "shape =  (1, 3)\n",
      "data type = int32\n",
      "size =  3\n",
      "\n",
      "array = \n",
      " [[21]\n",
      " [22]\n",
      " [23]\n",
      " [24]]\n",
      "dimension =  2\n",
      "shape =  (4, 1)\n",
      "data type = int32\n",
      "size =  4\n",
      "\n"
     ]
    }
   ],
   "source": [
    "import numpy as np\n",
    "onebythree = np.array([[11,12,13]])\n",
    "\n",
    "array_propeties(onebythree)\n",
    "\n",
    "fourbyone = np.array([[21],[22],[23],[24]])\n",
    "array_propeties(fourbyone)\n"
   ]
  }
 ],
 "metadata": {
  "interpreter": {
   "hash": "4ad20ef52291b096e87cc7aea8e8264b23503722368d0b94bb53ea6e6c791e77"
  },
  "kernelspec": {
   "display_name": "Python 3.8.12 64-bit ('workbook': conda)",
   "name": "python3"
  },
  "language_info": {
   "codemirror_mode": {
    "name": "ipython",
    "version": 3
   },
   "file_extension": ".py",
   "mimetype": "text/x-python",
   "name": "python",
   "nbconvert_exporter": "python",
   "pygments_lexer": "ipython3",
   "version": "3.8.12"
  },
  "orig_nbformat": 4
 },
 "nbformat": 4,
 "nbformat_minor": 2
}
