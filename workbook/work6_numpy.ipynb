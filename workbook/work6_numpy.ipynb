{
 "cells": [
  {
   "cell_type": "markdown",
   "metadata": {},
   "source": [
    "##Numpy\n",
    "\n",
    "numpy means numeric in python.\n",
    "It is used to handle matrix and array operation involving numbers.\n",
    "Its similar to list but more advanced and only used for numerical operations."
   ]
  },
  {
   "cell_type": "code",
   "execution_count": null,
   "metadata": {},
   "outputs": [],
   "source": []
  },
  {
   "cell_type": "code",
   "execution_count": null,
   "metadata": {},
   "outputs": [],
   "source": []
  },
  {
   "cell_type": "markdown",
   "metadata": {},
   "source": [
    "Installation of numpy, scipy and pandas"
   ]
  },
  {
   "cell_type": "code",
   "execution_count": 4,
   "metadata": {},
   "outputs": [
    {
     "name": "stdout",
     "output_type": "stream",
     "text": [
      "Requirement already satisfied: numpy in c:\\users\\user\\appdata\\roaming\\python\\python38\\site-packages (1.21.1)\n"
     ]
    }
   ],
   "source": [
    "!pip install numpy"
   ]
  },
  {
   "cell_type": "code",
   "execution_count": 8,
   "metadata": {},
   "outputs": [],
   "source": [
    "def array_propeties(a):\n",
    "    print(\"array = \\n\", a)\n",
    "    print(\"dimension = \", a.ndim)\n",
    "    print(\"shape = \",a.shape)\n",
    "    print(\"data type =\",a.dtype)\n",
    "    print(\"size = \", a.size)\n",
    "    print()"
   ]
  },
  {
   "cell_type": "code",
   "execution_count": 10,
   "metadata": {},
   "outputs": [
    {
     "name": "stdout",
     "output_type": "stream",
     "text": [
      "[[1 2 3]\n",
      " [4 5 6]\n",
      " [7 8 9]]\n",
      "2\n",
      "(3, 3)\n",
      "9\n",
      "<class 'numpy.ndarray'>\n",
      "[[1, 2, 3], [4, 5, 6], [7, 8, 9]]\n",
      "<class 'list'>\n"
     ]
    }
   ],
   "source": [
    "# import a package an give it an alias as np\n",
    "# doing this we can type np when using the packages functionns\n",
    "import numpy as np\n",
    "\n",
    "# Creating a rowsxcolumn numpy array\n",
    "a = np.array(\n",
    "    [\n",
    "        [1,2,3],\n",
    "        [4,5,6],\n",
    "        [7,8,9]\n",
    "    ]\n",
    ")\n",
    "print(a)\n",
    "# number of dimension\n",
    "print(a.ndim)\n",
    "# shape of array ie 3x3\n",
    "print(a.shape)\n",
    "# number of elements\n",
    "print(a.size)\n",
    "print(type(a))\n",
    "# creating a 3x3 python list\n",
    "alist = [\n",
    "        [1,2,3],\n",
    "        [4,5,6],\n",
    "        [7,8,9]\n",
    "    ]\n",
    "print(alist\n",
    ")\n",
    "print(type(alist))"
   ]
  },
  {
   "cell_type": "code",
   "execution_count": 17,
   "metadata": {},
   "outputs": [
    {
     "name": "stdout",
     "output_type": "stream",
     "text": [
      "[1, 2, 3, 4]\n",
      "[1 2 3 4]\n",
      "array = \n",
      " [1 2 3 4]\n",
      "dimension =  1\n",
      "shape =  (4,)\n",
      "data type = int32\n",
      "size =  4\n",
      "\n",
      "array = \n",
      " ['1' 'ali' '2' 'python']\n",
      "dimension =  1\n",
      "shape =  (4,)\n",
      "data type = <U11\n",
      "size =  4\n",
      "\n"
     ]
    }
   ],
   "source": [
    "import numpy as np\n",
    "\n",
    "## converting python list to numpy array\n",
    "blist = [1,2,3,4]\n",
    "print(blist)\n",
    "b = np.array(blist)\n",
    "print(b)\n",
    "print(\"array = \\n\", b)\n",
    "print(\"dimension = \", b.ndim)\n",
    "print(\"shape = \",b.shape)\n",
    "print(\"data type =\",b.dtype)\n",
    "print(\"size = \", b.size)\n",
    "print()\n",
    "\n",
    "# if list contain string everything is converted to a datatype that is a union of value since we mix different datatype\n",
    "clist = [1, \"ali\", 2, \"python\"]\n",
    "c = np.array(clist)\n",
    "print(\"array = \\n\", c)\n",
    "print(\"dimension = \", c.ndim)\n",
    "print(\"shape = \",c.shape)\n",
    "# \n",
    "print(\"data type =\",c.dtype)\n",
    "print(\"size = \", c.size)\n",
    "print()\n"
   ]
  },
  {
   "cell_type": "code",
   "execution_count": 15,
   "metadata": {},
   "outputs": [
    {
     "name": "stdout",
     "output_type": "stream",
     "text": [
      "[[1, 2, 3], [4, 5, 6], [7, 8, 9]]\n",
      "3\n",
      "array = \n",
      " [[1 2 3]\n",
      " [4 5 6]\n",
      " [7 8 9]]\n",
      "dimension =  2\n",
      "shape =  (3, 3)\n",
      "data type = int32\n",
      "size =  9\n",
      "\n"
     ]
    }
   ],
   "source": [
    "import numpy as np\n",
    "\n",
    "# python list can only get length of the leading dimension\n",
    "alist = [\n",
    "    [1,2,3],\n",
    "    [4,5,6],\n",
    "    [7,8,9]\n",
    "    ] \n",
    "print(alist)\n",
    "print(len(alist))\n",
    "\n",
    "a = np.array(alist)\n",
    "print(\"array = \\n\", a)\n",
    "print(\"dimension = \", a.ndim)\n",
    "print(\"shape = \",a.shape)\n",
    "print(\"data type =\",a.dtype)\n",
    "print(\"size = \", a.size)\n",
    "print()"
   ]
  },
  {
   "cell_type": "code",
   "execution_count": 34,
   "metadata": {},
   "outputs": [
    {
     "name": "stdout",
     "output_type": "stream",
     "text": [
      "array = \n",
      " [[11 12 13]]\n",
      "dimension =  2\n",
      "shape =  (1, 3)\n",
      "data type = int32\n",
      "size =  3\n",
      "\n",
      "array = \n",
      " [[21]\n",
      " [22]\n",
      " [23]\n",
      " [24]]\n",
      "dimension =  2\n",
      "shape =  (4, 1)\n",
      "data type = int32\n",
      "size =  4\n",
      "\n"
     ]
    }
   ],
   "source": [
    "## creating np array of different shapes\n",
    "# one by 3\n",
    "import numpy as np\n",
    "onebythree = np.array([[11,12,13]])\n",
    "\n",
    "array_propeties(onebythree)\n",
    "\n",
    "fourbyone = np.array([[21],[22],[23],[24]])\n",
    "array_propeties(fourbyone)\n"
   ]
  },
  {
   "cell_type": "code",
   "execution_count": 38,
   "metadata": {},
   "outputs": [
    {
     "name": "stdout",
     "output_type": "stream",
     "text": [
      "array = \n",
      " [[11. 12. 13.]]\n",
      "dimension =  2\n",
      "shape =  (1, 3)\n",
      "data type = float64\n",
      "size =  3\n",
      "\n",
      "array = \n",
      " [[11. 12. 13.]]\n",
      "dimension =  2\n",
      "shape =  (1, 3)\n",
      "data type = float32\n",
      "size =  3\n",
      "\n",
      "array = \n",
      " [[11 12 13]]\n",
      "dimension =  2\n",
      "shape =  (1, 3)\n",
      "data type = int64\n",
      "size =  3\n",
      "\n",
      "array = \n",
      " [[11. 12. 13.]]\n",
      "dimension =  2\n",
      "shape =  (1, 3)\n",
      "data type = float64\n",
      "size =  3\n",
      "\n"
     ]
    }
   ],
   "source": [
    "## Specifying datatype \n",
    "\n",
    "## initialize elements as float\n",
    "a= np.array(\n",
    "    [\n",
    "        [11,12,13]\n",
    "    ], dtype='float'\n",
    ")\n",
    "\n",
    "array_propeties(a)\n",
    "\n",
    "## initialize elements as float32\n",
    "a= np.array(\n",
    "    [\n",
    "        [11,12,13]\n",
    "    ], dtype='float32'\n",
    ")\n",
    "\n",
    "array_propeties(a)\n",
    "\n",
    "## initialize elements as int64\n",
    "a= np.array(\n",
    "    [\n",
    "        [11,12,13]\n",
    "    ], dtype='int64'\n",
    ")\n",
    "\n",
    "array_propeties(a)\n",
    "\n",
    "\n",
    "## if no type are specified it will get the biggest datatype of elements\n",
    "a= np.array(\n",
    "    [   #in this case is a float32 or float64 depending on your os\n",
    "        [11.,12,13]\n",
    "    ]\n",
    ")\n",
    "\n",
    "array_propeties(a)\n"
   ]
  },
  {
   "cell_type": "code",
   "execution_count": 40,
   "metadata": {},
   "outputs": [
    {
     "name": "stdout",
     "output_type": "stream",
     "text": [
      "array = \n",
      " [[21.]\n",
      " [22.]\n",
      " [31.]\n",
      " [ 0.]]\n",
      "dimension =  2\n",
      "shape =  (4, 1)\n",
      "data type = float32\n",
      "size =  4\n",
      "\n"
     ]
    }
   ],
   "source": [
    "a = np.array([\n",
    "    [21],\n",
    "    [22],\n",
    "    [31],\n",
    "    [0]\n",
    "], dtype='float32')\n",
    "\n",
    "array_propeties(a)"
   ]
  },
  {
   "cell_type": "code",
   "execution_count": 41,
   "metadata": {},
   "outputs": [
    {
     "name": "stdout",
     "output_type": "stream",
     "text": [
      "array = \n",
      " [[21]\n",
      " [22]\n",
      " [31]\n",
      " [ 0]]\n",
      "dimension =  2\n",
      "shape =  (4, 1)\n",
      "data type = uint8\n",
      "size =  4\n",
      "\n"
     ]
    }
   ],
   "source": [
    "## unsigned integer in 8 bits, uint8 datatype\n",
    "# Min value is 0 and max value is 255 because 8 bit can only hold max 11111111 in 8 bit which is 255.\n",
    "\n",
    "\n",
    "a = np.array([\n",
    "    [21],\n",
    "    [22],\n",
    "    [31],\n",
    "    [0]\n",
    "], dtype='uint8')\n",
    "\n",
    "array_propeties(a)\n",
    "\n",
    "# int8 is a signed 8 bit\n",
    "# min value is -128\n",
    "# max is 127"
   ]
  },
  {
   "cell_type": "code",
   "execution_count": 47,
   "metadata": {},
   "outputs": [
    {
     "name": "stdout",
     "output_type": "stream",
     "text": [
      "array = \n",
      " [1 2 3 4 5 6 7 8 9]\n",
      "dimension =  1\n",
      "shape =  (9,)\n",
      "data type = int32\n",
      "size =  9\n",
      "\n",
      "array = \n",
      " [1 3 5 7 9]\n",
      "dimension =  1\n",
      "shape =  (5,)\n",
      "data type = int32\n",
      "size =  5\n",
      "\n"
     ]
    }
   ],
   "source": [
    "## np.arange is similar to range()\n",
    "import numpy as np\n",
    "\n",
    "# seq_a = array of 1 to 10-1\n",
    "seq_a = np.arange(1,10)\n",
    "array_propeties(seq_a)\n",
    "\n",
    "# like range(star,stop,step) np.arange(start,stop,step)\n",
    "seq_a = np.arange(1,10,2)\n",
    "array_propeties(seq_a)"
   ]
  },
  {
   "cell_type": "code",
   "execution_count": 52,
   "metadata": {},
   "outputs": [
    {
     "name": "stdout",
     "output_type": "stream",
     "text": [
      "[0 1 2 3 4 5 6 7 8 9]\n",
      "0 | 1 | 2 | 3 | 4 | 5 | 6 | 7 | 8 | 9 | 0 | 1 | 2 | 3 | 4 | 5 | 6 | 7 | 8 | 9 | "
     ]
    }
   ],
   "source": [
    "a10 = np.arange(10)\n",
    "print(a10)\n",
    "for n in range(10):\n",
    "    print(n,end=' | ')\n",
    "\n",
    "\n",
    "for n in a10:\n",
    "    print(n,end=' | ')"
   ]
  },
  {
   "cell_type": "code",
   "execution_count": 55,
   "metadata": {},
   "outputs": [
    {
     "name": "stdout",
     "output_type": "stream",
     "text": [
      "array = \n",
      " [1 3 5 7 9]\n",
      "dimension =  1\n",
      "shape =  (5,)\n",
      "data type = uint8\n",
      "size =  5\n",
      "\n",
      "1 | 3 | 5 | 7 | 9 | "
     ]
    }
   ],
   "source": [
    "start =1 \n",
    "stop = 10+1\n",
    "step =2\n",
    "ar10b = np.arange(start,stop,step)\n",
    "\n",
    "# np array datatype can be changed\n",
    "ar10b = np.uint8(ar10b)\n",
    "array_propeties(ar10b)\n",
    "\n",
    "# np.arrange() can be used to replace range()\n",
    "for n in ar10b:\n",
    "    print(n,end=' | ')"
   ]
  },
  {
   "cell_type": "markdown",
   "metadata": {},
   "source": [
    "## Class Activity\n",
    "\n",
    "create an array of integers [0,5,15,...,100]"
   ]
  },
  {
   "cell_type": "code",
   "execution_count": 56,
   "metadata": {},
   "outputs": [
    {
     "name": "stdout",
     "output_type": "stream",
     "text": [
      "array = \n",
      " [  0   5  10  15  20  25  30  35  40  45  50  55  60  65  70  75  80  85\n",
      "  90  95 100]\n",
      "dimension =  1\n",
      "shape =  (21,)\n",
      "data type = int32\n",
      "size =  21\n",
      "\n"
     ]
    }
   ],
   "source": [
    "a100 = np.arange(0,100+1,5)\n",
    "array_propeties(a100)\n"
   ]
  },
  {
   "cell_type": "markdown",
   "metadata": {},
   "source": [
    "## np.linspace()"
   ]
  },
  {
   "cell_type": "code",
   "execution_count": 57,
   "metadata": {},
   "outputs": [
    {
     "name": "stdout",
     "output_type": "stream",
     "text": [
      "array = \n",
      " [ 1.          1.64285714  2.28571429  2.92857143  3.57142857  4.21428571\n",
      "  4.85714286  5.5         6.14285714  6.78571429  7.42857143  8.07142857\n",
      "  8.71428571  9.35714286 10.        ]\n",
      "dimension =  1\n",
      "shape =  (15,)\n",
      "data type = float64\n",
      "size =  15\n",
      "\n"
     ]
    }
   ],
   "source": [
    "# create array of floating point value of a specific size\n",
    "\n",
    "import numpy as np\n",
    "seq_a2 = np.linspace(1,10,15)\n",
    "array_propeties(seq_a2)"
   ]
  },
  {
   "cell_type": "code",
   "execution_count": 64,
   "metadata": {},
   "outputs": [
    {
     "name": "stdout",
     "output_type": "stream",
     "text": [
      "array = \n",
      " [ 0.          1.11111111  2.22222222  3.33333333  4.44444444  5.55555556\n",
      "  6.66666667  7.77777778  8.88888889 10.        ]\n",
      "dimension =  1\n",
      "shape =  (10,)\n",
      "data type = float64\n",
      "size =  10\n",
      "\n",
      "array = \n",
      " [ 0.  1.  2.  3.  4.  5.  6.  7.  8.  9. 10.]\n",
      "dimension =  1\n",
      "shape =  (11,)\n",
      "data type = float64\n",
      "size =  11\n",
      "\n"
     ]
    }
   ],
   "source": [
    "import numpy as np\n",
    "start = 0\n",
    "stop = 10\n",
    "size = 10\n",
    "\n",
    "seq_a2 = np.linspace(start,stop,size)\n",
    "array_propeties(seq_a2)\n",
    "\n",
    "# when we stop counting at 10 but the size is 10(which mean last index is 9),\n",
    "# the value other than start and stop are added with some value \n",
    "# so the total will still be the value of stop(in this case 10)\n",
    "# this is called an interpolation\n",
    "\n",
    "start = 0\n",
    "stop = 10\n",
    "size = 11\n",
    "\n",
    "# if size given is 11 then it is printed as how we normally count\n",
    "# because the last index is 10 which fits value 0 to 10.\n",
    "# so no interpolation happens here\n",
    "seq_a2 = np.linspace(start,stop,size)\n",
    "array_propeties(seq_a2)\n",
    "\n",
    "\n",
    "## in summary depending on the start size and stop the value would look like this\n",
    "# index-->value\n",
    "\n",
    "# 0-->start\n",
    "# 1-->1.x\n",
    "# 2-->2.x\n",
    "# .\n",
    "# .\n",
    "# stop-->stop"
   ]
  },
  {
   "cell_type": "code",
   "execution_count": 68,
   "metadata": {},
   "outputs": [
    {
     "name": "stdout",
     "output_type": "stream",
     "text": [
      "array = \n",
      " [[0. 0. 0. 0. 0. 0. 0. 0. 0. 0.]]\n",
      "dimension =  2\n",
      "shape =  (1, 10)\n",
      "data type = float64\n",
      "size =  10\n",
      "\n",
      "array = \n",
      " [[0. 0. 0. 0. 0. 0. 0. 0. 0. 0.]]\n",
      "dimension =  2\n",
      "shape =  (1, 10)\n",
      "data type = float64\n",
      "size =  10\n",
      "\n",
      "array = \n",
      " [[0 0 0 0 0 0 0 0 0 0]]\n",
      "dimension =  2\n",
      "shape =  (1, 10)\n",
      "data type = int32\n",
      "size =  10\n",
      "\n",
      "array = \n",
      " [[0 0 0 0 0 0 0 0 0 0]]\n",
      "dimension =  2\n",
      "shape =  (1, 10)\n",
      "data type = uint8\n",
      "size =  10\n",
      "\n"
     ]
    }
   ],
   "source": [
    "# creating array of zeros\n",
    "\n",
    "import numpy as np\n",
    "rows=1\n",
    "column = 10\n",
    "arr0 = np.zeros((rows,column))\n",
    "array_propeties(arr0)\n",
    "\n",
    "# creating array of ones\n",
    "import numpy as np\n",
    "rows=1\n",
    "column = 10\n",
    "arr0 = np.zeros((rows,column))\n",
    "array_propeties(arr0)\n",
    "\n",
    "\n",
    "## their datatype are float64 by default, you can change them using dtype\n",
    "\n",
    "rows=1\n",
    "column = 10\n",
    "arr0 = np.zeros((rows,column),dtype='int32')\n",
    "array_propeties(arr0)\n",
    "\n",
    "# creating array of ones\n",
    "import numpy as np\n",
    "rows=1\n",
    "column = 10\n",
    "arr0 = np.zeros((rows,column),dtype='uint8')\n",
    "array_propeties(arr0)\n"
   ]
  },
  {
   "cell_type": "code",
   "execution_count": 69,
   "metadata": {},
   "outputs": [
    {
     "name": "stdout",
     "output_type": "stream",
     "text": [
      "[[[0. 0. 0.]\n",
      "  [0. 0. 0.]\n",
      "  [0. 0. 0.]\n",
      "  [0. 0. 0.]\n",
      "  [0. 0. 0.]]\n",
      "\n",
      " [[0. 0. 0.]\n",
      "  [0. 0. 0.]\n",
      "  [0. 0. 0.]\n",
      "  [0. 0. 0.]\n",
      "  [0. 0. 0.]]\n",
      "\n",
      " [[0. 0. 0.]\n",
      "  [0. 0. 0.]\n",
      "  [0. 0. 0.]\n",
      "  [0. 0. 0.]\n",
      "  [0. 0. 0.]]\n",
      "\n",
      " [[0. 0. 0.]\n",
      "  [0. 0. 0.]\n",
      "  [0. 0. 0.]\n",
      "  [0. 0. 0.]\n",
      "  [0. 0. 0.]]]\n",
      "array = \n",
      " [[[0. 0. 0.]\n",
      "  [0. 0. 0.]\n",
      "  [0. 0. 0.]\n",
      "  [0. 0. 0.]\n",
      "  [0. 0. 0.]]\n",
      "\n",
      " [[0. 0. 0.]\n",
      "  [0. 0. 0.]\n",
      "  [0. 0. 0.]\n",
      "  [0. 0. 0.]\n",
      "  [0. 0. 0.]]\n",
      "\n",
      " [[0. 0. 0.]\n",
      "  [0. 0. 0.]\n",
      "  [0. 0. 0.]\n",
      "  [0. 0. 0.]\n",
      "  [0. 0. 0.]]\n",
      "\n",
      " [[0. 0. 0.]\n",
      "  [0. 0. 0.]\n",
      "  [0. 0. 0.]\n",
      "  [0. 0. 0.]\n",
      "  [0. 0. 0.]]]\n",
      "dimension =  3\n",
      "shape =  (4, 5, 3)\n",
      "data type = float64\n",
      "size =  60\n",
      "\n"
     ]
    }
   ],
   "source": [
    "## creating multiple dimension np array\n",
    "\n",
    "# 3d array of 4 by 5 by 3\n",
    "zer_4_5_3 = np.zeros((4,5,3))\n",
    "\n",
    "print(zer_4_5_3)\n",
    "array_propeties(zer_4_5_3)"
   ]
  },
  {
   "cell_type": "code",
   "execution_count": 70,
   "metadata": {},
   "outputs": [
    {
     "name": "stdout",
     "output_type": "stream",
     "text": [
      "[[[[0. 0.]\n",
      "   [0. 0.]\n",
      "   [0. 0.]]\n",
      "\n",
      "  [[0. 0.]\n",
      "   [0. 0.]\n",
      "   [0. 0.]]\n",
      "\n",
      "  [[0. 0.]\n",
      "   [0. 0.]\n",
      "   [0. 0.]]\n",
      "\n",
      "  [[0. 0.]\n",
      "   [0. 0.]\n",
      "   [0. 0.]]\n",
      "\n",
      "  [[0. 0.]\n",
      "   [0. 0.]\n",
      "   [0. 0.]]]\n",
      "\n",
      "\n",
      " [[[0. 0.]\n",
      "   [0. 0.]\n",
      "   [0. 0.]]\n",
      "\n",
      "  [[0. 0.]\n",
      "   [0. 0.]\n",
      "   [0. 0.]]\n",
      "\n",
      "  [[0. 0.]\n",
      "   [0. 0.]\n",
      "   [0. 0.]]\n",
      "\n",
      "  [[0. 0.]\n",
      "   [0. 0.]\n",
      "   [0. 0.]]\n",
      "\n",
      "  [[0. 0.]\n",
      "   [0. 0.]\n",
      "   [0. 0.]]]\n",
      "\n",
      "\n",
      " [[[0. 0.]\n",
      "   [0. 0.]\n",
      "   [0. 0.]]\n",
      "\n",
      "  [[0. 0.]\n",
      "   [0. 0.]\n",
      "   [0. 0.]]\n",
      "\n",
      "  [[0. 0.]\n",
      "   [0. 0.]\n",
      "   [0. 0.]]\n",
      "\n",
      "  [[0. 0.]\n",
      "   [0. 0.]\n",
      "   [0. 0.]]\n",
      "\n",
      "  [[0. 0.]\n",
      "   [0. 0.]\n",
      "   [0. 0.]]]\n",
      "\n",
      "\n",
      " [[[0. 0.]\n",
      "   [0. 0.]\n",
      "   [0. 0.]]\n",
      "\n",
      "  [[0. 0.]\n",
      "   [0. 0.]\n",
      "   [0. 0.]]\n",
      "\n",
      "  [[0. 0.]\n",
      "   [0. 0.]\n",
      "   [0. 0.]]\n",
      "\n",
      "  [[0. 0.]\n",
      "   [0. 0.]\n",
      "   [0. 0.]]\n",
      "\n",
      "  [[0. 0.]\n",
      "   [0. 0.]\n",
      "   [0. 0.]]]]\n",
      "array = \n",
      " [[[[0. 0.]\n",
      "   [0. 0.]\n",
      "   [0. 0.]]\n",
      "\n",
      "  [[0. 0.]\n",
      "   [0. 0.]\n",
      "   [0. 0.]]\n",
      "\n",
      "  [[0. 0.]\n",
      "   [0. 0.]\n",
      "   [0. 0.]]\n",
      "\n",
      "  [[0. 0.]\n",
      "   [0. 0.]\n",
      "   [0. 0.]]\n",
      "\n",
      "  [[0. 0.]\n",
      "   [0. 0.]\n",
      "   [0. 0.]]]\n",
      "\n",
      "\n",
      " [[[0. 0.]\n",
      "   [0. 0.]\n",
      "   [0. 0.]]\n",
      "\n",
      "  [[0. 0.]\n",
      "   [0. 0.]\n",
      "   [0. 0.]]\n",
      "\n",
      "  [[0. 0.]\n",
      "   [0. 0.]\n",
      "   [0. 0.]]\n",
      "\n",
      "  [[0. 0.]\n",
      "   [0. 0.]\n",
      "   [0. 0.]]\n",
      "\n",
      "  [[0. 0.]\n",
      "   [0. 0.]\n",
      "   [0. 0.]]]\n",
      "\n",
      "\n",
      " [[[0. 0.]\n",
      "   [0. 0.]\n",
      "   [0. 0.]]\n",
      "\n",
      "  [[0. 0.]\n",
      "   [0. 0.]\n",
      "   [0. 0.]]\n",
      "\n",
      "  [[0. 0.]\n",
      "   [0. 0.]\n",
      "   [0. 0.]]\n",
      "\n",
      "  [[0. 0.]\n",
      "   [0. 0.]\n",
      "   [0. 0.]]\n",
      "\n",
      "  [[0. 0.]\n",
      "   [0. 0.]\n",
      "   [0. 0.]]]\n",
      "\n",
      "\n",
      " [[[0. 0.]\n",
      "   [0. 0.]\n",
      "   [0. 0.]]\n",
      "\n",
      "  [[0. 0.]\n",
      "   [0. 0.]\n",
      "   [0. 0.]]\n",
      "\n",
      "  [[0. 0.]\n",
      "   [0. 0.]\n",
      "   [0. 0.]]\n",
      "\n",
      "  [[0. 0.]\n",
      "   [0. 0.]\n",
      "   [0. 0.]]\n",
      "\n",
      "  [[0. 0.]\n",
      "   [0. 0.]\n",
      "   [0. 0.]]]]\n",
      "dimension =  4\n",
      "shape =  (4, 5, 3, 2)\n",
      "data type = float64\n",
      "size =  120\n",
      "\n"
     ]
    }
   ],
   "source": [
    "# 4d array of 4 by 5 by 3 by 2\n",
    "zer_4_5_3_2 = np.zeros((4,5,3,2))\n",
    "\n",
    "print(zer_4_5_3_2)\n",
    "array_propeties(zer_4_5_3_2)"
   ]
  },
  {
   "cell_type": "code",
   "execution_count": 16,
   "metadata": {},
   "outputs": [
    {
     "name": "stdout",
     "output_type": "stream",
     "text": [
      "(3, 5)\n"
     ]
    }
   ],
   "source": [
    "import numpy as np\n",
    "\n",
    "a14 = np.arange(14+1)\n",
    "# array_propeties(a14)\n",
    "# reshape_a= a14.reshape((4,-1))\n",
    "# array_propeties(reshape_a)\n",
    "\n",
    "\n",
    "if  (a14.size % 4)==0:\n",
    "    reshape_a = a14.reshape((4,-1))\n",
    "    print(reshape_a.shape)\n",
    "else:\n",
    "    eshape_a = a14.reshape((3,-1))\n",
    "    print(reshape_a.shape)\n"
   ]
  },
  {
   "cell_type": "markdown",
   "metadata": {},
   "source": [
    "## 2d array\n"
   ]
  },
  {
   "cell_type": "code",
   "execution_count": 5,
   "metadata": {},
   "outputs": [
    {
     "name": "stdout",
     "output_type": "stream",
     "text": [
      "array = \n",
      " [[ 1  2  3  4]\n",
      " [ 5  6  7  8]\n",
      " [ 9 10 11 12]\n",
      " [13 14 15 16]]\n",
      "dimension =  2\n",
      "shape =  (4, 4)\n",
      "data type = int32\n",
      "size =  16\n",
      "\n"
     ]
    }
   ],
   "source": [
    "## resize\n",
    "import numpy as np\n",
    "a1 = np.arange(1,17)\n",
    "a2=np.resize(a1,(4,4))\n",
    "array_propeties(a2)"
   ]
  },
  {
   "cell_type": "code",
   "execution_count": 21,
   "metadata": {},
   "outputs": [
    {
     "name": "stdout",
     "output_type": "stream",
     "text": [
      "[[ 1  2  3  4]\n",
      " [ 5  6  7  8]\n",
      " [ 9 10 11 12]\n",
      " [13 14 15 16]]\n",
      "Elements in row 2 : [5 6 7 8]\n"
     ]
    }
   ],
   "source": [
    "print(a2)\n",
    "# get all elements in row 2\n",
    "print(f\"Elements in row 2 : {a2[1,:]}\")\n",
    "## the , after 1 in a2[1,:] means only, meaning we only print elemenets in 1st row(the second row) from all columns\n"
   ]
  },
  {
   "cell_type": "code",
   "execution_count": 23,
   "metadata": {},
   "outputs": [
    {
     "name": "stdout",
     "output_type": "stream",
     "text": [
      "Elements in row 2 [5 6 7 8]\n"
     ]
    }
   ],
   "source": [
    "# alternative get elents in row 2, this only work on 1d array\n",
    "print(\"Elements in row 2\",a2[1])"
   ]
  },
  {
   "cell_type": "code",
   "execution_count": 24,
   "metadata": {},
   "outputs": [
    {
     "name": "stdout",
     "output_type": "stream",
     "text": [
      "Elements in col 2 =  [ 2  6 10 14]\n"
     ]
    }
   ],
   "source": [
    "# get all value in column 2 or dimension 2\n",
    "print(f\"Elements in col 2 = \", a2[:,1])"
   ]
  },
  {
   "cell_type": "markdown",
   "metadata": {},
   "source": [
    "## 3d array\n"
   ]
  },
  {
   "cell_type": "code",
   "execution_count": 25,
   "metadata": {},
   "outputs": [
    {
     "name": "stdout",
     "output_type": "stream",
     "text": [
      "array = \n",
      " [[[1 2]\n",
      "  [3 4]]\n",
      "\n",
      " [[5 6]\n",
      "  [7 8]]]\n",
      "dimension =  3\n",
      "shape =  (2, 2, 2)\n",
      "data type = int32\n",
      "size =  8\n",
      "\n"
     ]
    }
   ],
   "source": [
    "import numpy as np\n",
    "a3 = np.arange(1,9).reshape((2,2,2))\n",
    "array_propeties(a3)"
   ]
  },
  {
   "cell_type": "code",
   "execution_count": 27,
   "metadata": {},
   "outputs": [
    {
     "name": "stdout",
     "output_type": "stream",
     "text": [
      "4\n",
      "[3 4]\n"
     ]
    }
   ],
   "source": [
    "## accessing 3d array elements\n",
    "print(a3[0,1,1])\n",
    "#\n",
    "print(a3[0,1,:]) # : means all, in this case it means print all values in \n"
   ]
  },
  {
   "cell_type": "markdown",
   "metadata": {},
   "source": [
    "## Changing Array Element\n"
   ]
  },
  {
   "cell_type": "code",
   "execution_count": 28,
   "metadata": {},
   "outputs": [
    {
     "name": "stdout",
     "output_type": "stream",
     "text": [
      "[[1 2 3]\n",
      " [4 5 6]\n",
      " [7 8 9]]\n"
     ]
    }
   ],
   "source": [
    "import numpy as np\n",
    "\n",
    "a3x3 = np.arange(1,10).reshape((3,-1))\n",
    "\n",
    "print(a3x3)"
   ]
  },
  {
   "cell_type": "code",
   "execution_count": 29,
   "metadata": {},
   "outputs": [
    {
     "name": "stdout",
     "output_type": "stream",
     "text": [
      "6\n"
     ]
    }
   ],
   "source": [
    "# print value 6\n",
    "print(a3x3[1,2])"
   ]
  },
  {
   "cell_type": "code",
   "execution_count": 35,
   "metadata": {},
   "outputs": [
    {
     "name": "stdout",
     "output_type": "stream",
     "text": [
      "[[1 2 3]\n",
      " [4 5 6]\n",
      " [7 8 9]]\n",
      "8\n",
      "[[ 1  2  3]\n",
      " [ 4  5  6]\n",
      " [ 7 18  9]]\n",
      "18\n"
     ]
    }
   ],
   "source": [
    "# change value 8 to 18\n",
    "a3x3=np.array([[1,2,3],\n",
    " [4, 5, 6],\n",
    " [7, 8, 9]])\n",
    "print(a3x3)\n",
    "print(a3x3[2,1])\n",
    "\n",
    "a3x3[2,1] = 18\n",
    "\n",
    "print(a3x3)\n",
    "print(a3x3[2,1])"
   ]
  },
  {
   "cell_type": "code",
   "execution_count": 36,
   "metadata": {},
   "outputs": [
    {
     "name": "stdout",
     "output_type": "stream",
     "text": [
      "array = \n",
      " [0 1 2 3 4 5 6 7 8]\n",
      "dimension =  1\n",
      "shape =  (9,)\n",
      "data type = int32\n",
      "size =  9\n",
      "\n",
      "Third elements:  2\n",
      "Third element squared:  4\n"
     ]
    }
   ],
   "source": [
    "import numpy as np\n",
    "a1 = np.arange(9)\n",
    "array_propeties(a1)\n",
    "\n",
    "print(\"Third elements: \",a1[2])\n",
    "\n",
    "a1[2]= a1[2] ** 2\n",
    "\n",
    "print('Third element squared: ', a1[2])"
   ]
  },
  {
   "cell_type": "code",
   "execution_count": 37,
   "metadata": {},
   "outputs": [
    {
     "data": {
      "text/plain": [
       "9"
      ]
     },
     "execution_count": 37,
     "metadata": {},
     "output_type": "execute_result"
    }
   ],
   "source": [
    "# 3^2 = 9\n",
    "3**2"
   ]
  },
  {
   "cell_type": "markdown",
   "metadata": {},
   "source": [
    "## Class activity\n",
    "\n",
    "1. create an array of shape(2,5) and another array b of shape (3,5).\n",
    "2. create another array c = a\n",
    "3. change array c row 2 array to sum of array a row2 and b row2."
   ]
  },
  {
   "cell_type": "code",
   "execution_count": 44,
   "metadata": {},
   "outputs": [
    {
     "name": "stdout",
     "output_type": "stream",
     "text": [
      "array = \n",
      " [[ 1  2  3  4  5]\n",
      " [ 6  7  8  9 10]]\n",
      "dimension =  2\n",
      "shape =  (2, 5)\n",
      "data type = int32\n",
      "size =  10\n",
      "\n",
      "array = \n",
      " [[ 1  2  3  4  5]\n",
      " [ 6  7  8  9 10]\n",
      " [11 12 13 14 15]]\n",
      "dimension =  2\n",
      "shape =  (3, 5)\n",
      "data type = int32\n",
      "size =  15\n",
      "\n",
      "array = \n",
      " [[ 1  2  3  4  5]\n",
      " [ 6  7  8  9 10]]\n",
      "dimension =  2\n",
      "shape =  (2, 5)\n",
      "data type = int32\n",
      "size =  10\n",
      "\n",
      "[[ 1  2  3  4  5]\n",
      " [12 14 16 18 20]]\n"
     ]
    }
   ],
   "source": [
    "a = np.arange(1,11).reshape((2,5))\n",
    "array_propeties(a)\n",
    "\n",
    "b = np.arange(1,15+1).reshape((3,5))\n",
    "array_propeties(b)\n",
    "\n",
    "c = np.copy(a)\n",
    "array_propeties(c)\n",
    "\n",
    "c[1,:] = a[1,:]+b[1,:]\n",
    "print(c)"
   ]
  },
  {
   "cell_type": "markdown",
   "metadata": {},
   "source": [
    "## ADVANCED NUMPY INDEXING AND OPERATIONS\n"
   ]
  },
  {
   "cell_type": "markdown",
   "metadata": {},
   "source": [
    "## Array slicing"
   ]
  },
  {
   "cell_type": "code",
   "execution_count": 45,
   "metadata": {},
   "outputs": [
    {
     "name": "stdout",
     "output_type": "stream",
     "text": [
      "array = \n",
      " [[789 378 531]\n",
      " [100 905 702]\n",
      " [572 344 814]\n",
      " [469 142 514]\n",
      " [441 935 295]]\n",
      "dimension =  2\n",
      "shape =  (5, 3)\n",
      "data type = int32\n",
      "size =  15\n",
      "\n"
     ]
    }
   ],
   "source": [
    "import numpy as np\n",
    "# create random array with value from 0 to 1000 with shape 5 3\n",
    "a5x3 = np.random.randint(0,1000,(5,3))\n",
    "\n",
    "array_propeties(a5x3)"
   ]
  },
  {
   "cell_type": "code",
   "execution_count": 46,
   "metadata": {},
   "outputs": [
    {
     "name": "stdout",
     "output_type": "stream",
     "text": [
      "142\n"
     ]
    }
   ],
   "source": [
    "# print 142 from array a5x3\n",
    "print(a5x3[3,1])"
   ]
  },
  {
   "cell_type": "code",
   "execution_count": 47,
   "metadata": {},
   "outputs": [
    {
     "name": "stdout",
     "output_type": "stream",
     "text": [
      "[789 378 531 100 905 702 572 344 814 469 142 514 441 935 295]\n",
      "array = \n",
      " [789 378 531 100 905 702 572 344 814 469 142 514 441 935 295]\n",
      "dimension =  1\n",
      "shape =  (15,)\n",
      "data type = int32\n",
      "size =  15\n",
      "\n"
     ]
    }
   ],
   "source": [
    "# Change 2D ARRAY TO 1D ARRAY\n",
    "# change a5x3 to 1d\n",
    "\n",
    "##using flatten\n",
    "a53 = a5x3.flatten()\n",
    "print(a53)\n",
    "array_propeties(a53)"
   ]
  },
  {
   "cell_type": "code",
   "execution_count": 49,
   "metadata": {},
   "outputs": [
    {
     "name": "stdout",
     "output_type": "stream",
     "text": [
      "array = \n",
      " [[789]\n",
      " [378]\n",
      " [531]\n",
      " [100]\n",
      " [905]\n",
      " [702]\n",
      " [572]\n",
      " [344]\n",
      " [814]\n",
      " [469]\n",
      " [142]\n",
      " [514]\n",
      " [441]\n",
      " [935]\n",
      " [295]]\n",
      "dimension =  2\n",
      "shape =  (15, 1)\n",
      "data type = int32\n",
      "size =  15\n",
      "\n",
      "array = \n",
      " [[789 378 531 100 905 702 572 344 814 469 142 514 441 935 295]]\n",
      "dimension =  2\n",
      "shape =  (1, 15)\n",
      "data type = int32\n",
      "size =  15\n",
      "\n"
     ]
    }
   ],
   "source": [
    "# 2d to n1d uasing reshape\n",
    "\n",
    "a15x_= a5x3.reshape((15,-1))\n",
    "array_propeties(a15x_)\n",
    "\n",
    "a15x_= a5x3.reshape((1,15))\n",
    "array_propeties(a15x_)"
   ]
  },
  {
   "cell_type": "code",
   "execution_count": null,
   "metadata": {},
   "outputs": [],
   "source": [
    "# 2d arrray to 1 d using ravel\n",
    "# different between flatten and ravel\n",
    "# flatten make a copy of array and odify, \n",
    "# while ravel is a view of the original array, so changes make in ravel changes the otriginal array too.\n",
    "a53b = a5x3.ravel()\n",
    "array_propeties(a53b)"
   ]
  },
  {
   "cell_type": "markdown",
   "metadata": {},
   "source": [
    "## class acivity\n",
    "\n",
    "1. create an array of shape (5,5,3) of datatype float32\n",
    "2. create an array of c, of 1dimension from array a"
   ]
  },
  {
   "cell_type": "code",
   "execution_count": 55,
   "metadata": {},
   "outputs": [
    {
     "name": "stdout",
     "output_type": "stream",
     "text": [
      "array = \n",
      " [ 0.  1.  2.  3.  4.  5.  6.  7.  8.  9. 10. 11. 12. 13. 14. 15. 16. 17.\n",
      " 18. 19. 20. 21. 22. 23. 24. 25. 26. 27. 28. 29. 30. 31. 32. 33. 34. 35.\n",
      " 36. 37. 38. 39. 40. 41. 42. 43. 44. 45. 46. 47. 48. 49. 50. 51. 52. 53.\n",
      " 54. 55. 56. 57. 58. 59. 60. 61. 62. 63. 64. 65. 66. 67. 68. 69. 70. 71.\n",
      " 72. 73. 74.]\n",
      "dimension =  1\n",
      "shape =  (75,)\n",
      "data type = float32\n",
      "size =  75\n",
      "\n"
     ]
    }
   ],
   "source": [
    "a = np.arange(75,dtype='float32').reshape(5,5,3)\n",
    "# array_propeties(a)\n",
    "\n",
    "a1d = a.flatten()\n",
    "array_propeties(a1d)"
   ]
  },
  {
   "cell_type": "markdown",
   "metadata": {},
   "source": []
  },
  {
   "cell_type": "code",
   "execution_count": 61,
   "metadata": {},
   "outputs": [
    {
     "name": "stdout",
     "output_type": "stream",
     "text": [
      "[1. 2. 3. 4. 5.]\n",
      "[[[1. 2. 3.]\n",
      "  [4. 5. 1.]\n",
      "  [2. 3. 4.]\n",
      "  [5. 1. 2.]\n",
      "  [3. 4. 5.]]\n",
      "\n",
      " [[1. 2. 3.]\n",
      "  [4. 5. 1.]\n",
      "  [2. 3. 4.]\n",
      "  [5. 1. 2.]\n",
      "  [3. 4. 5.]]\n",
      "\n",
      " [[1. 2. 3.]\n",
      "  [4. 5. 1.]\n",
      "  [2. 3. 4.]\n",
      "  [5. 1. 2.]\n",
      "  [3. 4. 5.]]\n",
      "\n",
      " [[1. 2. 3.]\n",
      "  [4. 5. 1.]\n",
      "  [2. 3. 4.]\n",
      "  [5. 1. 2.]\n",
      "  [3. 4. 5.]]\n",
      "\n",
      " [[1. 2. 3.]\n",
      "  [4. 5. 1.]\n",
      "  [2. 3. 4.]\n",
      "  [5. 1. 2.]\n",
      "  [3. 4. 5.]]]\n"
     ]
    }
   ],
   "source": [
    "import numpy as np\n",
    "\n",
    "a5 = np.arange(1,(5+1),dtype=np.float32)\n",
    "print(a5)\n",
    "\n",
    "#this one wont work\n",
    "# a5x5x3 = a5.reshape((5,5,3))\n",
    "\n",
    "#this will only return none\n",
    "# a5x5x3 = a5.resize((5,5,3))\n",
    "# print(a5x5x3)\n",
    "\n",
    "#This will work, it will repeat the values to fill value to fit the new array size\n",
    "a5x5x3 = np.resize(a5,(5,5,3))\n",
    "print(a5x5x3)\n"
   ]
  },
  {
   "cell_type": "code",
   "execution_count": null,
   "metadata": {},
   "outputs": [],
   "source": [
    "import numpy as np\n",
    "\n",
    "start = 1\n",
    "stop = 3\n",
    "a3 =  np.arange"
   ]
  },
  {
   "cell_type": "code",
   "execution_count": 70,
   "metadata": {},
   "outputs": [
    {
     "name": "stdout",
     "output_type": "stream",
     "text": [
      "first element  0\n",
      "first element  0\n",
      "even number [0 2 4 6 8]\n",
      "odd number [1 3 5 7]\n"
     ]
    }
   ],
   "source": [
    "## NEGATIVE INDEX\n",
    "stop = 9\n",
    "a1= np.arange(stop)\n",
    "\n",
    "print(\"first element \",a1[0])\n",
    "# print by index counted from last index\n",
    "print(\"first element \",a1[-9])\n",
    "\n",
    "\n",
    "## SLICING\n",
    "print(\"even number\", a1[0:stop:2])\n",
    "# a1[start:end:step]\n",
    "print(\"odd number\", a1[1:stop:2])\n",
    "\n"
   ]
  },
  {
   "cell_type": "code",
   "execution_count": 75,
   "metadata": {},
   "outputs": [
    {
     "name": "stdout",
     "output_type": "stream",
     "text": [
      "[2 3 4 5 6 7]\n",
      "array = \n",
      " [2 3 4 5 6 7]\n",
      "dimension =  1\n",
      "shape =  (6,)\n",
      "data type = int32\n",
      "size =  6\n",
      "\n"
     ]
    }
   ],
   "source": [
    "# You can use this to print 2 to 7 but its tedious\n",
    "\n",
    "a1d = np.arange(10)\n",
    "# get 2 t0 7\n",
    "a2i = a1d[2]\n",
    "a3i = a1d[3]\n",
    "a4i = a1d[4]\n",
    "a5i = a1d[5]\n",
    "a6i = a1d[6]\n",
    "a7i = a1d[7]\n",
    "\n",
    "result = np.array([a2i,a3i,a4i,a5i,a6i,a7i])\n",
    "print(result)\n",
    "\n",
    "\n",
    "# instead use slicing\n",
    "a2to7 = a1d[2:(7+1)]\n",
    "array_propeties(a2to7)"
   ]
  },
  {
   "cell_type": "code",
   "execution_count": 76,
   "metadata": {},
   "outputs": [
    {
     "name": "stdout",
     "output_type": "stream",
     "text": [
      "array = \n",
      " [[0 1 2 3 4]\n",
      " [5 6 7 8 9]\n",
      " [0 1 2 3 4]\n",
      " [5 6 7 8 9]\n",
      " [0 1 2 3 4]]\n",
      "dimension =  2\n",
      "shape =  (5, 5)\n",
      "data type = int32\n",
      "size =  25\n",
      "\n"
     ]
    }
   ],
   "source": [
    "import numpy as np\n",
    "\n",
    "\n",
    "a2d = np.arange(10)\n",
    "a2d = np.resize(a2d,(5,5))\n",
    "\n",
    "array_propeties(a2d)\n"
   ]
  },
  {
   "cell_type": "code",
   "execution_count": 84,
   "metadata": {},
   "outputs": [
    {
     "name": "stdout",
     "output_type": "stream",
     "text": [
      "[5 6 7 8 9]\n",
      "[[5 6 7 8 9]\n",
      " [0 1 2 3 4]\n",
      " [5 6 7 8 9]]\n",
      "[[5 6 7 8 9]\n",
      " [0 1 2 3 4]\n",
      " [5 6 7 8 9]]\n"
     ]
    }
   ],
   "source": [
    "# what is the value of row 2\n",
    "#[5,6,7,8,9]\n",
    "print(a2d[1,:])# from  row 2, prit all value in it\n",
    "# this is the best way to get values from ro2 2 to 4\n",
    "print(a2d[1:4,:])\n",
    "#or this, but this one only work on 1d\n",
    "print(a2d[1:4])"
   ]
  },
  {
   "cell_type": "code",
   "execution_count": 104,
   "metadata": {},
   "outputs": [
    {
     "name": "stdout",
     "output_type": "stream",
     "text": [
      "[[ 1  2  3  4  5]\n",
      " [ 6  7  8  9 10]\n",
      " [11 12 13 14 15]\n",
      " [16 17 18 19 20]\n",
      " [21 22 23 24 25]]\n",
      "[[ 7  8  9]\n",
      " [12 13 14]\n",
      " [17 18 19]]\n"
     ]
    }
   ],
   "source": [
    "a2d = np.arange(1,26)\n",
    "a2d = np.resize(a2d,(5,5))\n",
    "print(a2d)\n",
    "\n",
    "# # get [7 8 9]\n",
    "# print(a2d[1,2:])\n",
    "\n",
    "# # get [12,13,14]\n",
    "# print(a2d[2,2:])\n",
    "\n",
    "# # [17,18,19]\n",
    "# print(a2d[3,2:])\n",
    "\n",
    "# or get them all at once\n",
    "# start end step\n",
    "# \n",
    "print(a2d[1:4,1:4])"
   ]
  },
  {
   "cell_type": "code",
   "execution_count": 105,
   "metadata": {},
   "outputs": [
    {
     "name": "stdout",
     "output_type": "stream",
     "text": [
      "[[ 1  4]\n",
      " [11 14]\n",
      " [21 24]]\n"
     ]
    }
   ],
   "source": [
    "# start:stop:step\n",
    "# step 2 on rows and 3 of columns\n",
    "result = a2d[::2,::3]\n",
    "print(result)"
   ]
  },
  {
   "cell_type": "code",
   "execution_count": 108,
   "metadata": {},
   "outputs": [
    {
     "ename": "SyntaxError",
     "evalue": "invalid syntax (Temp/ipykernel_4476/1909649448.py, line 3)",
     "output_type": "error",
     "traceback": [
      "\u001b[1;36m  File \u001b[1;32m\"C:\\Users\\user\\AppData\\Local\\Temp/ipykernel_4476/1909649448.py\"\u001b[1;36m, line \u001b[1;32m3\u001b[0m\n\u001b[1;33m    print(bool_odd.index(:))\u001b[0m\n\u001b[1;37m                         ^\u001b[0m\n\u001b[1;31mSyntaxError\u001b[0m\u001b[1;31m:\u001b[0m invalid syntax\n"
     ]
    }
   ],
   "source": [
    "bool_odd = np.array([False,True,False,True,False,True,False,True])\n",
    "\n",
    "print(bool_odd.index())"
   ]
  },
  {
   "cell_type": "code",
   "execution_count": 117,
   "metadata": {},
   "outputs": [],
   "source": [
    "import numpy as np\n",
    "a9 = np.arange(1,10)"
   ]
  },
  {
   "cell_type": "code",
   "execution_count": 123,
   "metadata": {},
   "outputs": [
    {
     "name": "stdout",
     "output_type": "stream",
     "text": [
      "[2 4 6 8]\n",
      "[1 3 5 7 9]\n",
      "[2 4 6 8]\n",
      "[1 3 5 7 9]\n"
     ]
    }
   ],
   "source": [
    "i_even=np.array([1,3,5,7])\n",
    "i_odd =np.array([0,2,4,6,8])\n",
    "\n",
    "\n",
    "bool_odd = np.array([True,False,True,False,True,False,True,False,True])\n",
    "bool_even = np.array([False,True,False,True,False,True,False,True,False])\n",
    "\n",
    "print(a9[i_even])\n",
    "print(a9[i_odd])\n",
    "print(a9[bool_even])\n",
    "print(a9[bool_odd])"
   ]
  },
  {
   "cell_type": "markdown",
   "metadata": {},
   "source": [
    "## Class activity\n",
    "1. Write the index for even number contain in the my_arr below\n",
    "    28=[0,1],22=[0,5]\n",
    "    50 =[1,0],92=[1,1],66 = [1,2],98 = [1,3],74 = [1,6]\n",
    "    44=[2,0],60=[2,5],98[2,6]\n",
    "    96=[3,0],38=[3,1]\n",
    "    8=[4,3],66=[4,4],92=[4,5],62=[4,6]\n",
    "\n",
    "2. write index of number divisible by 5.\n",
    "75 = [0,0]\n",
    "50 = [1,0]\n",
    "85= [2,2],35 = [2,3],60 = [2,4]\n",
    "55 =[3,2]"
   ]
  },
  {
   "cell_type": "code",
   "execution_count": 124,
   "metadata": {},
   "outputs": [
    {
     "name": "stdout",
     "output_type": "stream",
     "text": [
      "array = \n",
      " [[61  2 41  6 37 56 55]\n",
      " [47 22  4 47 98 94 86]\n",
      " [40 45  5 81 77 16 31]\n",
      " [18 33 17 57 15 27 17]\n",
      " [64 91 58 67 62  7 23]]\n",
      "dimension =  2\n",
      "shape =  (5, 7)\n",
      "data type = int32\n",
      "size =  35\n",
      "\n"
     ]
    }
   ],
   "source": [
    "import numpy as np\n",
    "\n",
    "my_arr = np.random.randint(1,100,(5,7))\n",
    "array_propeties(my_arr)"
   ]
  },
  {
   "cell_type": "code",
   "execution_count": 132,
   "metadata": {},
   "outputs": [
    {
     "name": "stdout",
     "output_type": "stream",
     "text": [
      "array = \n",
      " [[1 2 1 1 2 1 0]\n",
      " [2 2 4 2 3 4 1]\n",
      " [0 0 0 1 2 1 1]\n",
      " [3 3 2 2 0 2 2]\n",
      " [4 1 3 2 2 2 3]]\n",
      "dimension =  2\n",
      "shape =  (5, 7)\n",
      "data type = int32\n",
      "size =  35\n",
      "\n",
      "array = \n",
      " [[False False False False False False  True]\n",
      " [False False False False False False False]\n",
      " [ True  True  True False False False False]\n",
      " [False False False False  True False False]\n",
      " [False False False False False False False]]\n",
      "dimension =  2\n",
      "shape =  (5, 7)\n",
      "data type = bool\n",
      "size =  35\n",
      "\n"
     ]
    }
   ],
   "source": [
    "# each value are remainder of og value divide by 5\n",
    "ibooldiv5 = my_arr % 5\n",
    "\n",
    "array_propeties(ibooldiv5)\n",
    "# assign boolean value True if value is now 0, and False otherwise\n",
    "ibooldiv5 = ibooldiv5 == 0\n",
    "array_propeties(ibooldiv5)"
   ]
  },
  {
   "cell_type": "code",
   "execution_count": 133,
   "metadata": {},
   "outputs": [
    {
     "name": "stdout",
     "output_type": "stream",
     "text": [
      "[55 40 45  5 15]\n"
     ]
    }
   ],
   "source": [
    "# use the new boolean array for indexing\n",
    "result = my_arr[ibooldiv5]\n",
    "print(result)"
   ]
  },
  {
   "cell_type": "code",
   "execution_count": null,
   "metadata": {},
   "outputs": [],
   "source": []
  }
 ],
 "metadata": {
  "interpreter": {
   "hash": "4ad20ef52291b096e87cc7aea8e8264b23503722368d0b94bb53ea6e6c791e77"
  },
  "kernelspec": {
   "display_name": "Python 3.8.12 64-bit ('workbook': conda)",
   "name": "python3"
  },
  "language_info": {
   "codemirror_mode": {
    "name": "ipython",
    "version": 3
   },
   "file_extension": ".py",
   "mimetype": "text/x-python",
   "name": "python",
   "nbconvert_exporter": "python",
   "pygments_lexer": "ipython3",
   "version": "3.8.12"
  },
  "orig_nbformat": 4
 },
 "nbformat": 4,
 "nbformat_minor": 2
}
