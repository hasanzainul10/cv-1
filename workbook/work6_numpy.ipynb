{
 "cells": [
  {
   "cell_type": "markdown",
   "metadata": {},
   "source": [
    "##Numpy\n",
    "\n",
    "numpy means numeric in python.\n",
    "It is used to handle matrix and array operation involving numbers.\n",
    "Its similar to list but more advanced and only used for numerical operations."
   ]
  },
  {
   "cell_type": "markdown",
   "metadata": {},
   "source": [
    "Installation of numpy, scipy and pandas"
   ]
  },
  {
   "cell_type": "code",
   "execution_count": 4,
   "metadata": {},
   "outputs": [
    {
     "name": "stdout",
     "output_type": "stream",
     "text": [
      "Requirement already satisfied: numpy in c:\\users\\user\\appdata\\roaming\\python\\python38\\site-packages (1.21.1)\n"
     ]
    }
   ],
   "source": [
    "!pip install numpy"
   ]
  },
  {
   "cell_type": "code",
   "execution_count": 31,
   "metadata": {},
   "outputs": [],
   "source": [
    "def array_propeties(a):\n",
    "    print(\"array = \\n\", a)\n",
    "    print(\"dimension = \", a.ndim)\n",
    "    print(\"shape = \",a.shape)\n",
    "    print(\"data type =\",a.dtype)\n",
    "    print(\"size = \", a.size)\n",
    "    print()"
   ]
  },
  {
   "cell_type": "code",
   "execution_count": 10,
   "metadata": {},
   "outputs": [
    {
     "name": "stdout",
     "output_type": "stream",
     "text": [
      "[[1 2 3]\n",
      " [4 5 6]\n",
      " [7 8 9]]\n",
      "2\n",
      "(3, 3)\n",
      "9\n",
      "<class 'numpy.ndarray'>\n",
      "[[1, 2, 3], [4, 5, 6], [7, 8, 9]]\n",
      "<class 'list'>\n"
     ]
    }
   ],
   "source": [
    "# import a package an give it an alias as np\n",
    "# doing this we can type np when using the packages functionns\n",
    "import numpy as np\n",
    "\n",
    "# Creating a rowsxcolumn numpy array\n",
    "a = np.array(\n",
    "    [\n",
    "        [1,2,3],\n",
    "        [4,5,6],\n",
    "        [7,8,9]\n",
    "    ]\n",
    ")\n",
    "print(a)\n",
    "# number of dimension\n",
    "print(a.ndim)\n",
    "# shape of array ie 3x3\n",
    "print(a.shape)\n",
    "# number of elements\n",
    "print(a.size)\n",
    "print(type(a))\n",
    "# creating a 3x3 python list\n",
    "alist = [\n",
    "        [1,2,3],\n",
    "        [4,5,6],\n",
    "        [7,8,9]\n",
    "    ]\n",
    "print(alist\n",
    ")\n",
    "print(type(alist))"
   ]
  },
  {
   "cell_type": "code",
   "execution_count": 17,
   "metadata": {},
   "outputs": [
    {
     "name": "stdout",
     "output_type": "stream",
     "text": [
      "[1, 2, 3, 4]\n",
      "[1 2 3 4]\n",
      "array = \n",
      " [1 2 3 4]\n",
      "dimension =  1\n",
      "shape =  (4,)\n",
      "data type = int32\n",
      "size =  4\n",
      "\n",
      "array = \n",
      " ['1' 'ali' '2' 'python']\n",
      "dimension =  1\n",
      "shape =  (4,)\n",
      "data type = <U11\n",
      "size =  4\n",
      "\n"
     ]
    }
   ],
   "source": [
    "import numpy as np\n",
    "\n",
    "## converting python list to numpy array\n",
    "blist = [1,2,3,4]\n",
    "print(blist)\n",
    "b = np.array(blist)\n",
    "print(b)\n",
    "print(\"array = \\n\", b)\n",
    "print(\"dimension = \", b.ndim)\n",
    "print(\"shape = \",b.shape)\n",
    "print(\"data type =\",b.dtype)\n",
    "print(\"size = \", b.size)\n",
    "print()\n",
    "\n",
    "# if list contain string everything is converted to a datatype that is a union of value since we mix different datatype\n",
    "clist = [1, \"ali\", 2, \"python\"]\n",
    "c = np.array(clist)\n",
    "print(\"array = \\n\", c)\n",
    "print(\"dimension = \", c.ndim)\n",
    "print(\"shape = \",c.shape)\n",
    "# \n",
    "print(\"data type =\",c.dtype)\n",
    "print(\"size = \", c.size)\n",
    "print()\n"
   ]
  },
  {
   "cell_type": "code",
   "execution_count": 15,
   "metadata": {},
   "outputs": [
    {
     "name": "stdout",
     "output_type": "stream",
     "text": [
      "[[1, 2, 3], [4, 5, 6], [7, 8, 9]]\n",
      "3\n",
      "array = \n",
      " [[1 2 3]\n",
      " [4 5 6]\n",
      " [7 8 9]]\n",
      "dimension =  2\n",
      "shape =  (3, 3)\n",
      "data type = int32\n",
      "size =  9\n",
      "\n"
     ]
    }
   ],
   "source": [
    "import numpy as np\n",
    "\n",
    "# python list can only get length of the leading dimension\n",
    "alist = [\n",
    "    [1,2,3],\n",
    "    [4,5,6],\n",
    "    [7,8,9]\n",
    "    ] \n",
    "print(alist)\n",
    "print(len(alist))\n",
    "\n",
    "a = np.array(alist)\n",
    "print(\"array = \\n\", a)\n",
    "print(\"dimension = \", a.ndim)\n",
    "print(\"shape = \",a.shape)\n",
    "print(\"data type =\",a.dtype)\n",
    "print(\"size = \", a.size)\n",
    "print()"
   ]
  },
  {
   "cell_type": "code",
   "execution_count": 34,
   "metadata": {},
   "outputs": [
    {
     "name": "stdout",
     "output_type": "stream",
     "text": [
      "array = \n",
      " [[11 12 13]]\n",
      "dimension =  2\n",
      "shape =  (1, 3)\n",
      "data type = int32\n",
      "size =  3\n",
      "\n",
      "array = \n",
      " [[21]\n",
      " [22]\n",
      " [23]\n",
      " [24]]\n",
      "dimension =  2\n",
      "shape =  (4, 1)\n",
      "data type = int32\n",
      "size =  4\n",
      "\n"
     ]
    }
   ],
   "source": [
    "## creating np array of different shapes\n",
    "# one by 3\n",
    "import numpy as np\n",
    "onebythree = np.array([[11,12,13]])\n",
    "\n",
    "array_propeties(onebythree)\n",
    "\n",
    "fourbyone = np.array([[21],[22],[23],[24]])\n",
    "array_propeties(fourbyone)\n"
   ]
  },
  {
   "cell_type": "code",
   "execution_count": 38,
   "metadata": {},
   "outputs": [
    {
     "name": "stdout",
     "output_type": "stream",
     "text": [
      "array = \n",
      " [[11. 12. 13.]]\n",
      "dimension =  2\n",
      "shape =  (1, 3)\n",
      "data type = float64\n",
      "size =  3\n",
      "\n",
      "array = \n",
      " [[11. 12. 13.]]\n",
      "dimension =  2\n",
      "shape =  (1, 3)\n",
      "data type = float32\n",
      "size =  3\n",
      "\n",
      "array = \n",
      " [[11 12 13]]\n",
      "dimension =  2\n",
      "shape =  (1, 3)\n",
      "data type = int64\n",
      "size =  3\n",
      "\n",
      "array = \n",
      " [[11. 12. 13.]]\n",
      "dimension =  2\n",
      "shape =  (1, 3)\n",
      "data type = float64\n",
      "size =  3\n",
      "\n"
     ]
    }
   ],
   "source": [
    "## Specifying datatype \n",
    "\n",
    "## initialize elements as float\n",
    "a= np.array(\n",
    "    [\n",
    "        [11,12,13]\n",
    "    ], dtype='float'\n",
    ")\n",
    "\n",
    "array_propeties(a)\n",
    "\n",
    "## initialize elements as float32\n",
    "a= np.array(\n",
    "    [\n",
    "        [11,12,13]\n",
    "    ], dtype='float32'\n",
    ")\n",
    "\n",
    "array_propeties(a)\n",
    "\n",
    "## initialize elements as int64\n",
    "a= np.array(\n",
    "    [\n",
    "        [11,12,13]\n",
    "    ], dtype='int64'\n",
    ")\n",
    "\n",
    "array_propeties(a)\n",
    "\n",
    "\n",
    "## if no type are specified it will get the biggest datatype of elements\n",
    "a= np.array(\n",
    "    [   #in this case is a float32 or float64 depending on your os\n",
    "        [11.,12,13]\n",
    "    ]\n",
    ")\n",
    "\n",
    "array_propeties(a)\n"
   ]
  },
  {
   "cell_type": "code",
   "execution_count": 40,
   "metadata": {},
   "outputs": [
    {
     "name": "stdout",
     "output_type": "stream",
     "text": [
      "array = \n",
      " [[21.]\n",
      " [22.]\n",
      " [31.]\n",
      " [ 0.]]\n",
      "dimension =  2\n",
      "shape =  (4, 1)\n",
      "data type = float32\n",
      "size =  4\n",
      "\n"
     ]
    }
   ],
   "source": [
    "a = np.array([\n",
    "    [21],\n",
    "    [22],\n",
    "    [31],\n",
    "    [0]\n",
    "], dtype='float32')\n",
    "\n",
    "array_propeties(a)"
   ]
  },
  {
   "cell_type": "code",
   "execution_count": 41,
   "metadata": {},
   "outputs": [
    {
     "name": "stdout",
     "output_type": "stream",
     "text": [
      "array = \n",
      " [[21]\n",
      " [22]\n",
      " [31]\n",
      " [ 0]]\n",
      "dimension =  2\n",
      "shape =  (4, 1)\n",
      "data type = uint8\n",
      "size =  4\n",
      "\n"
     ]
    }
   ],
   "source": [
    "## unsigned integer in 8 bits, uint8 datatype\n",
    "# Min value is 0 and max value is 255 because 8 bit can only hold max 11111111 in 8 bit which is 255.\n",
    "\n",
    "\n",
    "a = np.array([\n",
    "    [21],\n",
    "    [22],\n",
    "    [31],\n",
    "    [0]\n",
    "], dtype='uint8')\n",
    "\n",
    "array_propeties(a)\n",
    "\n",
    "# int8 is a signed 8 bit\n",
    "# min value is -128\n",
    "# max is 127"
   ]
  },
  {
   "cell_type": "code",
   "execution_count": 47,
   "metadata": {},
   "outputs": [
    {
     "name": "stdout",
     "output_type": "stream",
     "text": [
      "array = \n",
      " [1 2 3 4 5 6 7 8 9]\n",
      "dimension =  1\n",
      "shape =  (9,)\n",
      "data type = int32\n",
      "size =  9\n",
      "\n",
      "array = \n",
      " [1 3 5 7 9]\n",
      "dimension =  1\n",
      "shape =  (5,)\n",
      "data type = int32\n",
      "size =  5\n",
      "\n"
     ]
    }
   ],
   "source": [
    "## np.arange is similar to range()\n",
    "import numpy as np\n",
    "\n",
    "# seq_a = array of 1 to 10-1\n",
    "seq_a = np.arange(1,10)\n",
    "array_propeties(seq_a)\n",
    "\n",
    "# like range(star,stop,step) np.arange(start,stop,step)\n",
    "seq_a = np.arange(1,10,2)\n",
    "array_propeties(seq_a)"
   ]
  },
  {
   "cell_type": "code",
   "execution_count": 52,
   "metadata": {},
   "outputs": [
    {
     "name": "stdout",
     "output_type": "stream",
     "text": [
      "[0 1 2 3 4 5 6 7 8 9]\n",
      "0 | 1 | 2 | 3 | 4 | 5 | 6 | 7 | 8 | 9 | 0 | 1 | 2 | 3 | 4 | 5 | 6 | 7 | 8 | 9 | "
     ]
    }
   ],
   "source": [
    "a10 = np.arange(10)\n",
    "print(a10)\n",
    "for n in range(10):\n",
    "    print(n,end=' | ')\n",
    "\n",
    "\n",
    "for n in a10:\n",
    "    print(n,end=' | ')"
   ]
  },
  {
   "cell_type": "code",
   "execution_count": null,
   "metadata": {},
   "outputs": [],
   "source": [
    "start =1 \n",
    "stop = 10+1\n",
    "step =2\n",
    "ar10b = np.arange(start,stop,step)\n",
    "\n",
    "for n in ar10b:\n",
    "    print(n,end='|')"
   ]
  }
 ],
 "metadata": {
  "interpreter": {
   "hash": "4ad20ef52291b096e87cc7aea8e8264b23503722368d0b94bb53ea6e6c791e77"
  },
  "kernelspec": {
   "display_name": "Python 3.8.12 64-bit ('workbook': conda)",
   "name": "python3"
  },
  "language_info": {
   "codemirror_mode": {
    "name": "ipython",
    "version": 3
   },
   "file_extension": ".py",
   "mimetype": "text/x-python",
   "name": "python",
   "nbconvert_exporter": "python",
   "pygments_lexer": "ipython3",
   "version": "3.8.12"
  },
  "orig_nbformat": 4
 },
 "nbformat": 4,
 "nbformat_minor": 2
}
