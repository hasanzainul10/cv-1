{
 "cells": [
  {
   "cell_type": "code",
   "execution_count": null,
   "metadata": {},
   "outputs": [],
   "source": []
  },
  {
   "cell_type": "code",
   "execution_count": null,
   "metadata": {},
   "outputs": [],
   "source": [
    "#2.2 number of argumentS AND PARAMETER MNUST MATCH\n",
    "def myFunction(fn,sn):\n",
    "    print(fn+\" \"+sn)\n",
    "\n",
    "myFunction(\"mahdieh\",\"nadi\")\n",
    "# giving more or less parameter returns error\n",
    "# myFunction(\"mahdieh\")\n",
    "# myFunction(\"mahdieh\",\"nadi\",\"asa\")"
   ]
  },
  {
   "cell_type": "code",
   "execution_count": 3,
   "metadata": {},
   "outputs": [
    {
     "name": "stdout",
     "output_type": "stream",
     "text": [
      "there are no kids here\n",
      "The youngest child is Muhammad the last item in tuple\n",
      "The youngest child is Majid the last item in tuple\n",
      "The youngest child is majid\n",
      "The youngest child is majid\n"
     ]
    }
   ],
   "source": [
    "# 2.3 arbitary argument : when number of args are not specified use tuple as argument\n",
    "def my_function(*kids):\n",
    "    if len(kids) == 0:\n",
    "        print(\"there are no kids here\")\n",
    "    else:\n",
    "        print(f\"The youngest child is {kids[len(kids)-1]} the last item in tuple\")\n",
    "\n",
    "my_function()\n",
    "my_function(\"Maryam\",\"Muhammad\")\n",
    "my_function(\"Maryam\",\"Muhammad\",\"Majid\")\n",
    "\n",
    "##[3] keyword argument: this will help with unordered argument sending\n",
    "def my_function(child3,child2,child1):\n",
    "    print(f\"The youngest child is {child3}\")\n",
    "\n",
    "my_function(child1=\"marry\",child2=\"muhamad\",child3=\"majid\")\n",
    "my_function(child3=\"majid\",child1=\"marry\",child2=\"muhamad\")"
   ]
  },
  {
   "cell_type": "markdown",
   "metadata": {},
   "source": []
  },
  {
   "cell_type": "code",
   "execution_count": 9,
   "metadata": {},
   "outputs": [
    {
     "name": "stdout",
     "output_type": "stream",
     "text": [
      "{'firstName': 'Mahdieh', 'middleName': 'Nadi', 'lastname': 'seneji'} <class 'dict'>\n",
      "firstName : Mahdieh\n",
      "middleName : Nadi\n",
      "lastname : seneji\n",
      "{'firstName': 'Mahdieh', 'middleName': 'Nadi'} <class 'dict'>\n",
      "firstName : Mahdieh\n",
      "middleName : Nadi\n",
      "{} <class 'dict'>\n",
      "no argument sent\n"
     ]
    }
   ],
   "source": [
    " ##[4] Arbitary keyword argument\n",
    " ##name** is a dictionary\n",
    " def my_function(**name):\n",
    "     print(name, type(name))\n",
    "     if len(name)==0:\n",
    "         print(\"no argument sent\")\n",
    "     else:\n",
    "         for x in name.keys():\n",
    "             print(x, \":\", name[x])\n",
    "\n",
    "my_function(firstName = \"Mahdieh\",middleName = \"Nadi\", lastname = \"seneji\")\n",
    "my_function(firstName = \"Mahdieh\",middleName = \"Nadi\")\n",
    "my_function()\n"
   ]
  },
  {
   "cell_type": "code",
   "execution_count": 11,
   "metadata": {},
   "outputs": [
    {
     "name": "stdout",
     "output_type": "stream",
     "text": [
      "I am from Iran\n",
      "I am from India\n",
      "I am from Malaysia\n",
      "I am from Malaysia\n"
     ]
    }
   ],
   "source": [
    "##[5] Default value for parameter if no args is sent, the default value is used\n",
    "# define by defining value when making the function as below\n",
    "def my_function(country= \"Malaysia\"):\n",
    "    print(f\"I am from {country}\")\n",
    "\n",
    "my_function(\"Iran\")\n",
    "my_function(\"India\")\n",
    "my_function(\"Malaysia\")\n",
    "my_function()"
   ]
  },
  {
   "cell_type": "code",
   "execution_count": 19,
   "metadata": {},
   "outputs": [
    {
     "name": "stdout",
     "output_type": "stream",
     "text": [
      "apple\n",
      "orange\n",
      "pear\n",
      "['pear', 'orange', 'apple']\n",
      "['pear', 'orange', 'apple']\n",
      "['pear', 'orange', 'apple']\n",
      "['apple', 'orange', 'pear']\n"
     ]
    }
   ],
   "source": [
    "##[6] Passing different data types to the function: collections type\n",
    "#\n",
    "def my_function(food):\n",
    "    for x in food:\n",
    "        print(x)\n",
    "\n",
    "\n",
    "fruits = [\"apple\",\"orange\",\"pear\"]\n",
    "my_function(fruits)\n",
    "\n",
    "##6.1 changing parameter with list in function will change the original list too\n",
    "def my_function(food):\n",
    "    food.reverse()\n",
    "    print(food)\n",
    "\n",
    "my_function(fruits)\n",
    "print(fruits) \n",
    "\n",
    "#to avoid this make a copy of the list first \n",
    "fruits = [\"apple\",\"orange\",\"pear\"]\n",
    "def my_function(food):\n",
    "    food_copy = food.copy()\n",
    "    food_copy.reverse()\n",
    "    print(food_copy)\n",
    "\n",
    "my_function(fruits)\n",
    "print(fruits) "
   ]
  },
  {
   "cell_type": "code",
   "execution_count": 6,
   "metadata": {},
   "outputs": [
    {
     "name": "stdout",
     "output_type": "stream",
     "text": [
      "15\n",
      "25\n",
      "45\n"
     ]
    }
   ],
   "source": [
    "#[7] Return value by using return followed by parameter you want it to return\n",
    "def dup_function(x):\n",
    "    return 5 *x\n",
    "\n",
    "print(dup_function(3))\n",
    "print(dup_function(5))\n",
    "print(dup_function(9))"
   ]
  },
  {
   "cell_type": "code",
   "execution_count": 5,
   "metadata": {},
   "outputs": [
    {
     "name": "stdout",
     "output_type": "stream",
     "text": [
      "Factorial of 4 is 24\n"
     ]
    }
   ],
   "source": [
    "##[9] Recursive function\n",
    "\n",
    "def recursiveFunc(n):\n",
    "    if n ==1:\n",
    "        return 1\n",
    "    else:\n",
    "        return n*recursiveFunc(n-1)\n",
    "n=4\n",
    "print(f\"Factorial of {n} is {recursiveFunc(n)}\")"
   ]
  },
  {
   "cell_type": "code",
   "execution_count": 11,
   "metadata": {},
   "outputs": [
    {
     "name": "stdout",
     "output_type": "stream",
     "text": [
      "15\n",
      "18\n"
     ]
    }
   ],
   "source": [
    "## Lambda Function\n",
    "# a smalll anon function\n",
    "# it can take any number of args but can only have one expression\n",
    "\n",
    "##[1]\n",
    "# the function below is x(a) = a+10 in math\n",
    "x = lambda a : a+10\n",
    "print(x(5))\n",
    "\n",
    "##[2]\n",
    "#x = lambda arguments : returns_value\n",
    "# x(a,b,c) = a+b+c\n",
    "##[2] it can take more arguments\n",
    "x =lambda a,b,c : a+b+c\n",
    "print(x(5,6,7))\n",
    "\n"
   ]
  },
  {
   "cell_type": "code",
   "execution_count": 13,
   "metadata": {},
   "outputs": [
    {
     "name": "stdout",
     "output_type": "stream",
     "text": [
      "24\n",
      "36\n"
     ]
    }
   ],
   "source": [
    "##[3] use lambda in functions\n",
    "def myfunc(n):\n",
    "    return lambda a : a*n\n",
    "\n",
    "doubler = myfunc(2) # doubler is now a function of  doubler(a) = 2*a \n",
    "print(doubler(12))\n",
    "tripler = myfunc(3) #tripler is now a function tripler(a) = 3*a\n",
    "print(tripler(12))"
   ]
  },
  {
   "cell_type": "code",
   "execution_count": 5,
   "metadata": {},
   "outputs": [
    {
     "name": "stdout",
     "output_type": "stream",
     "text": [
      "Hello Hasan\n",
      "Goodbye Hasan\n"
     ]
    },
    {
     "ename": "AttributeError",
     "evalue": "module 'myFirstModule' has no attribute 'person1'",
     "output_type": "error",
     "traceback": [
      "\u001b[1;31m---------------------------------------------------------------------------\u001b[0m",
      "\u001b[1;31mAttributeError\u001b[0m                            Traceback (most recent call last)",
      "\u001b[1;32m~\\AppData\\Local\\Temp/ipykernel_10136/3786385070.py\u001b[0m in \u001b[0;36m<module>\u001b[1;34m\u001b[0m\n\u001b[0;32m      8\u001b[0m \u001b[1;33m\u001b[0m\u001b[0m\n\u001b[0;32m      9\u001b[0m \u001b[1;31m#using variable of a module\u001b[0m\u001b[1;33m\u001b[0m\u001b[1;33m\u001b[0m\u001b[1;33m\u001b[0m\u001b[0m\n\u001b[1;32m---> 10\u001b[1;33m \u001b[0mprint\u001b[0m\u001b[1;33m(\u001b[0m\u001b[0mmyFirstModule\u001b[0m\u001b[1;33m.\u001b[0m\u001b[0mperson1\u001b[0m\u001b[1;33m[\u001b[0m\u001b[1;34m\"age\"\u001b[0m\u001b[1;33m]\u001b[0m\u001b[1;33m)\u001b[0m\u001b[1;33m\u001b[0m\u001b[1;33m\u001b[0m\u001b[0m\n\u001b[0m",
      "\u001b[1;31mAttributeError\u001b[0m: module 'myFirstModule' has no attribute 'person1'"
     ]
    }
   ],
   "source": [
    "###MODULE###\n",
    "# import a python file as module using import\n",
    "import myFirstModule\n",
    "name = \"Hasan\"\n",
    "# you can access the functions from the module\n",
    "myFirstModule.greeting(name)\n",
    "myFirstModule.goodbye(name)\n",
    "\n",
    "#using variable of a module\n",
    "print(myFirstModule.person1[\"age\"])\n",
    "# this work on normal python file but not in visual code jupyer"
   ]
  },
  {
   "cell_type": "code",
   "execution_count": 6,
   "metadata": {},
   "outputs": [
    {
     "name": "stdout",
     "output_type": "stream",
     "text": [
      "['__builtins__', '__cached__', '__doc__', '__file__', '__loader__', '__name__', '__package__', '__spec__', 'goodbye', 'greeting']\n"
     ]
    }
   ],
   "source": [
    "# get functions in the module\n",
    "print(dir(myFirstModule))"
   ]
  },
  {
   "cell_type": "code",
   "execution_count": 11,
   "metadata": {},
   "outputs": [
    {
     "ename": "ImportError",
     "evalue": "cannot import name 'person1' from 'myFirstModule' (c:\\Users\\user\\Documents\\GitHub\\cv-1\\workbook\\myFirstModule.py)",
     "output_type": "error",
     "traceback": [
      "\u001b[1;31m---------------------------------------------------------------------------\u001b[0m",
      "\u001b[1;31mImportError\u001b[0m                               Traceback (most recent call last)",
      "\u001b[1;32m~\\AppData\\Local\\Temp/ipykernel_10136/1573057871.py\u001b[0m in \u001b[0;36m<module>\u001b[1;34m\u001b[0m\n\u001b[0;32m      1\u001b[0m \u001b[1;31m# import only chosen part of a module\u001b[0m\u001b[1;33m\u001b[0m\u001b[1;33m\u001b[0m\u001b[1;33m\u001b[0m\u001b[0m\n\u001b[1;32m----> 2\u001b[1;33m \u001b[1;32mfrom\u001b[0m \u001b[0mmyFirstModule\u001b[0m \u001b[1;32mimport\u001b[0m \u001b[0mperson1\u001b[0m\u001b[1;33m\u001b[0m\u001b[1;33m\u001b[0m\u001b[0m\n\u001b[0m\u001b[0;32m      3\u001b[0m \u001b[0mprint\u001b[0m\u001b[1;33m(\u001b[0m\u001b[0mperson1\u001b[0m\u001b[1;33m[\u001b[0m\u001b[1;34m\"age\"\u001b[0m\u001b[1;33m]\u001b[0m\u001b[1;33m)\u001b[0m\u001b[1;33m\u001b[0m\u001b[1;33m\u001b[0m\u001b[0m\n",
      "\u001b[1;31mImportError\u001b[0m: cannot import name 'person1' from 'myFirstModule' (c:\\Users\\user\\Documents\\GitHub\\cv-1\\workbook\\myFirstModule.py)"
     ]
    }
   ],
   "source": [
    "# import only chosen part of a module\n",
    "from myFirstModule import person1\n",
    "print(person1[\"age\"])"
   ]
  },
  {
   "cell_type": "code",
   "execution_count": null,
   "metadata": {},
   "outputs": [],
   "source": [
    "##[4] Built in modules\n"
   ]
  },
  {
   "cell_type": "code",
   "execution_count": 2,
   "metadata": {},
   "outputs": [],
   "source": [
    "\n",
    "import camelcase"
   ]
  },
  {
   "cell_type": "code",
   "execution_count": 2,
   "metadata": {},
   "outputs": [
    {
     "ename": "ModuleNotFoundError",
     "evalue": "No module named 'camelcase'",
     "output_type": "error",
     "traceback": [
      "\u001b[1;31m---------------------------------------------------------------------------\u001b[0m",
      "\u001b[1;31mModuleNotFoundError\u001b[0m                       Traceback (most recent call last)",
      "\u001b[1;32m~\\AppData\\Local\\Temp/ipykernel_25900/4140069033.py\u001b[0m in \u001b[0;36m<module>\u001b[1;34m\u001b[0m\n\u001b[0;32m      9\u001b[0m \u001b[1;31m#use installed package by importing them\u001b[0m\u001b[1;33m\u001b[0m\u001b[1;33m\u001b[0m\u001b[1;33m\u001b[0m\u001b[0m\n\u001b[0;32m     10\u001b[0m \u001b[1;33m\u001b[0m\u001b[0m\n\u001b[1;32m---> 11\u001b[1;33m \u001b[1;32mimport\u001b[0m \u001b[0mcamelcase\u001b[0m\u001b[1;33m\u001b[0m\u001b[1;33m\u001b[0m\u001b[0m\n\u001b[0m\u001b[0;32m     12\u001b[0m \u001b[1;33m\u001b[0m\u001b[0m\n\u001b[0;32m     13\u001b[0m \u001b[0mc\u001b[0m\u001b[1;33m=\u001b[0m\u001b[0mcamelcase\u001b[0m\u001b[1;33m.\u001b[0m\u001b[0mCamelCase\u001b[0m\u001b[1;33m(\u001b[0m\u001b[1;33m)\u001b[0m\u001b[1;33m\u001b[0m\u001b[1;33m\u001b[0m\u001b[0m\n",
      "\u001b[1;31mModuleNotFoundError\u001b[0m: No module named 'camelcase'"
     ]
    }
   ],
   "source": [
    "##PACKAGES###\n",
    "# folder that contains one or more module files\n",
    "\n",
    "#pip = python paxkage installer\n",
    "#check pip version , in cmd pip --version\n",
    "# update pip, pip install --upgrade pip\n",
    "# install packages using pip, pip install packagename\n",
    "#get list of installed packages, pip freeze\n",
    "#use installed package by importing them\n",
    "\n",
    "import camelcase\n",
    "\n",
    "c=camelcase.CamelCase()\n",
    "txt = \"hello warudo\"\n",
    "print(c.hump(txt))\n",
    "\n",
    "# to uninstall package use pip uninstall camelcase\n",
    "\n"
   ]
  },
  {
   "cell_type": "code",
   "execution_count": 1,
   "metadata": {},
   "outputs": [
    {
     "name": "stdout",
     "output_type": "stream",
     "text": [
      "hi hasan\n",
      "1\n",
      "2\n",
      "3\n",
      "4\n"
     ]
    }
   ],
   "source": [
    "# CREATING PACKAGE##\n",
    "# create a folder and name it as the package name\n",
    "# create an empty python file named __init__.py\n",
    "# create  python file that will be your module in the same folder\n",
    "\n",
    "from hasanPackage import hasan\n",
    "\n",
    "hasan.greeting(\"hasan\")\n",
    "hasan.countTo(5)\n"
   ]
  },
  {
   "cell_type": "code",
   "execution_count": 18,
   "metadata": {},
   "outputs": [
    {
     "name": "stdout",
     "output_type": "stream",
     "text": [
      "Hello wald\n"
     ]
    }
   ],
   "source": [
    "##FILE HANDLING##\n",
    "# open file:\n",
    "# modes :\n",
    "# 'r'- read.defaault value. Opens file for reading, return error if file doesnt exist\n",
    "# \"a\"- append. open file for appending file to another file. create the file if file doesnt exist.\n",
    "# \"w\"- write. open file for writing, create file if file doesnt exist\n",
    "# \"x\"- create. create specified file, returns error if file already exist\n",
    "\n",
    "# typees of file\n",
    "# \"t\"- Text. default value. Text mode\n",
    "# \"b\"- Binary. Bianry mode, ie: images\n",
    "\n",
    "import os\n",
    "\n",
    "f =open(\"myFirstFile.txt\",'w')\n",
    "f.write(\"Hello wald\")\n",
    "# file need to be closed for the changes to be saved\n",
    "f.close()\n",
    "\n",
    "\n",
    "f1=open(\"myFirstFile.txt\",'r')\n",
    "# print the whole file\n",
    "# print(f1.read(10))\n",
    "\n",
    "# print the file up to specified amount of characters\n",
    "# print(f1.read(5))\n",
    "\n",
    "# print a line\n",
    "print(f1.readline())\n",
    "\n",
    "f1.close()\n",
    "\n",
    "\n",
    "\n"
   ]
  },
  {
   "cell_type": "code",
   "execution_count": null,
   "metadata": {},
   "outputs": [],
   "source": [
    "##DELETING FILE##\n",
    "import os\n",
    "\n",
    "os.remove(\"ChangedFile.csv\")\n",
    "print(\"File Removed!\")"
   ]
  }
 ],
 "metadata": {
  "interpreter": {
   "hash": "4ad20ef52291b096e87cc7aea8e8264b23503722368d0b94bb53ea6e6c791e77"
  },
  "kernelspec": {
   "display_name": "Python 3.8.12 64-bit ('workbook': conda)",
   "name": "python3"
  },
  "language_info": {
   "codemirror_mode": {
    "name": "ipython",
    "version": 3
   },
   "file_extension": ".py",
   "mimetype": "text/x-python",
   "name": "python",
   "nbconvert_exporter": "python",
   "pygments_lexer": "ipython3",
   "version": "3.8.12"
  },
  "orig_nbformat": 4
 },
 "nbformat": 4,
 "nbformat_minor": 2
}
