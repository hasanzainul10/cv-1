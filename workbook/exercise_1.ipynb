{
 "cells": [
  {
   "cell_type": "code",
   "execution_count": 18,
   "id": "5af09af7-f396-459b-ae23-a4424e18ec94",
   "metadata": {},
   "outputs": [
    {
     "name": "stdin",
     "output_type": "stream",
     "text": [
      " Enter your name:  Inamul\n",
      "Enter your age:  21\n",
      "Enter your email:  hasasa\n",
      "Enter your address:  3, kp32\n",
      "Your state:  melaka\n",
      "Country you are living : malaysia\n",
      "Enter your ic number:  000807870059\n",
      "What is your gender? : Male\n",
      "Enter you phone number : 0137052725\n",
      "Are you married : No\n",
      "Have you receive your vaccine ? : Yes\n"
     ]
    }
   ],
   "source": [
    "name = input(\" Enter your name: \")\n",
    "age = input(\"Enter your age: \")\n",
    "email = input(\"Enter your email: \")\n",
    "address = input(\"Enter your address: \")\n",
    "state = input(\"Your state: \")\n",
    "country = input(\"Country you are living :\")\n",
    "ic_num = input(\"Enter your ic number: \")\n",
    "gender = input(\"What is your gender? :\")\n",
    "phone_num = input(\"Enter you phone number :\")  \n",
    "marital_status = input(\"Your marital status :\")\n",
    "vaccination_status = input(\"Have you receive your vaccine ? :\")\n"
   ]
  },
  {
   "cell_type": "code",
   "execution_count": null,
   "id": "f0fda649-e807-4b5b-8120-ca040c14fe94",
   "metadata": {},
   "outputs": [],
   "source": []
  },
  {
   "cell_type": "code",
   "execution_count": 2,
   "id": "297d3248-7a70-4094-bc7e-8822395c7363",
   "metadata": {},
   "outputs": [
    {
     "name": "stdout",
     "output_type": "stream",
     "text": [
      "Your name is Hasan and your age is 10.\n"
     ]
    }
   ],
   "source": [
    "print(f\"The name is {name} and I am {age} years old.\")"
   ]
  },
  {
   "cell_type": "code",
   "execution_count": 19,
   "id": "e7158d2d-7e86-42a8-a7a0-0802870310de",
   "metadata": {},
   "outputs": [
    {
     "name": "stdout",
     "output_type": "stream",
     "text": [
      " Name : Inamul    Age : 21    Gender : Male  \n",
      " IC number : 000807870059    Address : 3, kp32  \n",
      " Country : malaysia    State : melaka \n",
      " Email : hasasa    Phone number : 0137052725 \n",
      " Marital_status : No    Vaccination_status : Yes\n"
     ]
    }
   ],
   "source": [
    "print(f\" Name : {name}    Age : {age}    Gender : {gender}  \\n IC number : {ic_num}    Address : {address}  \\n Country : {country}    State : {state} \\n Email : {email}    Phone number : {phone_num} \\n Marital_status : {marital_status}    Vaccination_status : {vaccination_status}\")"
   ]
  }
 ],
 "metadata": {
  "kernelspec": {
   "display_name": "Python 3",
   "language": "python",
   "name": "python3"
  },
  "language_info": {
   "codemirror_mode": {
    "name": "ipython",
    "version": 3
   },
   "file_extension": ".py",
   "mimetype": "text/x-python",
   "name": "python",
   "nbconvert_exporter": "python",
   "pygments_lexer": "ipython3",
   "version": "3.8.8"
  }
 },
 "nbformat": 4,
 "nbformat_minor": 5
}
