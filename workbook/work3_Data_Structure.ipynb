{
 "cells": [
  {
   "cell_type": "code",
   "execution_count": 9,
   "metadata": {},
   "outputs": [
    {
     "name": "stdout",
     "output_type": "stream",
     "text": [
      "plum\n",
      "['banana', 'cherry', 'plum', 'pear']\n",
      "['banana', 'strawberry', 'cherry', 'plum', 'pear']\n",
      "['banana', 'strawberry', 'cherry', 'plum']\n",
      "3\n",
      "4\n",
      "Number of banana in te list :2\n",
      "Sorted list ['banana', 'banana', 'cherry', 'plum', 'strawberry']\n",
      "[]\n"
     ]
    }
   ],
   "source": [
    "# Data structure\n",
    "\n",
    "##LIST##\n",
    "#list is iterable, ordered and can consist of variables of different data type\n",
    "fruits = ['banana', 'cherry', 'plum']\n",
    "\n",
    "# negative index return values from end of list eg -1 return first value from behind\n",
    "print(fruits[-1])\n",
    "\n",
    "# append insert value to the end of the list\n",
    "fruits.append('pear')\n",
    "print(fruits)\n",
    "\n",
    "# insert is like append but you can specify the index for it to be insert at\n",
    "# the indexes of the variables will be changed accordingly\n",
    "fruits.insert(1,'strawberry')\n",
    "print(fruits)\n",
    "\n",
    "# remove(var) ,delete the first instance of specified value \n",
    "fruits.remove('pear')\n",
    "print(fruits)\n",
    "\n",
    "# index return the index of specified value in the list\n",
    "print(fruits.index('plum'))\n",
    "\n",
    "# len(list) return length of list(number of elements in the list)\n",
    "print(len(fruits))\n",
    "\n",
    "# list.count(element), calculate the number of instances \n",
    "# of the specified elementin the list\n",
    "fruits.append('banana')\n",
    "print(f\"Number of banana in te list :{fruits.count('banana')}\") \n",
    "\n",
    "# list.sort() sort list in ascending order\n",
    "fruits.sort()\n",
    "print(f\"Sorted list : {fruits}\")\n",
    "\n",
    "\n",
    "# clear() remove everything from the list\n",
    "fruits.clear()\n",
    "print(fruits)\n",
    "\n",
    "\n"
   ]
  },
  {
   "cell_type": "code",
   "execution_count": 22,
   "metadata": {},
   "outputs": [
    {
     "name": "stdout",
     "output_type": "stream",
     "text": [
      "<class 'tuple'>\n",
      "<class 'tuple'>\n",
      "<class 'tuple'>\n",
      "<class 'tuple'>\n",
      "('proton', 'produa', 'honda', 'tesla')\n",
      "honda\n",
      "produa\n",
      "0\n",
      "1\n",
      "<class 'list'>\n",
      "<class 'tuple'>\n",
      "('proton', 'honda', 'tesla', 'bmw')\n"
     ]
    }
   ],
   "source": [
    "##TUPLE##\n",
    "# Mostly same as list but\n",
    "#  tuple cannot be changed, once its defined we cant append remove.\n",
    "\n",
    "# Defining Tuple\n",
    "empty_tuple = ()\n",
    "print(type(empty_tuple))\n",
    "\n",
    "new_tuple = tuple((\"a\",\"b\",\"c\"))\n",
    "print(type(new_tuple))\n",
    "\n",
    "tuple_with_single_element = (\"me\",)\n",
    "print(type(tuple_with_single_element))\n",
    "\n",
    "cars = (\"proton\",\"produa\",\"honda\",\"tesla\")\n",
    "print(type(cars))\n",
    "\n",
    "print(cars)\n",
    "\n",
    "# Like list, tuple is indexable\n",
    "print(cars[2])\n",
    "print(cars[-3])\n",
    "\n",
    "# Get index of the given elements\n",
    "print(cars.index(\"proton\"))\n",
    "\n",
    "# Get the number of instances of the given elements in the tuple.\n",
    "print(cars.count(\"proton\"))\n",
    "\n",
    "# change tuple to list to make it changeable using type casting\n",
    "cars_list=list(cars)\n",
    "print(type(cars_list))\n",
    "cars_list.append('bmw')\n",
    "cars_list.remove('produa')\n",
    "\n",
    "# change list back to tupe using type casting.\n",
    "cars = tuple(cars_list)\n",
    "print(type(cars))\n",
    "print(cars)\n",
    "\n",
    "\n"
   ]
  },
  {
   "cell_type": "code",
   "execution_count": 29,
   "metadata": {},
   "outputs": [
    {
     "name": "stdout",
     "output_type": "stream",
     "text": [
      "{'d', 'c', 'a', 'b'}\n",
      "{'a'}\n",
      "{'b', 'a', 'd', 'e', 'c'}\n",
      "{'b', 'a', 'd', 'e', 'c'}\n",
      "{'a', 'd', 'e', 'c'}\n",
      "True\n",
      "True\n",
      "{'e', 'c'}\n",
      "{'c'}\n"
     ]
    }
   ],
   "source": [
    "##SET##\n",
    "\n",
    "#{}, Sets is unordered, no index, no duplicate elements,changeable\n",
    "# Elements are referd by their value rather than index\n",
    "# Don't allow duplicate element, unlike list and tuple. \n",
    "# eg: L{\"a\",\"a\",\"b\"} is not allowed. the second a will not appear when printed\n",
    "\n",
    "# Defining set\n",
    "s= {\"a\",\"b\",\"c\",\"d\"}\n",
    "print(s)\n",
    "\n",
    "s0={\"a\",\"a\"}\n",
    "print(s0)\n",
    "\n",
    "# add another element to the set\n",
    "s.add(\"e\")\n",
    "print(s)\n",
    "# if added element already present in the set, it will not be added\n",
    "s.add(\"a\")\n",
    "print(s)\n",
    "\n",
    "# remove element from set\n",
    "s.remove(\"b\")\n",
    "print(s)\n",
    "\n",
    "s1 = {'a', 'b','c','d'}\n",
    "s2 = {'a','b'}\n",
    "# if remove non existing element from set it will return an error\n",
    "# s.remove(\"z\")\n",
    "\n",
    "# discard will remove if element is in set, and wont do anything if its not in the set\n",
    "s.discard(\"a\")\n",
    "s.discard(\"z\")\n",
    "\n",
    "# check if a set is a superset/subset of another set\n",
    "print(s1.issuperset(s2))\n",
    "print(s2.issubset(s1))\n",
    "\n",
    "# s.pop() remove the top element of the set\n",
    "# if pop emty set, it will return an error\n",
    "s.pop()\n",
    "print(s)\n",
    "s.pop()\n",
    "print(s)\n",
    "\n",
    "# remove all  item from set\n",
    "s.clear()\n"
   ]
  },
  {
   "cell_type": "code",
   "execution_count": 30,
   "metadata": {},
   "outputs": [
    {
     "name": "stdout",
     "output_type": "stream",
     "text": [
      "x: [1, 2, 3]\n",
      "y [1, 2, 3]\n",
      "x: [1, 2, 3, 4]\n",
      "y [1, 2, 3, 4]\n"
     ]
    }
   ],
   "source": [
    "##Tips3#\n",
    "x = [1,2,3]\n",
    "# when we use list = list1 , the y value will also change when we change values in x.\n",
    "# its not an assignment.\n",
    "y = x \n",
    "print(\"x:\",x)\n",
    "print(\"y\",y)\n",
    "x.append(4)\n",
    "print(\"x:\",x)\n",
    "print(\"y\",y)"
   ]
  },
  {
   "cell_type": "code",
   "execution_count": 32,
   "metadata": {},
   "outputs": [
    {
     "name": "stdout",
     "output_type": "stream",
     "text": [
      "x: [1, 2, 3]\n",
      "y [1, 2, 3]\n",
      "x: [1, 2, 3, 4]\n",
      "y [1, 2, 3]\n"
     ]
    }
   ],
   "source": [
    "# For data structure, we use list.copy() for assigning it to another list\n",
    "x = [1,2,3]\n",
    "y = x.copy() \n",
    "print(\"x:\",x)\n",
    "print(\"y\",y)\n",
    "x.append(4)\n",
    "print(\"x:\",x)\n",
    "print(\"y\",y)\n"
   ]
  },
  {
   "cell_type": "code",
   "execution_count": 48,
   "metadata": {},
   "outputs": [
    {
     "name": "stdout",
     "output_type": "stream",
     "text": [
      "{'brand': 'benz', 'speed': 200, 'color': 'black'}\n",
      "{'brand': 'ferrari', 'speed': 200, 'color': 'black'}\n",
      "<class 'dict'>\n",
      "ferrari\n",
      "200\n",
      "keys of dictionary : dict_keys(['brand', 'speed', 'color'])\n",
      "<class 'dict_keys'>\n",
      "values of dictionary : dict_values(['ferrari', 200, 'black'])\n",
      "<class 'dict_values'>\n",
      "dict_items([('brand', 'ferrari'), ('speed', 200), ('color', 'black')])\n",
      "{'brand': 'tesla', 'speed': 200, 'color': 'black'}\n",
      "{'brand': 'tesla', 'speed': 200, 'color': 'black', 'model': 'model x'}\n"
     ]
    }
   ],
   "source": [
    "##DICTIONARY##\n",
    "# Defining dicitionary\n",
    "# d = {key : value}\n",
    "\n",
    "# no duplicate key, if same key used, the later value will replace the earlier value.\n",
    "cars = {\"brand\" : \"benz\", \"speed\" : 200, \"color\" : \"black\"}\n",
    "print(cars)\n",
    "# if duplicate key are made the first value are replaced by the new value\n",
    "cars = {\"brand\" : \"benz\",\"brand\" : \"ferrari\", \"speed\" : 200, \"color\" : \"black\"}\n",
    "print(cars)\n",
    "\n",
    "print(type(cars))\n",
    "\n",
    "# accessing element is by using key\n",
    "print(cars[\"brand\"])\n",
    "print(cars[\"speed\"])\n",
    "\n",
    "# get dictionary keys\n",
    "k= cars.keys()\n",
    "print(f\"keys of dictionary : {k}\")\n",
    "print(type(k))\n",
    "\n",
    "# get dictionary values\n",
    "v = cars.values()\n",
    "print(f\"values of dictionary : {v}\")\n",
    "print(type(v))\n",
    "\n",
    "# print key pair tuple\n",
    "i = cars.items()\n",
    "print(i)\n",
    "\n",
    "# change a value \n",
    "cars[\"brand\"] = \"tesla\"\n",
    "print(cars)  \n",
    "\n",
    "# ading new key value pair to dictionary\n",
    "cars[\"model\"] = \"model x\"\n",
    "print(cars)\n",
    "\n",
    "\n",
    "\n"
   ]
  },
  {
   "cell_type": "code",
   "execution_count": null,
   "metadata": {},
   "outputs": [],
   "source": []
  },
  {
   "cell_type": "code",
   "execution_count": null,
   "metadata": {},
   "outputs": [],
   "source": [
    "## CONDITIONS AND LOOPS ##"
   ]
  },
  {
   "cell_type": "code",
   "execution_count": 53,
   "metadata": {},
   "outputs": [
    {
     "name": "stdout",
     "output_type": "stream",
     "text": [
      "4  is bigger than  3\n",
      "this prints after if else statement ends\n"
     ]
    },
    {
     "data": {
      "text/plain": [
       "True"
      ]
     },
     "execution_count": 53,
     "metadata": {},
     "output_type": "execute_result"
    }
   ],
   "source": [
    "# if statement\n",
    "x = 4\n",
    "y = 3\n",
    "if x<y:\n",
    "    print(x,\" is lesser than \",y)\n",
    "elif x==y:\n",
    "    print(x,\" is equal to \", y)\n",
    "else:\n",
    "    print(x,\" is bigger than \",y)\n",
    "\n",
    "print(\"this prints after if else statement ends\")\n",
    "\n",
    "# value comparison returns True or False\n",
    "x<y # x is smaller than y\n",
    "x<=y # x is smaller or equal to y\n",
    "x>y # x is bigger than y\n",
    "x>=y # x is bigger or equal than y\n",
    "x==y # x is equal to y\n",
    "x!=y # x is not equal y\n"
   ]
  },
  {
   "cell_type": "code",
   "execution_count": null,
   "metadata": {},
   "outputs": [],
   "source": [
    "##LOOPS##\n",
    "# loops while, for\n",
    "\n",
    "# this loop will print 1 to 6 once.\n",
    "i =1\n",
    "while i <=6:\n",
    "    print(i)\n",
    "    i +=1\n",
    "\n",
    "# this loop will print 1 infinitely because the stop condition cant be met \n",
    "# i =1\n",
    "# while i <=6:\n",
    "#     print(i)\n"
   ]
  },
  {
   "cell_type": "code",
   "execution_count": 1,
   "metadata": {},
   "outputs": [
    {
     "name": "stdout",
     "output_type": "stream",
     "text": [
      "1\n",
      "2\n",
      "4\n",
      "5\n",
      "6\n"
     ]
    }
   ],
   "source": [
    "i=0\n",
    "while i < 6:\n",
    "    i = i+1\n",
    "    if i == 3:\n",
    "        continue\n",
    "    else:\n",
    "        print(i)"
   ]
  },
  {
   "cell_type": "code",
   "execution_count": 2,
   "metadata": {},
   "outputs": [
    {
     "name": "stdout",
     "output_type": "stream",
     "text": [
      "1\n",
      "2\n"
     ]
    }
   ],
   "source": [
    "i=0\n",
    "while i < 6:\n",
    "    i = i+1\n",
    "    if i == 3:\n",
    "        break\n",
    "    else:\n",
    "        print(i)"
   ]
  },
  {
   "cell_type": "code",
   "execution_count": 9,
   "metadata": {},
   "outputs": [
    {
     "name": "stdout",
     "output_type": "stream",
     "text": [
      "a\n",
      "c\n",
      "b\n",
      "\n",
      "\n",
      "a 1\n",
      "b 2\n",
      "c 3\n",
      "\n",
      "\n",
      "0\n",
      "1\n",
      "2\n",
      "3\n",
      "4\n",
      "5\n",
      "6\n",
      "\n",
      "\n",
      "2\n",
      "3\n",
      "4\n",
      "5\n",
      "6\n",
      "\n",
      "\n",
      "2\n",
      "4\n",
      "6\n"
     ]
    }
   ],
   "source": [
    "##FOR LOOP##\n",
    "l = {\"a\",\"b\",\"c\"}\n",
    "for x in l:\n",
    "    print(x)\n",
    "\n",
    "print(\"\\n\")\n",
    "d = {\"a\":1,\"b\":2,\"c\":3}\n",
    "for x in d:\n",
    "    # print key and value\n",
    "    print(x,d[x])\n",
    "\n",
    "print(\"\\n\")\n",
    "\n",
    "# range(start,stop,step)\n",
    "# range(stop)\n",
    "# range(start,stop)\n",
    "for i in range(7):\n",
    "    print(i)\n",
    "\n",
    "print(\"\\n\")\n",
    "for i in range(2,7):\n",
    "    print(i)\n",
    "\n",
    "print(\"\\n\")\n",
    "for i in range(2,7,2):\n",
    "    print(i)"
   ]
  }
 ],
 "metadata": {
  "interpreter": {
   "hash": "1baa965d5efe3ac65b79dfc60c0d706280b1da80fedb7760faf2759126c4f253"
  },
  "kernelspec": {
   "display_name": "Python 3.8.8 64-bit",
   "name": "python3"
  },
  "language_info": {
   "codemirror_mode": {
    "name": "ipython",
    "version": 3
   },
   "file_extension": ".py",
   "mimetype": "text/x-python",
   "name": "python",
   "nbconvert_exporter": "python",
   "pygments_lexer": "ipython3",
   "version": "3.8.8"
  },
  "orig_nbformat": 4
 },
 "nbformat": 4,
 "nbformat_minor": 2
}
