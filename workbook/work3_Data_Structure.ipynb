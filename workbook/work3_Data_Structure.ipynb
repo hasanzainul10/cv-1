{
 "cells": [
  {
   "cell_type": "code",
   "execution_count": 4,
   "metadata": {},
   "outputs": [
    {
     "name": "stdout",
     "output_type": "stream",
     "text": [
      "plum\n",
      "['banana', 'cherry', 'plum', 'pear']\n",
      "['banana', 'strawberry', 'cherry', 'plum', 'pear']\n",
      "['banana', 'strawberry', 'cherry', 'plum']\n",
      "3\n",
      "[]\n"
     ]
    }
   ],
   "source": [
    "# Data structure\n",
    "\n",
    "#list is iterable, ordered and can consist of variables of different data type\n",
    "fruits = ['banana', 'cherry', 'plum']\n",
    "\n",
    "# negative index return values from end of list eg -1 return first value from behind\n",
    "print(fruits[-1])\n",
    "\n",
    "# append insert value to the end of the list\n",
    "fruits.append('pear')\n",
    "print(fruits)\n",
    "\n",
    "# insert is like append but you can specify the index for it to be insert at\n",
    "# the indexes of the variables will be changed accordingly\n",
    "fruits.insert(1,'strawberry')\n",
    "print(fruits)\n",
    "\n",
    "# remove(var) ,delete the first instance of specified value \n",
    "fruits.remove('pear')\n",
    "print(fruits)\n",
    "\n",
    "# index return the index of specified value in the list\n",
    "print(fruits.index('plum'))\n",
    "\n",
    "# clear() remove everything from the list\n",
    "fruits.clear()\n",
    "print(fruits)\n",
    "\n"
   ]
  }
 ],
 "metadata": {
  "interpreter": {
   "hash": "1baa965d5efe3ac65b79dfc60c0d706280b1da80fedb7760faf2759126c4f253"
  },
  "kernelspec": {
   "display_name": "Python 3.8.8 64-bit",
   "name": "python3"
  },
  "language_info": {
   "codemirror_mode": {
    "name": "ipython",
    "version": 3
   },
   "file_extension": ".py",
   "mimetype": "text/x-python",
   "name": "python",
   "nbconvert_exporter": "python",
   "pygments_lexer": "ipython3",
   "version": "3.8.8"
  },
  "orig_nbformat": 4
 },
 "nbformat": 4,
 "nbformat_minor": 2
}
