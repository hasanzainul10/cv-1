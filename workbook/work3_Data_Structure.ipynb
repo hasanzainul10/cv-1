{
 "cells": [
  {
   "cell_type": "code",
   "execution_count": 9,
   "metadata": {},
   "outputs": [
    {
     "name": "stdout",
     "output_type": "stream",
     "text": [
      "plum\n",
      "['banana', 'cherry', 'plum', 'pear']\n",
      "['banana', 'strawberry', 'cherry', 'plum', 'pear']\n",
      "['banana', 'strawberry', 'cherry', 'plum']\n",
      "3\n",
      "4\n",
      "Number of banana in te list :2\n",
      "Sorted list ['banana', 'banana', 'cherry', 'plum', 'strawberry']\n",
      "[]\n"
     ]
    }
   ],
   "source": [
    "# Data structure\n",
    "\n",
    "##LIST##\n",
    "#list is iterable, ordered and can consist of variables of different data type\n",
    "fruits = ['banana', 'cherry', 'plum']\n",
    "\n",
    "# negative index return values from end of list eg -1 return first value from behind\n",
    "print(fruits[-1])\n",
    "\n",
    "# append insert value to the end of the list\n",
    "fruits.append('pear')\n",
    "print(fruits)\n",
    "\n",
    "# insert is like append but you can specify the index for it to be insert at\n",
    "# the indexes of the variables will be changed accordingly\n",
    "fruits.insert(1,'strawberry')\n",
    "print(fruits)\n",
    "\n",
    "# remove(var) ,delete the first instance of specified value \n",
    "fruits.remove('pear')\n",
    "print(fruits)\n",
    "\n",
    "# index return the index of specified value in the list\n",
    "print(fruits.index('plum'))\n",
    "\n",
    "# len(list) return length of list(number of elements in the list)\n",
    "print(len(fruits))\n",
    "\n",
    "# list.count(element), calculate the number of instances \n",
    "# of the specified elementin the list\n",
    "fruits.append('banana')\n",
    "print(f\"Number of banana in te list :{fruits.count('banana')}\") \n",
    "\n",
    "# list.sort() sort list in ascending order\n",
    "fruits.sort()\n",
    "print(f\"Sorted list : {fruits}\")\n",
    "\n",
    "\n",
    "# clear() remove everything from the list\n",
    "fruits.clear()\n",
    "print(fruits)\n",
    "\n",
    "\n"
   ]
  },
  {
   "cell_type": "code",
   "execution_count": 22,
   "metadata": {},
   "outputs": [
    {
     "name": "stdout",
     "output_type": "stream",
     "text": [
      "<class 'tuple'>\n",
      "<class 'tuple'>\n",
      "<class 'tuple'>\n",
      "<class 'tuple'>\n",
      "('proton', 'produa', 'honda', 'tesla')\n",
      "honda\n",
      "produa\n",
      "0\n",
      "1\n",
      "<class 'list'>\n",
      "<class 'tuple'>\n",
      "('proton', 'honda', 'tesla', 'bmw')\n"
     ]
    }
   ],
   "source": [
    "##TUPLE##\n",
    "# Mostly same as list but\n",
    "#  tuple cannot be changed, once its defined we cant append remove.\n",
    "\n",
    "# Defining Tuple\n",
    "empty_tuple = ()\n",
    "print(type(empty_tuple))\n",
    "\n",
    "new_tuple = tuple((\"a\",\"b\",\"c\"))\n",
    "print(type(new_tuple))\n",
    "\n",
    "tuple_with_single_element = (\"me\",)\n",
    "print(type(tuple_with_single_element))\n",
    "\n",
    "cars = (\"proton\",\"produa\",\"honda\",\"tesla\")\n",
    "print(type(cars))\n",
    "\n",
    "print(cars)\n",
    "\n",
    "# Like list, tuple is indexable\n",
    "print(cars[2])\n",
    "print(cars[-3])\n",
    "\n",
    "# Get index of the given elements\n",
    "print(cars.index(\"proton\"))\n",
    "\n",
    "# Get the number of instances of the given elements in the tuple.\n",
    "print(cars.count(\"proton\"))\n",
    "\n",
    "# change tuple to list to make it changeable using type casting\n",
    "cars_list=list(cars)\n",
    "print(type(cars_list))\n",
    "cars_list.append('bmw')\n",
    "cars_list.remove('produa')\n",
    "\n",
    "# change list back to tupe using type casting.\n",
    "cars = tuple(cars_list)\n",
    "print(type(cars))\n",
    "print(cars)\n",
    "\n",
    "\n"
   ]
  },
  {
   "cell_type": "code",
   "execution_count": 28,
   "metadata": {},
   "outputs": [
    {
     "name": "stdout",
     "output_type": "stream",
     "text": [
      "{'d', 'c', 'a', 'b'}\n",
      "{'a'}\n",
      "{'b', 'a', 'd', 'e', 'c'}\n",
      "{'b', 'a', 'd', 'e', 'c'}\n",
      "{'a', 'd', 'e', 'c'}\n",
      "{'d', 'e', 'c'}\n",
      "{'e', 'c'}\n"
     ]
    }
   ],
   "source": [
    "##SET##\n",
    "\n",
    "#{}, Sets is unordered, no index, no duplicate elements,changeable\n",
    "# Elements are referd by their value rather than index\n",
    "# Don't allow duplicate element, unlike list and tuple. \n",
    "# eg: L{\"a\",\"a\",\"b\"} is not allowed. the second a will not appear when printed\n",
    "\n",
    "# Defining set\n",
    "s= {\"a\",\"b\",\"c\",\"d\"}\n",
    "print(s)\n",
    "\n",
    "s1={\"a\",\"a\"}\n",
    "print(s1)\n",
    "\n",
    "# add another element to the set\n",
    "s.add(\"e\")\n",
    "print(s)\n",
    "# if added element already present in the set, it will not be added\n",
    "s.add(\"a\")\n",
    "print(s)\n",
    "\n",
    "# remove element from list\n",
    "s.remove(\"b\")\n",
    "print(s)\n",
    "\n",
    "# s.pop() remove the top element of the set\n",
    "# if pop emty set, it will return an error\n",
    "s.pop()\n",
    "print(s)\n",
    "s.pop()\n",
    "print(s)\n",
    "\n",
    "# remove all  item from set\n",
    "s.clear()\n"
   ]
  }
 ],
 "metadata": {
  "interpreter": {
   "hash": "1baa965d5efe3ac65b79dfc60c0d706280b1da80fedb7760faf2759126c4f253"
  },
  "kernelspec": {
   "display_name": "Python 3.8.8 64-bit",
   "name": "python3"
  },
  "language_info": {
   "codemirror_mode": {
    "name": "ipython",
    "version": 3
   },
   "file_extension": ".py",
   "mimetype": "text/x-python",
   "name": "python",
   "nbconvert_exporter": "python",
   "pygments_lexer": "ipython3",
   "version": "3.8.8"
  },
  "orig_nbformat": 4
 },
 "nbformat": 4,
 "nbformat_minor": 2
}
