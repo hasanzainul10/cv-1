{
 "cells": [
  {
   "cell_type": "code",
   "execution_count": null,
   "id": "fea64373-e389-49c4-901e-29e750215488",
   "metadata": {},
   "outputs": [],
   "source": [
    "# Question 1"
   ]
  },
  {
   "cell_type": "code",
   "execution_count": 23,
   "id": "8d1e25db-90b6-4d15-abfe-2a21c425659e",
   "metadata": {},
   "outputs": [
    {
     "name": "stdout",
     "output_type": "stream",
     "text": [
      "Dear Mr. Goke, \n",
      "\n",
      "   I am writing to apply for the AI programmer position advertised in the Perantis website.\n",
      "\n",
      "The role is very appealing to me as a Computer Vision enthusiast, and I believed my experience in the field  and my ability to adapt quickly with new environment and technology would be valuable for the team. Listed below are some of my key strengths that may help you to support my success for this position : \n",
      "   1. I have took part in designing and developing Computer Visions solutions during my internship.\n",
      "   2. I strive to continually improve my knowledge and keep my skillset up to date.\n",
      "   3. I am punctual in doing my task and if I am unable to keep the dateline I will always inform earlier to avoid negative impact on the project I am working on.\n",
      "\n",
      "With a BS degree in Computer Science. I assure you that I have a comprehensive understanding of the lifecyle of a software development projects. I also have experience in learning and applying new technologies whenever it is appropiate to do so. Do take a look at my attached resume for more info on my experience.\n",
      "\n",
      "I can be contacted anytime via email at hasanzainul10@gmail.com or by phone call on 013-705 2725.\n",
      "\n",
      "Thank you for your time and consideration. I look forward to your reply.\n",
      "\n",
      "Sincerly,\n",
      "Inamul Hasan Bin Zainul Akramin\n"
     ]
    }
   ],
   "source": [
    "print(\"Dear Mr. Goke, \\n\\n   I am writing to apply for the AI programmer position advertised in the Perantis website.\")\n",
    "print(\"\")\n",
    "print(\"The role is very appealing to me as a Computer Vision enthusiast, and I believed my experience in the field  and my ability to adapt quickly with new environment and technology would be valuable for the team. Listed below are some of my key strengths that may help you to support my success for this position : \")\n",
    "print(\"   1. I have took part in designing and developing Computer Visions solutions during my internship.\")\n",
    "print(\"   2. I strive to continually improve my knowledge and keep my skillset up to date.\")\n",
    "print(\"   3. I am punctual in doing my task and if I am unable to keep the dateline I will always inform earlier to avoid negative impact on the project I am working on.\")\n",
    "print(\"\")\n",
    "print(\"With a BS degree in Computer Science. I assure you that I have a comprehensive understanding of the lifecyle of a software development projects. I also have experience in learning and applying new technologies whenever it is appropiate to do so. Do take a look at my attached resume for more info on my experience.\")\n",
    "print(\"\")\n",
    "print(\"I can be contacted anytime via email at hasanzainul10@gmail.com or by phone call on 013-705 2725.\")\n",
    "print(\"\")\n",
    "print(\"Thank you for your time and consideration. I look forward to your reply.\")\n",
    "print(\"\")\n",
    "print(\"Sincerly,\\nInamul Hasan Bin Zainul Akramin\")"
   ]
  },
  {
   "cell_type": "code",
   "execution_count": 25,
   "id": "c3a69bd0-1a8a-4b7c-9a7a-447f6419639e",
   "metadata": {},
   "outputs": [],
   "source": [
    "# Question 2\n",
    "import math"
   ]
  },
  {
   "cell_type": "code",
   "execution_count": 24,
   "id": "6e0c3574-3925-4b8b-81c6-9885e1c8dae3",
   "metadata": {},
   "outputs": [],
   "source": [
    "a, b, c = 2, 8, 1"
   ]
  },
  {
   "cell_type": "code",
   "execution_count": 27,
   "id": "924d7dab-31ca-4c40-98ac-39bc7a081eba",
   "metadata": {},
   "outputs": [
    {
     "name": "stdout",
     "output_type": "stream",
     "text": [
      "-0.12917130661302934\n"
     ]
    }
   ],
   "source": [
    "x1 = (-b + math.sqrt(pow(b,2)-(4*a*c)))/(2*a)\n",
    "print(x1)"
   ]
  },
  {
   "cell_type": "code",
   "execution_count": 30,
   "id": "8fb8ca35-3669-4bd1-949d-e8de30acd210",
   "metadata": {},
   "outputs": [
    {
     "name": "stdout",
     "output_type": "stream",
     "text": [
      "-3.8708286933869704\n"
     ]
    }
   ],
   "source": [
    "x2 = (-b - math.sqrt(pow(b,2)-(4*a*c)))/(2*a)\n",
    "print(x2)"
   ]
  },
  {
   "cell_type": "code",
   "execution_count": null,
   "id": "6e96ca5e-7e26-4a30-8ab6-df3fa099969a",
   "metadata": {},
   "outputs": [],
   "source": []
  }
 ],
 "metadata": {
  "kernelspec": {
   "display_name": "Python 3",
   "language": "python",
   "name": "python3"
  },
  "language_info": {
   "codemirror_mode": {
    "name": "ipython",
    "version": 3
   },
   "file_extension": ".py",
   "mimetype": "text/x-python",
   "name": "python",
   "nbconvert_exporter": "python",
   "pygments_lexer": "ipython3",
   "version": "3.8.8"
  }
 },
 "nbformat": 4,
 "nbformat_minor": 5
}
